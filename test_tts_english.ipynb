{
 "cells": [
  {
   "cell_type": "code",
   "execution_count": 21,
   "metadata": {},
   "outputs": [],
   "source": [
    "from utils.text_to_speech import TextToSpeech, VOICES"
   ]
  },
  {
   "cell_type": "code",
   "execution_count": 22,
   "metadata": {},
   "outputs": [
    {
     "name": "stdout",
     "output_type": "stream",
     "text": [
      "Dataframe saved to /Users/stevie/repos/lingo_kit_data/data/dataframe.csv\n"
     ]
    }
   ],
   "source": [
    "tts = TextToSpeech()"
   ]
  },
  {
   "cell_type": "code",
   "execution_count": null,
   "metadata": {},
   "outputs": [
    {
     "name": "stdout",
     "output_type": "stream",
     "text": [
      "synthesizing...\n",
      "<speak>\n",
      "            <break time=\"120ms\"/>\n",
      "            <prosody rate=\"0.92\" pitch=\"-1st\">\n",
      "                <p><s>he has.<break time=\"500ms\"/>she has.<break time=\"500ms\"/>you (formal) have.</s></p>\n",
      "            </prosody>\n",
      "            <break time=\"120ms\"/>\n",
      "        </speak>\n"
     ]
    }
   ],
   "source": [
    "# text = 'he takes/she takes/you (formal) takes'\n",
    "# text = 'gone out/left'\n",
    "# text = 'he used to go out/she used to go out/you (formal) used to go out'\n",
    "# text = 'beautiful (masculine)'\n",
    "# text = 'beautiful (feminine plural)'\n",
    "# text = 'to the (masculine singular before s+consonant or z)'\n",
    "# text = 'from the hotels'\n",
    "# text = 'equally/likewise'\n",
    "# text = 'another one (feminine)'\n",
    "# text = 'assets/possessions'\n",
    "# text = 'he has/she has/you (formal) have'\n",
    "text = 'to the (before vowel)'\n",
    "lang = 'english'\n",
    "if lang == 'english':\n",
    "    gender = 'female'\n",
    "    speaking_rate = 0.92\n",
    "else:\n",
    "    assert(lang == 'italian')\n",
    "    gender = 'male'\n",
    "    speaking_rate = 0.7\n",
    "# this is a fix to make short words like \"a\" or \"the\" followed by parenthesis to sound too short\n",
    "synth_obj = tts.synthesize(\n",
    "    text=text,\n",
    "    voice_name=VOICES[lang][gender],\n",
    "    speaking_rate=speaking_rate,\n",
    "    verbose=True,\n",
    "    force_generate=True,\n",
    ")"
   ]
  },
  {
   "cell_type": "code",
   "execution_count": 24,
   "metadata": {},
   "outputs": [
    {
     "data": {
      "text/plain": [
       "{'hash': '2708e404cd09a8b93a7711ba47875230f402f7692cabbf9fd2130433669a051f',\n",
       " 'text': 'he has/she has/you (formal) have',\n",
       " 'audio_file': '/Users/stevie/repos/lingo_kit_data/data/audio/2708e404cd09a8b93a7711ba47875230f402f7692cabbf9fd2130433669a051f.mp3',\n",
       " 'synthesis_time': 0.47248916601529345,\n",
       " 'voice_name': 'en-US-Neural2-C',\n",
       " 'speaking_rate': 0.92,\n",
       " 'pitch': 0,\n",
       " 'duration_ms': 4296}"
      ]
     },
     "execution_count": 24,
     "metadata": {},
     "output_type": "execute_result"
    }
   ],
   "source": [
    "synth_obj"
   ]
  },
  {
   "cell_type": "code",
   "execution_count": 25,
   "metadata": {},
   "outputs": [
    {
     "name": "stdout",
     "output_type": "stream",
     "text": [
      "/Users/stevie/repos/lingo_kit_data/data/audio/2708e404cd09a8b93a7711ba47875230f402f7692cabbf9fd2130433669a051f.mp3\n"
     ]
    }
   ],
   "source": [
    "path = synth_obj['audio_file']\n",
    "print(path)"
   ]
  },
  {
   "cell_type": "code",
   "execution_count": null,
   "metadata": {},
   "outputs": [],
   "source": []
  },
  {
   "cell_type": "code",
   "execution_count": null,
   "metadata": {},
   "outputs": [],
   "source": []
  }
 ],
 "metadata": {
  "kernelspec": {
   "display_name": "venv",
   "language": "python",
   "name": "python3"
  },
  "language_info": {
   "codemirror_mode": {
    "name": "ipython",
    "version": 3
   },
   "file_extension": ".py",
   "mimetype": "text/x-python",
   "name": "python",
   "nbconvert_exporter": "python",
   "pygments_lexer": "ipython3",
   "version": "3.12.8"
  }
 },
 "nbformat": 4,
 "nbformat_minor": 2
}
