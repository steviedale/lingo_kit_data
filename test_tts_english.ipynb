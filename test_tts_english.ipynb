{
 "cells": [
  {
   "cell_type": "code",
   "execution_count": null,
   "metadata": {},
   "outputs": [],
   "source": [
    "from utils.text_to_speech import TextToSpeech, VOICES"
   ]
  },
  {
   "cell_type": "code",
   "execution_count": null,
   "metadata": {},
   "outputs": [],
   "source": [
    "tts = TextToSpeech()"
   ]
  },
  {
   "cell_type": "code",
   "execution_count": null,
   "metadata": {},
   "outputs": [],
   "source": [
    "# text = 'he takes/she takes/you (formal) takes'\n",
    "# text = 'gone out/left'\n",
    "# text = 'he used to go out/she used to go out/you (formal) used to go out'\n",
    "# text = 'beautiful (masculine)'\n",
    "# text = 'beautiful (feminine plural)'\n",
    "# text = 'to the (masculine singular before s+consonant or z)'\n",
    "# text = 'from the hotels'\n",
    "# text = 'equally/likewise'\n",
    "# text = 'another one (feminine)'\n",
    "# text = 'assets/possessions'\n",
    "# text = 'he has/she has/you (formal) have'\n",
    "# text = 'to the (before vowel)'\n",
    "# text = 'ourselves/each other'\n",
    "# text = 'he did/made/she did/made/you (formal) did/made'\n",
    "text = 'he did/he made/she did/ she made/you (formal) did/you (formal) made'\n",
    "\n",
    "lang = 'english'\n",
    "if lang == 'english':\n",
    "    gender = 'female'\n",
    "    speaking_rate = 0.92\n",
    "else:\n",
    "    assert(lang == 'italian')\n",
    "    gender = 'male'\n",
    "    speaking_rate = 0.7\n",
    "# this is a fix to make short words like \"a\" or \"the\" followed by parenthesis to sound too short\n",
    "synth_obj = tts.synthesize(\n",
    "    text=text,\n",
    "    voice_name=VOICES[lang][gender],\n",
    "    speaking_rate=speaking_rate,\n",
    "    verbose=True,\n",
    "    force_generate=True,\n",
    ")"
   ]
  },
  {
   "cell_type": "code",
   "execution_count": null,
   "metadata": {},
   "outputs": [],
   "source": [
    "synth_obj"
   ]
  },
  {
   "cell_type": "code",
   "execution_count": null,
   "metadata": {},
   "outputs": [],
   "source": [
    "path = synth_obj['audio_file']\n",
    "print(path)"
   ]
  },
  {
   "cell_type": "code",
   "execution_count": null,
   "metadata": {},
   "outputs": [],
   "source": []
  },
  {
   "cell_type": "code",
   "execution_count": null,
   "metadata": {},
   "outputs": [],
   "source": []
  }
 ],
 "metadata": {
  "kernelspec": {
   "display_name": "venv",
   "language": "python",
   "name": "python3"
  },
  "language_info": {
   "codemirror_mode": {
    "name": "ipython",
    "version": 3
   },
   "file_extension": ".py",
   "mimetype": "text/x-python",
   "name": "python",
   "nbconvert_exporter": "python",
   "pygments_lexer": "ipython3",
   "version": "3.12.8"
  }
 },
 "nbformat": 4,
 "nbformat_minor": 2
}
