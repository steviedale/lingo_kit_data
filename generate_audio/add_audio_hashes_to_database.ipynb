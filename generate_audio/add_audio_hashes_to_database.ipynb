{
 "cells": [
  {
   "cell_type": "code",
   "execution_count": null,
   "metadata": {},
   "outputs": [],
   "source": [
    "import os\n",
    "import pandas as pd\n",
    "import sys\n",
    "from tqdm import tqdm\n",
    "import time\n",
    "sys.path.append('/Users/stevie/repos/lingo_kit_data')\n",
    "\n",
    "from utils.backend.api import (\n",
    "    get_term_by_id, update_term_audio, get_term_translation_by_id, update_term_translation_audio,\n",
    "    get_term_translation_id, get_term_id, get_term_translation_id_list\n",
    ")"
   ]
  },
  {
   "cell_type": "code",
   "execution_count": null,
   "metadata": {},
   "outputs": [],
   "source": [
    "# df = pd.read_csv('/Users/stevie/repos/lingo_kit_data/dataframes/dataframe_with_audio.csv')\n",
    "df = pd.read_csv('/Users/stevie/repos/lingo_kit_data/dataframes/dataframe_with_audio_status.csv')\n",
    "len(df), df.columns"
   ]
  },
  {
   "cell_type": "code",
   "execution_count": null,
   "metadata": {},
   "outputs": [],
   "source": [
    "row = df.iloc[0]"
   ]
  },
  {
   "cell_type": "code",
   "execution_count": null,
   "metadata": {},
   "outputs": [],
   "source": [
    "term_id = get_term_id(row['term_italian'])\n",
    "term_id"
   ]
  },
  {
   "cell_type": "code",
   "execution_count": null,
   "metadata": {},
   "outputs": [],
   "source": [
    "term_translation_id = get_term_translation_id(\n",
    "    term_italian_id=term_id,\n",
    "    part_of_speech=row['part_of_speech'], \n",
    "    translation_english=row['translation_english']\n",
    ")\n",
    "term_translation_id"
   ]
  },
  {
   "cell_type": "code",
   "execution_count": null,
   "metadata": {},
   "outputs": [],
   "source": [
    "print(get_term_by_id(term_id)['audio_hash_italian'])\n",
    "# resp = update_term_audio(term_id, '333')\n",
    "print(get_term_by_id(term_id)['audio_hash_italian'])"
   ]
  },
  {
   "cell_type": "code",
   "execution_count": null,
   "metadata": {},
   "outputs": [],
   "source": [
    "print(get_term_translation_by_id(term_translation_id)['audio_hash_english'])\n",
    "# resp = update_term_translation_audio(term_translation_id, 'aaa')\n",
    "print(get_term_translation_by_id(term_translation_id)['audio_hash_english'])"
   ]
  },
  {
   "cell_type": "code",
   "execution_count": null,
   "metadata": {},
   "outputs": [],
   "source": [
    "df['english_audio_hash'].isna().sum(), df['italian_audio_hash'].isna().sum()"
   ]
  },
  {
   "cell_type": "code",
   "execution_count": null,
   "metadata": {},
   "outputs": [],
   "source": [
    "df['status'].value_counts()"
   ]
  },
  {
   "cell_type": "code",
   "execution_count": null,
   "metadata": {},
   "outputs": [],
   "source": [
    "for i, row in tqdm(df.iterrows(), total=len(df)):\n",
    "    try:\n",
    "        term_id = get_term_id(row['term_italian'])\n",
    "        term_translation_id = get_term_translation_id(\n",
    "            term_italian_id=term_id, \n",
    "            part_of_speech=row['part_of_speech'], \n",
    "            translation_english=row['translation_english']\n",
    "        )\n",
    "        update_term_audio(term_id, row['italian_audio_hash'])\n",
    "        update_term_translation_audio(term_translation_id, row['english_audio_hash'])\n",
    "        df.loc[i, 'status'] = 'success'\n",
    "    except Exception as e:\n",
    "        print(f\"Error processing {row}: {e}\")\n",
    "        df.loc[i, 'status'] = f'error: {e}'\n",
    "    if i % 10 == 0:\n",
    "        df.to_csv('/Users/stevie/repos/lingo_kit_data/dataframes/dataframe_with_audio_status.csv', index=False)"
   ]
  },
  {
   "cell_type": "code",
   "execution_count": null,
   "metadata": {},
   "outputs": [],
   "source": [
    "iter_df = df[df['status'] != 'success']\n",
    "for i, row in tqdm(iter_df.iterrows(), total=len(iter_df)):\n",
    "    try:\n",
    "        term_id = get_term_id(row['term_italian'])\n",
    "        update_term_audio(term_id, row['italian_audio_hash'])\n",
    "\n",
    "        term_translation_id_list = get_term_translation_id_list(\n",
    "            term_italian_id=term_id, \n",
    "            part_of_speech=row['part_of_speech'], \n",
    "            translation_english=row['translation_english']\n",
    "        )\n",
    "        for term_translation_id in term_translation_id_list:\n",
    "            update_term_translation_audio(term_translation_id, row['english_audio_hash'])\n",
    "\n",
    "        df.loc[i, 'status'] = 'success'\n",
    "    except Exception as e:\n",
    "        print(f\"Error processing {row}: {e}\")\n",
    "        df.loc[i, 'status'] = f'error: {e}'\n",
    "    if i % 10 == 0:\n",
    "        df.to_csv('/Users/stevie/repos/lingo_kit_data/dataframes/dataframe_with_audio_status.csv', index=False)"
   ]
  },
  {
   "cell_type": "code",
   "execution_count": null,
   "metadata": {},
   "outputs": [],
   "source": [
    "df.to_csv('/Users/stevie/repos/lingo_kit_data/dataframes/dataframe_with_audio_status.csv', index=False)"
   ]
  },
  {
   "cell_type": "code",
   "execution_count": null,
   "metadata": {},
   "outputs": [],
   "source": [
    "# Name: 2702, dtype: object: Warning: multiple TermTranslations found for \"2514\" (pron) -> \"myself\": \n",
    "# [\n",
    "#     {'id': 2704, 'term': 2514, 'base_lemma': 257, 'translation_english': 'myself', 'part_of_speech': 'pron', 'gender': 'n/a', 'plurality': 's', 'article_type': None, 'article_italian': None, 'preposition': None, 'example_sentence_italian': 'Mi sveglio presto.', 'example_sentence_english': 'I wake up early.', 'audio_hash_english': None, 'notes': 'clitic before the verb; with reflexive verbs'}, \n",
    "#     {'id': 2740, 'term': 2514, 'base_lemma': 266, 'translation_english': 'myself', 'part_of_speech': 'pron', 'gender': 'n/a', 'plurality': 'n/a', 'article_type': None, 'article_italian': None, 'preposition': None, 'example_sentence_italian': 'Mi sveglio presto.', 'example_sentence_english': 'I wake up early.', 'audio_hash_english': None, 'notes': 'first-person reflexive; clitic'}\n",
    "# ]"
   ]
  },
  {
   "cell_type": "code",
   "execution_count": null,
   "metadata": {},
   "outputs": [],
   "source": [
    "# Name: 2761, dtype: object: Warning: multiple TermTranslations found for \"2544\" (pron) -> \"everyone/each one (feminine)\": [\n",
    "#     {'id': 2761, 'term': 2544, 'base_lemma': 269, 'translation_english': 'everyone/each one (feminine)', 'part_of_speech': 'pron', 'gender': 'f', 'plurality': 's', 'article_type': None, 'article_italian': None, 'preposition': None, 'example_sentence_italian': 'Ognuna ha diritto di parlare.', 'example_sentence_english': 'Each one has the right to speak.', 'audio_hash_english': None, 'notes': \"feminine form; singular only; often followed by 'di'\"}, \n",
    "#     {'id': 2763, 'term': 2544, 'base_lemma': 270, 'translation_english': 'everyone/each one (feminine)', 'part_of_speech': 'pron', 'gender': 'f', 'plurality': 's', 'article_type': None, 'article_italian': None, 'preposition': None, 'example_sentence_italian': 'Ognuna porta qualcosa.', 'example_sentence_english': 'Each one brings something.', 'audio_hash_english': None, 'notes': 'feminine form of \"ognuno\"'}\n",
    "# ]"
   ]
  }
 ],
 "metadata": {
  "kernelspec": {
   "display_name": "venv",
   "language": "python",
   "name": "python3"
  },
  "language_info": {
   "codemirror_mode": {
    "name": "ipython",
    "version": 3
   },
   "file_extension": ".py",
   "mimetype": "text/x-python",
   "name": "python",
   "nbconvert_exporter": "python",
   "pygments_lexer": "ipython3",
   "version": "3.12.8"
  }
 },
 "nbformat": 4,
 "nbformat_minor": 2
}
