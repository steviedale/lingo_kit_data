{
 "cells": [
  {
   "cell_type": "code",
   "execution_count": null,
   "metadata": {},
   "outputs": [],
   "source": [
    "# load in environment variable\n",
    "import os\n",
    "PATH_TO_REPO = os.getenv('PATH_TO_REPO')\n",
    "assert PATH_TO_REPO is not None, \"Please set PATH_TO_REPO environment variable\""
   ]
  },
  {
   "cell_type": "code",
   "execution_count": null,
   "metadata": {},
   "outputs": [],
   "source": [
    "import os\n",
    "import pandas as pd\n",
    "from tqdm import tqdm\n",
    "import yaml\n",
    "import requests\n",
    "import hashlib\n",
    "import uuid\n",
    "\n",
    "import sys\n",
    "sys.path.append(PATH_TO_REPO)\n",
    "from utils.audio.text_to_speech import TextToSpeech, VOICES\n",
    "from utils.s3.upload_to_s3 import upload_file"
   ]
  },
  {
   "cell_type": "code",
   "execution_count": null,
   "metadata": {},
   "outputs": [],
   "source": [
    "df = pd.read_csv(os.path.join(PATH_TO_REPO, 'dataframes/combined_and_reorganized.csv'))\n",
    "len(df), df.columns"
   ]
  },
  {
   "cell_type": "code",
   "execution_count": null,
   "metadata": {},
   "outputs": [],
   "source": [
    "tts = TextToSpeech()"
   ]
  },
  {
   "cell_type": "code",
   "execution_count": null,
   "metadata": {},
   "outputs": [],
   "source": [
    "def get_term_hash(english_text, italian_text):\n",
    "    hash = str(uuid.uuid5(uuid.NAMESPACE_DNS, f\"{english_text}-{italian_text}\"))\n",
    "    return hash\n",
    "print(get_term_hash('person', 'persone'))"
   ]
  },
  {
   "cell_type": "code",
   "execution_count": null,
   "metadata": {},
   "outputs": [],
   "source": [
    "def parse_topics(topics_str):\n",
    "    assert(topics_str[0] == '[' and topics_str[-1] == ']')\n",
    "    topics_str = topics_str[1:-1]  # remove brackets\n",
    "    topics = topics_str.split(',')\n",
    "    return topics\n",
    "\n",
    "def get_language_key(lang):\n",
    "    if lang == 'english':\n",
    "        return 'en'\n",
    "    elif lang == 'italian':\n",
    "        return 'it'\n",
    "    else:\n",
    "        raise ValueError(f\"Unknown language: {lang}\")\n",
    "\n",
    "def get_audio_hash(text, voice_name, speaking_rate, pitch):\n",
    "    param_str = f\"{text}{voice_name}{speaking_rate:.2f}{pitch:.2f}\"\n",
    "    hash_object = hashlib.sha256(param_str.encode('utf-8'))\n",
    "    hash_key = hash_object.hexdigest()\n",
    "    return hash_key"
   ]
  },
  {
   "cell_type": "code",
   "execution_count": null,
   "metadata": {},
   "outputs": [],
   "source": [
    "for i, row in tqdm(df.iterrows(), total=len(df)):\n",
    "\n",
    "    for lang in 'english', 'italian':\n",
    "        if lang == 'english':\n",
    "            gender = 'female'\n",
    "            speaking_rate = 0.92\n",
    "            text = row['translation_english']\n",
    "        else:\n",
    "            assert(lang == 'italian')\n",
    "            gender = 'male'\n",
    "            speaking_rate = 0.7\n",
    "            text = row['term_italian']\n",
    "\n",
    "        # this is a fix to make short words like \"a\" or \"the\" followed by parenthesis to sound too short\n",
    "        synth_obj = tts.synthesize(\n",
    "            text=text,\n",
    "            voice_name=VOICES[lang][gender],\n",
    "            speaking_rate=speaking_rate,\n",
    "            verbose=False,\n",
    "        )\n",
    "\n",
    "        local_hash = get_audio_hash(\n",
    "            text=text,\n",
    "            voice_name=VOICES[lang][gender],\n",
    "            speaking_rate=speaking_rate,\n",
    "            pitch=synth_obj['pitch'],\n",
    "        )\n",
    "        assert(local_hash == synth_obj['hash']), f\"Hash mismatch: {local_hash} != {synth_obj['hash']}\"\n",
    "\n",
    "        # upload audio file to s3\n",
    "        file_path = os.path.join(PATH_TO_REPO, synth_obj['audio_file'])\n",
    "        assert(os.path.exists(file_path)), f\"File does not exist: {file_path}\"\n",
    "        upload_file(file_path=file_path, verbose=False)\n",
    "\n",
    "        df.loc[i, f'{lang}_audio_hash'] = local_hash"
   ]
  },
  {
   "cell_type": "code",
   "execution_count": null,
   "metadata": {},
   "outputs": [],
   "source": [
    "tts.save()"
   ]
  },
  {
   "cell_type": "code",
   "execution_count": null,
   "metadata": {},
   "outputs": [],
   "source": [
    "df = pd.read_csv(os.path.join(PATH_TO_REPO, 'dataframes/dataframe_with_audio.csv'))"
   ]
  },
  {
   "cell_type": "code",
   "execution_count": null,
   "metadata": {},
   "outputs": [],
   "source": [
    "df.to_csv(os.path.join(PATH_TO_REPO, 'dataframes/dataframe_with_audio.csv'), index=False)"
   ]
  },
  {
   "cell_type": "code",
   "execution_count": null,
   "metadata": {},
   "outputs": [],
   "source": [
    "df['italian_audio_hash'].isna().sum()"
   ]
  },
  {
   "cell_type": "code",
   "execution_count": null,
   "metadata": {},
   "outputs": [],
   "source": [
    "df['english_audio_hash'].isna().sum()"
   ]
  },
  {
   "cell_type": "code",
   "execution_count": null,
   "metadata": {},
   "outputs": [],
   "source": [
    "df['english_audio_hash']"
   ]
  },
  {
   "cell_type": "code",
   "execution_count": null,
   "metadata": {},
   "outputs": [],
   "source": [
    "len(tts.df)"
   ]
  },
  {
   "cell_type": "code",
   "execution_count": null,
   "metadata": {},
   "outputs": [],
   "source": [
    "len(tts.df)"
   ]
  },
  {
   "cell_type": "code",
   "execution_count": null,
   "metadata": {},
   "outputs": [],
   "source": [
    "df.columns"
   ]
  },
  {
   "cell_type": "code",
   "execution_count": null,
   "metadata": {},
   "outputs": [],
   "source": [
    "# # get the audio file from s3\n",
    "# hash = '9cb7f04b82b5485738f6606c67a1cd43dceadc2c42e006eec2f6dc254ec95d71'\n",
    "row = df.iloc[2]\n",
    "print(row)\n",
    "# def get_audio_hash(text, voice_name, speaking_rate, pitch):\n",
    "for lang in 'english', 'italian':\n",
    "    if lang == 'english':\n",
    "        gender = 'female'\n",
    "        speaking_rate = 0.92\n",
    "    else:\n",
    "        assert(lang == 'italian')\n",
    "        gender = 'male'\n",
    "        speaking_rate = 0.7\n",
    "        \n",
    "    hash = get_audio_hash(\n",
    "        text=row[f'{lang}_term'],\n",
    "        voice_name=VOICES[lang][gender],\n",
    "        speaking_rate=speaking_rate,\n",
    "        pitch=0,\n",
    "    )\n",
    "    url = f\"https://steviedale-language-app.s3.us-east-1.amazonaws.com/{hash}.mp3\"\n",
    "    file = requests.get(url)\n",
    "    with open(f'test_{lang}.mp3', 'wb') as f:\n",
    "        f.write(file.content)"
   ]
  },
  {
   "cell_type": "code",
   "execution_count": null,
   "metadata": {},
   "outputs": [],
   "source": [
    "\n",
    "# url = f\"https://steviedale-language-app.s3.us-east-1.amazonaws.com/1ed73913-49ff-52ef-898e-eface7fd9f89.mp3\""
   ]
  },
  {
   "cell_type": "code",
   "execution_count": null,
   "metadata": {},
   "outputs": [],
   "source": [
    "terms = requests.get(\n",
    "    'http://127.0.0.1:8000/terms',\n",
    ").json()\n",
    "len(terms)"
   ]
  },
  {
   "cell_type": "code",
   "execution_count": null,
   "metadata": {},
   "outputs": [],
   "source": []
  }
 ],
 "metadata": {
  "kernelspec": {
   "display_name": "venv",
   "language": "python",
   "name": "python3"
  },
  "language_info": {
   "codemirror_mode": {
    "name": "ipython",
    "version": 3
   },
   "file_extension": ".py",
   "mimetype": "text/x-python",
   "name": "python",
   "nbconvert_exporter": "python",
   "pygments_lexer": "ipython3",
   "version": "3.12.8"
  }
 },
 "nbformat": 4,
 "nbformat_minor": 2
}
