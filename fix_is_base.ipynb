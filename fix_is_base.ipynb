{
 "cells": [
  {
   "cell_type": "code",
   "execution_count": null,
   "metadata": {},
   "outputs": [],
   "source": [
    "import pandas as pd\n",
    "import os"
   ]
  },
  {
   "cell_type": "code",
   "execution_count": null,
   "metadata": {},
   "outputs": [],
   "source": [
    "df = pd.read_csv('/Users/stevie/repos/lingo_kit_data/dataframes/category_data.csv')\n",
    "len(df), df.columns"
   ]
  },
  {
   "cell_type": "code",
   "execution_count": null,
   "metadata": {},
   "outputs": [],
   "source": [
    "for base in df['english_base_term'].unique():\n",
    "    subset = df[df['english_base_term'] == base]\n",
    "    found = False\n",
    "    for i, row in subset.iterrows():\n",
    "        if 'to '+row['english_base_term'] == row['english_term']:\n",
    "            found = True\n",
    "    if found:\n",
    "        print(base)\n",
    "        df.loc[subset.index, 'english_base_term'] = 'to ' + base"
   ]
  },
  {
   "cell_type": "code",
   "execution_count": null,
   "metadata": {},
   "outputs": [],
   "source": [
    "df['both_base_terms'] = df['english_base_term'] + ' | ' + df['italian_base_term']"
   ]
  },
  {
   "cell_type": "code",
   "execution_count": null,
   "metadata": {},
   "outputs": [],
   "source": [
    "df['both_base_terms'].nunique()"
   ]
  },
  {
   "cell_type": "code",
   "execution_count": null,
   "metadata": {},
   "outputs": [],
   "source": [
    "df['is_base'] = 'unknown'\n",
    "count_dict = {}\n",
    "for both_base in df['both_base_terms'].unique():\n",
    "    subset = df[df['both_base_terms'] == both_base]\n",
    "    if len(subset) == 1:\n",
    "        df.loc[subset.index, 'is_base'] = True\n",
    "        continue\n",
    "    \n",
    "    if len(subset) == 2:\n",
    "        masc_mask = subset[subset['english_term'].str.contains('masculine')]\n",
    "        fem_mask = subset[subset['english_term'].str.contains('feminine')]\n",
    "        if len(masc_mask) == 1 and len(fem_mask) == 1:\n",
    "            df.loc[masc_mask.index, 'is_base'] = True\n",
    "            df.loc[fem_mask.index, 'is_base'] = False\n",
    "            continue\n",
    "\n",
    "    if len(subset) == 2:\n",
    "        item1 = subset.iloc[0]\n",
    "        item2 = subset.iloc[1]\n",
    "        eng1 = item1['english_term']\n",
    "        eng2 = item2['english_term']\n",
    "        if eng1.endswith('(plural)') and eng1 + ' (plural)' == eng2:\n",
    "            df.loc[subset.index, 'is_base'] = [False, True]\n",
    "            continue\n",
    "        if eng2.endswith('(plural)') and eng2 + ' (plural)' == eng1:\n",
    "            df.loc[subset.index, 'is_base'] = [True, False]\n",
    "    \n",
    "    if len(subset) == 4:\n",
    "        masc_mask = subset[subset['english_term'].apply(lambda x: x.endswith('(masculine)'))]\n",
    "        fem_mask = subset[subset['english_term'].apply(lambda x: x.endswith('(feminine)'))]\n",
    "        masc_plural_mask = subset[subset['english_term'].apply(lambda x: x.endswith('(masculine) (plural)'))]\n",
    "        fem_plural_mask = subset[subset['english_term'].apply(lambda x: x.endswith('(feminine) (plural)'))]\n",
    "        if (len(masc_mask) == 1 and len(fem_mask) == 1 and\n",
    "            len(masc_plural_mask) == 1 and len(fem_plural_mask) == 1):\n",
    "            df.loc[masc_mask.index, 'is_base'] = True\n",
    "            df.loc[fem_mask.index, 'is_base'] = False\n",
    "            df.loc[masc_plural_mask.index, 'is_base'] = False\n",
    "            df.loc[fem_plural_mask.index, 'is_base'] = False\n",
    "            continue\n",
    "    \n",
    "    english_base_term, italian_base_term = both_base.split(' | ')\n",
    "    mask = (subset['english_term'] == english_base_term) & (subset['italian_term'] == italian_base_term)\n",
    "    n = mask.sum()\n",
    "    if n not in count_dict:\n",
    "        count_dict[n] = 0\n",
    "    count_dict[n] += 1\n",
    "    if n == 1:\n",
    "        df.loc[mask.index, 'is_base'] = mask\n",
    "count_dict"
   ]
  },
  {
   "cell_type": "code",
   "execution_count": null,
   "metadata": {},
   "outputs": [],
   "source": [
    "print((df['is_base'] == True).sum())\n",
    "print((df['is_base'] == False).sum())"
   ]
  },
  {
   "cell_type": "code",
   "execution_count": null,
   "metadata": {},
   "outputs": [],
   "source": [
    "df.sort_values('both_base_terms', inplace=True)"
   ]
  },
  {
   "cell_type": "code",
   "execution_count": null,
   "metadata": {},
   "outputs": [],
   "source": [
    "df.drop(columns=['both_base_terms'], inplace=True)"
   ]
  },
  {
   "cell_type": "code",
   "execution_count": null,
   "metadata": {},
   "outputs": [],
   "source": [
    "df.to_csv('/Users/stevie/repos/lingo_kit_data/dataframes/category_data.csv', index=False)"
   ]
  },
  {
   "cell_type": "code",
   "execution_count": null,
   "metadata": {},
   "outputs": [],
   "source": []
  }
 ],
 "metadata": {
  "kernelspec": {
   "display_name": "venv",
   "language": "python",
   "name": "python3"
  },
  "language_info": {
   "codemirror_mode": {
    "name": "ipython",
    "version": 3
   },
   "file_extension": ".py",
   "mimetype": "text/x-python",
   "name": "python",
   "nbconvert_exporter": "python",
   "pygments_lexer": "ipython3",
   "version": "3.12.8"
  }
 },
 "nbformat": 4,
 "nbformat_minor": 2
}
