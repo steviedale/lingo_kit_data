{
 "cells": [
  {
   "cell_type": "code",
   "execution_count": 1,
   "metadata": {},
   "outputs": [
    {
     "name": "stderr",
     "output_type": "stream",
     "text": [
      "/Users/stevie/repos/language_app/venv/lib/python3.9/site-packages/urllib3/__init__.py:35: NotOpenSSLWarning: urllib3 v2 only supports OpenSSL 1.1.1+, currently the 'ssl' module is compiled with 'LibreSSL 2.8.3'. See: https://github.com/urllib3/urllib3/issues/3020\n",
      "  warnings.warn(\n"
     ]
    }
   ],
   "source": [
    "from google.cloud import texttospeech\n",
    "import pandas as pd\n",
    "import os\n",
    "import time\n",
    "# for guid generation\n",
    "import uuid"
   ]
  },
  {
   "cell_type": "code",
   "execution_count": 2,
   "metadata": {},
   "outputs": [],
   "source": [
    "data_dir = 'data'\n",
    "\n",
    "save_dir = 'data/audio'\n",
    "df_path = 'data/dataframe.csv'\n",
    "\n",
    "if not os.path.exists(save_dir):\n",
    "    os.makedirs(save_dir)\n",
    "\n",
    "if not os.path.exists(df_path):\n",
    "    df = pd.DataFrame(columns=['text_hash', 'text', 'audio_file', 'synthesis_time', 'voice_name', 'speaking_rate', 'pitch'])\n",
    "else:\n",
    "    df = pd.read_csv(df_path)"
   ]
  },
  {
   "cell_type": "code",
   "execution_count": null,
   "metadata": {},
   "outputs": [],
   "source": [
    "VOICES = {\n",
    "    'it': {\n",
    "        'male': 'it-IT-Wavenet-D',\n",
    "        'female': 'it-IT-Wavenet-C',\n",
    "    },\n",
    "    'en': {\n",
    "        'male': 'en-US-Wavenet-D',\n",
    "        'female': 'en-US-Wavenet-C',\n",
    "    },\n",
    "}\n",
    "\n",
    "class TextToSpeech:\n",
    "\n",
    "    def __init__(self):\n",
    "        self.client = texttospeech.TextToSpeechClient()\n",
    "        self.voice = texttospeech.VoiceSelectionParams(language_code=\"it-IT\")\n",
    "        self.audio_config = texttospeech.AudioConfig(audio_encoding=texttospeech.AudioEncoding.MP3)\n",
    "\n",
    "    def synthesize(self, text, speaking_rate=0.75, voice_name=\"it-IT-Wavenet-D\", pitch=0):\n",
    "        self.voice.name = voice_name\n",
    "        self.audio_config.speaking_rate = speaking_rate\n",
    "        self.audio_config.pitch = pitch\n",
    "        synthesis_input = texttospeech.SynthesisInput(text=text)\n",
    "\n",
    "        # hash text\n",
    "        guid = uuid.uuid5(uuid.NAMESPACE_DNS, str(hash(f\"{text}{voice_name}{speaking_rate:.2f}{pitch}\")))\n",
    "\n",
    "        audio_file = f'{save_dir}/{guid}.mp3'\n",
    "\n",
    "        # check if text already exists\n",
    "        if df[(df['text'] == text) & (df['speaking_rate'] == speaking_rate)].shape[0] > 0:\n",
    "            s_df = df[df['text'] == text]\n",
    "            assert(s_df.shape[0] == 1)\n",
    "            row = s_df.iloc[0]\n",
    "            assert(row['guid'] == guid)\n",
    "            assert(row['audio_file'] == audio_file)\n",
    "\n",
    "        else:\n",
    "            print(\"synthesizing...\")\n",
    "            # Synthesize speech\n",
    "            t0 = time.perf_counter()\n",
    "            # response = self.client.synthesize_speech(input=synthesis_input, voice=self.voice, audio_config=self.audio_config)\n",
    "            t1 = time.perf_counter()\n",
    "            synthesis_time = t1 - t0\n",
    "\n",
    "            # save audio\n",
    "            # with open(audio_file, \"wb\") as out:\n",
    "            #     out.write(response.audio_content) \n",
    "\n",
    "            # store in dataframe\n",
    "            df.loc[df.shape[0]] = [guid, text, audio_file, synthesis_time, voice_name, speaking_rate, pitch]\n",
    "            row = df.iloc[-1]\n",
    "\n",
    "            # TODO: put this in destructor\n",
    "            df.to_csv(df_path, index=False)\n",
    "\n",
    "        return dict(row)"
   ]
  },
  {
   "cell_type": "code",
   "execution_count": 4,
   "metadata": {},
   "outputs": [],
   "source": [
    "tts = TextToSpeech()"
   ]
  },
  {
   "cell_type": "code",
   "execution_count": 5,
   "metadata": {},
   "outputs": [
    {
     "name": "stdout",
     "output_type": "stream",
     "text": [
      "synthesizing...\n",
      "synthesizing...\n"
     ]
    }
   ],
   "source": [
    "phrase = 'Ciao, come stai?'\n",
    "ret = tts.synthesize(phrase, speaking_rate=0.5)\n",
    "ret = tts.synthesize(phrase, speaking_rate=0.75)"
   ]
  },
  {
   "cell_type": "code",
   "execution_count": 6,
   "metadata": {},
   "outputs": [
    {
     "name": "stdout",
     "output_type": "stream",
     "text": [
      "synthesizing...\n",
      "synthesizing...\n"
     ]
    }
   ],
   "source": [
    "phrase = 'Quello laggiù'\n",
    "ret = tts.synthesize(phrase, speaking_rate=0.5)\n",
    "ret = tts.synthesize(phrase, speaking_rate=0.75)"
   ]
  },
  {
   "cell_type": "code",
   "execution_count": 7,
   "metadata": {},
   "outputs": [
    {
     "name": "stdout",
     "output_type": "stream",
     "text": [
      "synthesizing...\n"
     ]
    }
   ],
   "source": [
    "phrase = 'vorrei un tavolo per due vicino alla finestra'\n",
    "# ret = tts.synthesize(phrase, speaking_rate=0.5)\n",
    "# ret = tts.synthesize(phrase, speaking_rate=0.75)\n",
    "ret = tts.synthesize(phrase, speaking_rate=0.7)"
   ]
  },
  {
   "cell_type": "code",
   "execution_count": 8,
   "metadata": {},
   "outputs": [
    {
     "data": {
      "text/html": [
       "<div>\n",
       "<style scoped>\n",
       "    .dataframe tbody tr th:only-of-type {\n",
       "        vertical-align: middle;\n",
       "    }\n",
       "\n",
       "    .dataframe tbody tr th {\n",
       "        vertical-align: top;\n",
       "    }\n",
       "\n",
       "    .dataframe thead th {\n",
       "        text-align: right;\n",
       "    }\n",
       "</style>\n",
       "<table border=\"1\" class=\"dataframe\">\n",
       "  <thead>\n",
       "    <tr style=\"text-align: right;\">\n",
       "      <th></th>\n",
       "      <th>text_hash</th>\n",
       "      <th>text</th>\n",
       "      <th>audio_file</th>\n",
       "      <th>synthesis_time</th>\n",
       "      <th>voice_name</th>\n",
       "      <th>speaking_rate</th>\n",
       "      <th>pitch</th>\n",
       "    </tr>\n",
       "  </thead>\n",
       "  <tbody>\n",
       "    <tr>\n",
       "      <th>0</th>\n",
       "      <td>0d68b456-1c09-5d43-8f90-45c9c580fb28</td>\n",
       "      <td>Ciao, come stai?</td>\n",
       "      <td>data/audio/0d68b456-1c09-5d43-8f90-45c9c580fb2...</td>\n",
       "      <td>0.596022</td>\n",
       "      <td>it-IT-Wavenet-D</td>\n",
       "      <td>0.50</td>\n",
       "      <td>0</td>\n",
       "    </tr>\n",
       "    <tr>\n",
       "      <th>1</th>\n",
       "      <td>b731eb20-72bf-5568-a733-4a8049306205</td>\n",
       "      <td>Ciao, come stai?</td>\n",
       "      <td>data/audio/b731eb20-72bf-5568-a733-4a804930620...</td>\n",
       "      <td>0.242133</td>\n",
       "      <td>it-IT-Wavenet-D</td>\n",
       "      <td>0.75</td>\n",
       "      <td>0</td>\n",
       "    </tr>\n",
       "    <tr>\n",
       "      <th>2</th>\n",
       "      <td>5d433251-eff5-5c5d-a532-5c7f55ff81b8</td>\n",
       "      <td>Quello laggiù</td>\n",
       "      <td>data/audio/5d433251-eff5-5c5d-a532-5c7f55ff81b...</td>\n",
       "      <td>0.210975</td>\n",
       "      <td>it-IT-Wavenet-D</td>\n",
       "      <td>0.50</td>\n",
       "      <td>0</td>\n",
       "    </tr>\n",
       "    <tr>\n",
       "      <th>3</th>\n",
       "      <td>a185cefb-0cc3-5308-9a11-aeb150d4726f</td>\n",
       "      <td>Quello laggiù</td>\n",
       "      <td>data/audio/a185cefb-0cc3-5308-9a11-aeb150d4726...</td>\n",
       "      <td>0.241175</td>\n",
       "      <td>it-IT-Wavenet-D</td>\n",
       "      <td>0.75</td>\n",
       "      <td>0</td>\n",
       "    </tr>\n",
       "    <tr>\n",
       "      <th>4</th>\n",
       "      <td>e91debbd-78a4-590b-b396-3eb0f1f03260</td>\n",
       "      <td>vorrei un tavolo per due vicino alla finestra</td>\n",
       "      <td>data/audio/e91debbd-78a4-590b-b396-3eb0f1f0326...</td>\n",
       "      <td>0.227450</td>\n",
       "      <td>it-IT-Wavenet-D</td>\n",
       "      <td>0.70</td>\n",
       "      <td>0</td>\n",
       "    </tr>\n",
       "  </tbody>\n",
       "</table>\n",
       "</div>"
      ],
      "text/plain": [
       "                              text_hash  \\\n",
       "0  0d68b456-1c09-5d43-8f90-45c9c580fb28   \n",
       "1  b731eb20-72bf-5568-a733-4a8049306205   \n",
       "2  5d433251-eff5-5c5d-a532-5c7f55ff81b8   \n",
       "3  a185cefb-0cc3-5308-9a11-aeb150d4726f   \n",
       "4  e91debbd-78a4-590b-b396-3eb0f1f03260   \n",
       "\n",
       "                                            text  \\\n",
       "0                               Ciao, come stai?   \n",
       "1                               Ciao, come stai?   \n",
       "2                                  Quello laggiù   \n",
       "3                                  Quello laggiù   \n",
       "4  vorrei un tavolo per due vicino alla finestra   \n",
       "\n",
       "                                          audio_file  synthesis_time  \\\n",
       "0  data/audio/0d68b456-1c09-5d43-8f90-45c9c580fb2...        0.596022   \n",
       "1  data/audio/b731eb20-72bf-5568-a733-4a804930620...        0.242133   \n",
       "2  data/audio/5d433251-eff5-5c5d-a532-5c7f55ff81b...        0.210975   \n",
       "3  data/audio/a185cefb-0cc3-5308-9a11-aeb150d4726...        0.241175   \n",
       "4  data/audio/e91debbd-78a4-590b-b396-3eb0f1f0326...        0.227450   \n",
       "\n",
       "        voice_name  speaking_rate  pitch  \n",
       "0  it-IT-Wavenet-D           0.50      0  \n",
       "1  it-IT-Wavenet-D           0.75      0  \n",
       "2  it-IT-Wavenet-D           0.50      0  \n",
       "3  it-IT-Wavenet-D           0.75      0  \n",
       "4  it-IT-Wavenet-D           0.70      0  "
      ]
     },
     "execution_count": 8,
     "metadata": {},
     "output_type": "execute_result"
    }
   ],
   "source": [
    "df"
   ]
  },
  {
   "cell_type": "code",
   "execution_count": null,
   "metadata": {},
   "outputs": [],
   "source": []
  }
 ],
 "metadata": {
  "kernelspec": {
   "display_name": "venv",
   "language": "python",
   "name": "python3"
  },
  "language_info": {
   "codemirror_mode": {
    "name": "ipython",
    "version": 3
   },
   "file_extension": ".py",
   "mimetype": "text/x-python",
   "name": "python",
   "nbconvert_exporter": "python",
   "pygments_lexer": "ipython3",
   "version": "3.9.6"
  }
 },
 "nbformat": 4,
 "nbformat_minor": 2
}
