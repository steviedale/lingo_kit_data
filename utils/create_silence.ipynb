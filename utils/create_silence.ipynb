{
 "cells": [
  {
   "cell_type": "code",
   "execution_count": null,
   "metadata": {},
   "outputs": [],
   "source": [
    "from pydub import AudioSegment"
   ]
  },
  {
   "cell_type": "code",
   "execution_count": null,
   "metadata": {},
   "outputs": [],
   "source": [
    "!pip install pydub"
   ]
  },
  {
   "cell_type": "code",
   "execution_count": null,
   "metadata": {},
   "outputs": [],
   "source": [
    "def create_silent_mp3(duration_seconds, filename=\"silent_audio.mp3\"):\n",
    "    \"\"\"\n",
    "    Creates an MP3 file containing silence for the specified duration.\n",
    "\n",
    "    Args:\n",
    "        duration_seconds (int): The duration of silence in seconds.\n",
    "        filename (str): The name of the output MP3 file.\n",
    "    \"\"\"\n",
    "    # Convert duration to milliseconds for pydub\n",
    "    duration_ms = duration_seconds * 1000\n",
    "\n",
    "    # Create a silent AudioSegment\n",
    "    silent_audio = AudioSegment.silent(duration=duration_ms)\n",
    "\n",
    "    # Export the silent audio to an MP3 file\n",
    "    silent_audio.export(filename, format=\"mp3\")\n",
    "    print(f\"Created '{filename}' with {duration_seconds} seconds of silence.\")"
   ]
  },
  {
   "cell_type": "code",
   "execution_count": null,
   "metadata": {},
   "outputs": [],
   "source": [
    "# Example usage: create a 10-second silent MP3\n",
    "# for i in [0.5] + list(range(30)):\n",
    "#     create_silent_mp3(i, f\"../data/audio/silence/{i*1000}ms.mp3\")"
   ]
  },
  {
   "cell_type": "code",
   "execution_count": null,
   "metadata": {},
   "outputs": [],
   "source": [
    "# Example usage: create a 10-second silent MP3\n",
    "for i in range(1, 201):\n",
    "    print(i)\n",
    "    create_silent_mp3(i/10, f\"../data/audio/silence/{i*100}ms.mp3\")"
   ]
  }
 ],
 "metadata": {
  "kernelspec": {
   "display_name": "venv",
   "language": "python",
   "name": "python3"
  },
  "language_info": {
   "codemirror_mode": {
    "name": "ipython",
    "version": 3
   },
   "file_extension": ".py",
   "mimetype": "text/x-python",
   "name": "python",
   "nbconvert_exporter": "python",
   "pygments_lexer": "ipython3",
   "version": "3.9.6"
  }
 },
 "nbformat": 4,
 "nbformat_minor": 2
}
