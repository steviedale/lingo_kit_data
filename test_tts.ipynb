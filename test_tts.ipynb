{
 "cells": [
  {
   "cell_type": "code",
   "execution_count": 1,
   "metadata": {},
   "outputs": [],
   "source": [
    "from utils.text_to_speech import TextToSpeech, VOICES"
   ]
  },
  {
   "cell_type": "code",
   "execution_count": 2,
   "metadata": {},
   "outputs": [],
   "source": [
    "tts = TextToSpeech()"
   ]
  },
  {
   "cell_type": "code",
   "execution_count": 6,
   "metadata": {},
   "outputs": [
    {
     "name": "stdout",
     "output_type": "stream",
     "text": [
      "synthesizing...\n",
      "<speak>\n",
      "            <break time=\"120ms\"/>\n",
      "            <prosody rate=\"0.92\" pitch=\"-1st\">\n",
      "                <p><s>beautiful (feminine plural).</s></p>\n",
      "            </prosody>\n",
      "            <break time=\"120ms\"/>\n",
      "        </speak>\n"
     ]
    }
   ],
   "source": [
    "# text = 'he takes/she takes/you (formal) takes'\n",
    "# text = 'gone out/left'\n",
    "# text = 'he used to go out/she used to go out/you (formal) used to go out'\n",
    "# text = 'beautiful (masculine)'\n",
    "text = 'beautiful (feminine plural)'\n",
    "lang = 'english'\n",
    "if lang == 'english':\n",
    "    gender = 'female'\n",
    "    speaking_rate = 0.92\n",
    "else:\n",
    "    assert(lang == 'italian')\n",
    "    gender = 'male'\n",
    "    speaking_rate = 0.7\n",
    "# this is a fix to make short words like \"a\" or \"the\" followed by parenthesis to sound too short\n",
    "synth_obj = tts.synthesize(\n",
    "    text=text,\n",
    "    voice_name=VOICES[lang][gender],\n",
    "    speaking_rate=speaking_rate,\n",
    "    verbose=True,\n",
    "    force_generate=True,\n",
    ")"
   ]
  },
  {
   "cell_type": "code",
   "execution_count": 7,
   "metadata": {},
   "outputs": [
    {
     "data": {
      "text/plain": [
       "{'hash': '55fd8eb4a43d7f48e238ff5d695b1524390940f010d34fc05dd4996d1b4ec07c',\n",
       " 'text': 'beautiful (feminine plural)',\n",
       " 'audio_file': '/Users/stevie/repos/lingo_kit_data/data/audio/55fd8eb4a43d7f48e238ff5d695b1524390940f010d34fc05dd4996d1b4ec07c.mp3',\n",
       " 'synthesis_time': 0.4110487080179155,\n",
       " 'voice_name': 'en-US-Neural2-C',\n",
       " 'speaking_rate': 0.92,\n",
       " 'pitch': 0,\n",
       " 'duration_ms': 2472}"
      ]
     },
     "execution_count": 7,
     "metadata": {},
     "output_type": "execute_result"
    }
   ],
   "source": [
    "synth_obj"
   ]
  },
  {
   "cell_type": "code",
   "execution_count": 8,
   "metadata": {},
   "outputs": [
    {
     "name": "stdout",
     "output_type": "stream",
     "text": [
      "/Users/stevie/repos/lingo_kit_data/data/audio/55fd8eb4a43d7f48e238ff5d695b1524390940f010d34fc05dd4996d1b4ec07c.mp3\n"
     ]
    }
   ],
   "source": [
    "path = synth_obj['audio_file']\n",
    "print(path)"
   ]
  },
  {
   "cell_type": "code",
   "execution_count": null,
   "metadata": {},
   "outputs": [],
   "source": []
  },
  {
   "cell_type": "code",
   "execution_count": null,
   "metadata": {},
   "outputs": [],
   "source": []
  }
 ],
 "metadata": {
  "kernelspec": {
   "display_name": "venv",
   "language": "python",
   "name": "python3"
  },
  "language_info": {
   "codemirror_mode": {
    "name": "ipython",
    "version": 3
   },
   "file_extension": ".py",
   "mimetype": "text/x-python",
   "name": "python",
   "nbconvert_exporter": "python",
   "pygments_lexer": "ipython3",
   "version": "3.12.8"
  }
 },
 "nbformat": 4,
 "nbformat_minor": 2
}
