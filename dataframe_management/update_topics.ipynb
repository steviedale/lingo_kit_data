{
 "cells": [
  {
   "cell_type": "code",
   "execution_count": null,
   "metadata": {},
   "outputs": [],
   "source": [
    "import os\n",
    "os.environ['PATH_TO_REPO'] = '/Users/stevie/repos/lingo_kit_data'"
   ]
  },
  {
   "cell_type": "code",
   "execution_count": null,
   "metadata": {},
   "outputs": [],
   "source": [
    "repo_path = os.environ['PATH_TO_REPO']\n",
    "assert(os.path.exists(repo_path))"
   ]
  },
  {
   "cell_type": "code",
   "execution_count": null,
   "metadata": {},
   "outputs": [],
   "source": [
    "import pandas as pd\n",
    "import sys\n",
    "sys.path.append(repo_path)\n",
    "from utils.csv_helper import get_all_csv_files_rec\n",
    "import yaml"
   ]
  },
  {
   "cell_type": "code",
   "execution_count": null,
   "metadata": {},
   "outputs": [],
   "source": [
    "files = get_all_csv_files_rec(os.path.join(repo_path, 'dataframes/dataframes_by_pos/'))"
   ]
  },
  {
   "cell_type": "code",
   "execution_count": null,
   "metadata": {},
   "outputs": [],
   "source": [
    "path = 'dataframe_management/base_terms_to_topics.yaml'\n",
    "topic_obj = yaml.safe_load(open(os.path.join(repo_path, path), 'r'))"
   ]
  },
  {
   "cell_type": "code",
   "execution_count": null,
   "metadata": {},
   "outputs": [],
   "source": []
  },
  {
   "cell_type": "code",
   "execution_count": null,
   "metadata": {},
   "outputs": [],
   "source": [
    "print(f'{str(topic_obj['base_terms']['senza']).replace(\"'\", '').replace(\"[\", \"\").replace(\"]\", \"\")}')"
   ]
  },
  {
   "cell_type": "code",
   "execution_count": null,
   "metadata": {},
   "outputs": [],
   "source": [
    "missing = []\n",
    "for f in files:\n",
    "    df = pd.read_csv(f)\n",
    "    row = df.iloc[0]\n",
    "    italian_term = row['base_lemma_italian']\n",
    "    if italian_term not in topic_obj['base_terms']:\n",
    "        missing.append(italian_term)\n",
    "    topics_str = f'{str(topic_obj['base_terms'][italian_term]).replace(\"'\", '').replace(\"[\", \"\").replace(\"]\", \"\").replace(', ', ',')}'\n",
    "    df['topics'] = topics_str\n",
    "    df.to_csv(f, index=False)\n",
    "    # print(f'Wrote {f}')\n",
    "    # break\n",
    "print(missing)"
   ]
  },
  {
   "cell_type": "code",
   "execution_count": null,
   "metadata": {},
   "outputs": [],
   "source": [
    "path = '/Users/stevie/repos/lingo_kit_data/dataframes/old_dataframes/spotify_lessons.csv'\n",
    "df = pd.read_csv(path)\n",
    "df.columns"
   ]
  },
  {
   "cell_type": "code",
   "execution_count": null,
   "metadata": {},
   "outputs": [],
   "source": [
    "terms = []\n",
    "for t in df['italian_term'].unique().tolist():\n",
    "    terms += [t.lower().replace('?', '').replace('!', '').replace('.', '').replace(',', '').strip() for t in t.split(' ')]\n",
    "terms = list(set([x for x in terms if len(x) > 0 and x != '/']))"
   ]
  },
  {
   "cell_type": "code",
   "execution_count": null,
   "metadata": {},
   "outputs": [],
   "source": [
    "found_terms = set()\n",
    "for f in files:\n",
    "    df = pd.read_csv(f)\n",
    "\n",
    "    found_spotify = False\n",
    "    for i, row in df.iterrows():\n",
    "        t = row['term_italian'].lower().strip()\n",
    "        if t in terms:\n",
    "            found_spotify = True\n",
    "            found_terms.add(t)\n",
    "\n",
    "    if found_spotify:\n",
    "        for i, row in df.iterrows():\n",
    "            tags = row['topics']\n",
    "            if 'Spotify Lessons' not in tags:\n",
    "                tags = tags + ',Spotify Lessons'\n",
    "            df.loc[i, 'topics'] = tags\n",
    "\n",
    "    df.to_csv(f, index=False)\n",
    "not_found_terms = set(terms) - found_terms\n",
    "not_found_terms"
   ]
  },
  {
   "cell_type": "code",
   "execution_count": null,
   "metadata": {},
   "outputs": [],
   "source": []
  }
 ],
 "metadata": {
  "kernelspec": {
   "display_name": "venv",
   "language": "python",
   "name": "python3"
  },
  "language_info": {
   "codemirror_mode": {
    "name": "ipython",
    "version": 3
   },
   "file_extension": ".py",
   "mimetype": "text/x-python",
   "name": "python",
   "nbconvert_exporter": "python",
   "pygments_lexer": "ipython3",
   "version": "3.12.8"
  }
 },
 "nbformat": 4,
 "nbformat_minor": 2
}
