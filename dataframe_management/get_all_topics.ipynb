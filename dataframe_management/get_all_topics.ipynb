{
 "cells": [
  {
   "cell_type": "code",
   "execution_count": 2,
   "metadata": {},
   "outputs": [],
   "source": [
    "import os \n",
    "import pandas as pd\n",
    "from tqdm import tqdm"
   ]
  },
  {
   "cell_type": "code",
   "execution_count": 3,
   "metadata": {},
   "outputs": [],
   "source": [
    "topic_set = set()\n",
    "df_dict = {}\n",
    "dataframe_dir = '../dataframes/dataframes_by_pos'\n",
    "for pos in os.listdir(dataframe_dir):\n",
    "    pos_dir = os.path.join(dataframe_dir, pos)\n",
    "    for file in os.listdir(pos_dir):\n",
    "        path = os.path.join(pos_dir, file)\n",
    "        assert(os.path.isfile(path))\n",
    "        assert(file.endswith('.csv'))\n",
    "        df = pd.read_csv(path)\n",
    "        topic_lists = set(df['topics'].tolist())\n",
    "        for topic_list in topic_lists:\n",
    "            topics = topic_list.split(',')\n",
    "            for topic in topics:\n",
    "                topic_set.add(topic.strip())\n",
    "        df_dict[path] = df"
   ]
  },
  {
   "cell_type": "code",
   "execution_count": 7,
   "metadata": {},
   "outputs": [],
   "source": [
    "topics = list(topic_set)\n",
    "topics.sort()"
   ]
  },
  {
   "cell_type": "code",
   "execution_count": 9,
   "metadata": {},
   "outputs": [],
   "source": [
    "import yaml"
   ]
  },
  {
   "cell_type": "code",
   "execution_count": 10,
   "metadata": {},
   "outputs": [],
   "source": [
    "# Save topics to yaml file\n",
    "with open('topics.yaml', 'w') as f:\n",
    "    yaml.dump(topics, f)"
   ]
  },
  {
   "cell_type": "code",
   "execution_count": null,
   "metadata": {},
   "outputs": [],
   "source": []
  }
 ],
 "metadata": {
  "kernelspec": {
   "display_name": "venv",
   "language": "python",
   "name": "python3"
  },
  "language_info": {
   "codemirror_mode": {
    "name": "ipython",
    "version": 3
   },
   "file_extension": ".py",
   "mimetype": "text/x-python",
   "name": "python",
   "nbconvert_exporter": "python",
   "pygments_lexer": "ipython3",
   "version": "3.12.8"
  }
 },
 "nbformat": 4,
 "nbformat_minor": 2
}
