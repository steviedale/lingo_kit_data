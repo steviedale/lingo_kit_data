{
 "cells": [
  {
   "cell_type": "code",
   "execution_count": null,
   "metadata": {},
   "outputs": [],
   "source": [
    "import requests"
   ]
  },
  {
   "cell_type": "code",
   "execution_count": null,
   "metadata": {},
   "outputs": [],
   "source": [
    "    # path('term/<str:hash>', views.getTerm),\n",
    "    # path('terms/', views.getTerms),\n",
    "    # path('base-terms/', views.getBaseTerms),\n",
    "    # path('base-terms-for-kit/', views.getBaseTermsForKit),\n",
    "    # path('create-term', views.createTerm),\n",
    "    # path('update-term/<str:hash>', views.updateTerm),\n",
    "    # path('audio-file/<str:hash>', views.getAudioFile),\n",
    "    # path('audio-files', views.getAudioFiles),\n",
    "    # path('audio-files-by-term/<str:term_hash>', views.getAudioFilesByTerm),\n",
    "    # path('create-audio-file', views.createAudioFile),\n",
    "    # path('topic/<int:topic_id>', views.getTopic),\n",
    "    # path('topics', views.getTopics),\n",
    "    # path('create-topic', views.createTopic),\n",
    "    # path('parts-of-speech', views.getPartsOfSpeech),\n",
    "    # path('lingo-kits', views.getLingoKits),\n",
    "    # path('lingo-kit/<int:id>', views.getLingoKit),\n",
    "    # path('create-lingo-kit', views.createLingoKit),\n",
    "    # path('create-lingo-kit-base-terms', views.createLingoKitBaseTerms),\n",
    "    # path('remove-lingo-kit/<int:id>', views.removeLingoKit),\n",
    "    # path('edit-lingo-kit/<int:id>', views.editLingoKit),\n",
    "    # path('edit-lingo-kit-base-terms/<int:id>', views.editLingoKitBaseTerms),\n",
    "    # path('get-terms-with-audio/<int:lingo_kit_id>', views.getTermsWithAudio),"
   ]
  },
  {
   "cell_type": "code",
   "execution_count": null,
   "metadata": {},
   "outputs": [],
   "source": [
    "URL = 'https://lingo-kit.com'\n",
    "resp = requests.get(f\"{URL}/lingo-kits\")\n",
    "lingo_kits = resp.json()"
   ]
  },
  {
   "cell_type": "code",
   "execution_count": null,
   "metadata": {},
   "outputs": [],
   "source": [
    "lk = lingo_kits[1]\n",
    "lk['name']"
   ]
  },
  {
   "cell_type": "code",
   "execution_count": null,
   "metadata": {},
   "outputs": [],
   "source": [
    "lk.keys()"
   ]
  },
  {
   "cell_type": "code",
   "execution_count": null,
   "metadata": {},
   "outputs": [],
   "source": [
    "term_hash = lk['terms'][0]\n",
    "resp = requests.get(f\"{URL}/term/{term_hash}\")\n",
    "term = resp.json()"
   ]
  },
  {
   "cell_type": "code",
   "execution_count": null,
   "metadata": {},
   "outputs": [],
   "source": [
    "term"
   ]
  },
  {
   "cell_type": "code",
   "execution_count": null,
   "metadata": {},
   "outputs": [],
   "source": [
    "resp = requests.get(f\"{URL}/audio-files-by-term/{term_hash}\")\n",
    "audio_files = resp.json()\n",
    "audio_files"
   ]
  },
  {
   "cell_type": "code",
   "execution_count": null,
   "metadata": {},
   "outputs": [],
   "source": [
    "for term in lk['terms']:\n",
    "    resp = requests.get(f\"{URL}/audio-files-by-term/{term}\")\n",
    "    audio_files = resp.json()\n",
    "    if len(audio_files) < 2:\n",
    "        print(f\"Term {term} has {len(audio_files)} audio files: {audio_files}\")"
   ]
  },
  {
   "cell_type": "code",
   "execution_count": null,
   "metadata": {},
   "outputs": [],
   "source": []
  }
 ],
 "metadata": {
  "kernelspec": {
   "display_name": "venv",
   "language": "python",
   "name": "python3"
  },
  "language_info": {
   "codemirror_mode": {
    "name": "ipython",
    "version": 3
   },
   "file_extension": ".py",
   "mimetype": "text/x-python",
   "name": "python",
   "nbconvert_exporter": "python",
   "pygments_lexer": "ipython3",
   "version": "3.12.8"
  }
 },
 "nbformat": 4,
 "nbformat_minor": 2
}
