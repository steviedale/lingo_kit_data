{
 "cells": [
  {
   "cell_type": "code",
   "execution_count": null,
   "metadata": {},
   "outputs": [],
   "source": [
    "from utils.text_to_speech import TextToSpeech, VOICES"
   ]
  },
  {
   "cell_type": "code",
   "execution_count": null,
   "metadata": {},
   "outputs": [],
   "source": [
    "tts = TextToSpeech()"
   ]
  },
  {
   "cell_type": "code",
   "execution_count": null,
   "metadata": {},
   "outputs": [],
   "source": [
    "# text = \"dell'acqua\"\n",
    "# text = \"a\"\n",
    "# text = \"e\"\n",
    "# text = \"o\"\n",
    "# text = \"gli\"\n",
    "text = 'Ho visitato degli aeroporti moderni.'\n",
    "lang = 'italian'\n",
    "if lang == 'english':\n",
    "    gender = 'female'\n",
    "    speaking_rate = 0.92\n",
    "else:\n",
    "    assert(lang == 'italian')\n",
    "    gender = 'male'\n",
    "    speaking_rate = 0.7\n",
    "# this is a fix to make short words like \"a\" or \"the\" followed by parenthesis to sound too short\n",
    "synth_obj = tts.synthesize(\n",
    "    text=text,\n",
    "    voice_name=VOICES[lang][gender],\n",
    "    speaking_rate=speaking_rate,\n",
    "    verbose=True,\n",
    "    force_generate=True,\n",
    ")"
   ]
  },
  {
   "cell_type": "code",
   "execution_count": null,
   "metadata": {},
   "outputs": [],
   "source": [
    "synth_obj"
   ]
  },
  {
   "cell_type": "code",
   "execution_count": null,
   "metadata": {},
   "outputs": [],
   "source": [
    "path = synth_obj['audio_file']\n",
    "print(path)"
   ]
  },
  {
   "cell_type": "code",
   "execution_count": null,
   "metadata": {},
   "outputs": [],
   "source": []
  },
  {
   "cell_type": "code",
   "execution_count": null,
   "metadata": {},
   "outputs": [],
   "source": []
  }
 ],
 "metadata": {
  "kernelspec": {
   "display_name": "venv",
   "language": "python",
   "name": "python3"
  },
  "language_info": {
   "codemirror_mode": {
    "name": "ipython",
    "version": 3
   },
   "file_extension": ".py",
   "mimetype": "text/x-python",
   "name": "python",
   "nbconvert_exporter": "python",
   "pygments_lexer": "ipython3",
   "version": "3.12.8"
  }
 },
 "nbformat": 4,
 "nbformat_minor": 2
}
