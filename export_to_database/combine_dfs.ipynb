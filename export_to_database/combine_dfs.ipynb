{
 "cells": [
  {
   "cell_type": "code",
   "execution_count": 11,
   "metadata": {},
   "outputs": [],
   "source": [
    "import os\n",
    "import shutil\n",
    "import pandas as pd"
   ]
  },
  {
   "cell_type": "code",
   "execution_count": 12,
   "metadata": {},
   "outputs": [],
   "source": [
    "# get all csv files recursively\n",
    "def get_csv_files(dir_path):\n",
    "    csv_files = []\n",
    "    for root, _, files in os.walk(dir_path):\n",
    "        for filename in files:\n",
    "            if filename.lower().endswith('.csv'):\n",
    "                csv_files.append(os.path.join(root, filename))\n",
    "    return sorted(csv_files)\n",
    "\n",
    "all_files = get_csv_files('/Users/stevie/repos/lingo_kit_data/dataframes/v1.1.1/dataframes')\n"
   ]
  },
  {
   "cell_type": "code",
   "execution_count": 13,
   "metadata": {},
   "outputs": [],
   "source": [
    "all_df = pd.DataFrame()\n",
    "dataframes = []\n",
    "for file_path in all_files:\n",
    "    dataframes.append(pd.read_csv(file_path))\n",
    "if dataframes:\n",
    "    all_df = pd.concat(dataframes, ignore_index=True)\n"
   ]
  },
  {
   "cell_type": "code",
   "execution_count": 14,
   "metadata": {},
   "outputs": [],
   "source": [
    "all_df = all_df.drop(columns=['is_base'], errors='ignore')\n"
   ]
  },
  {
   "cell_type": "code",
   "execution_count": 15,
   "metadata": {},
   "outputs": [],
   "source": [
    "# Normalize part_of_speech values\n",
    "allowed_pos = {'adj', 'adv', 'art', 'conj', 'det', 'noun', 'prep', 'pron', 'verb'}\n",
    "pos_mapping = {\n",
    "    'adj': 'adj',\n",
    "    'adjective': 'adj',\n",
    "    'adjectives': 'adj',\n",
    "    'adv': 'adv',\n",
    "    'adverb': 'adv',\n",
    "    'adverbs': 'adv',\n",
    "    'art': 'art',\n",
    "    'article': 'art',\n",
    "    'articles': 'art',\n",
    "    'conj': 'conj',\n",
    "    'conjunction': 'conj',\n",
    "    'conjunctions': 'conj',\n",
    "    'det': 'det',\n",
    "    'determiner': 'det',\n",
    "    'determiners': 'det',\n",
    "    'noun': 'noun',\n",
    "    'nouns': 'noun',\n",
    "    'prep': 'prep',\n",
    "    'preposition': 'prep',\n",
    "    'prepositions': 'prep',\n",
    "    'pron': 'pron',\n",
    "    'pronoun': 'pron',\n",
    "    'pronouns': 'pron',\n",
    "    'verb': 'verb',\n",
    "    'verbs': 'verb',\n",
    "}\n",
    "if \"part_of_speech\" in all_df.columns:\n",
    "    def normalize_pos(value):\n",
    "        if pd.isna(value):\n",
    "            return value\n",
    "        text = str(value).strip()\n",
    "        key = text.lower()\n",
    "        if key in pos_mapping:\n",
    "            return pos_mapping[key]\n",
    "        if key in allowed_pos:\n",
    "            return key\n",
    "        raise ValueError(f\"Unexpected part_of_speech value: {value!r}\")\n",
    "    all_df['part_of_speech'] = all_df['part_of_speech'].apply(normalize_pos)\n",
    "    unexpected_pos = set(all_df['part_of_speech'].dropna().unique()) - allowed_pos\n",
    "    if unexpected_pos:\n",
    "        raise ValueError(f\"Unexpected part_of_speech values after normalization: {sorted(unexpected_pos)}\")\n"
   ]
  },
  {
   "cell_type": "code",
   "execution_count": 16,
   "metadata": {},
   "outputs": [],
   "source": [
    "# Normalize gender values\n",
    "allowed_gender = {'m', 'f', 'n/a'}\n",
    "gender_mapping = {'masculine': 'm', 'feminine': 'f', '': 'n/a', 'none': 'n/a'}\n",
    "if \"gender\" in all_df.columns:\n",
    "    def normalize_gender(value):\n",
    "        if pd.isna(value):\n",
    "            return 'n/a'\n",
    "        text = str(value).strip()\n",
    "        key = text.lower()\n",
    "        if key in gender_mapping:\n",
    "            return gender_mapping[key]\n",
    "        if key in allowed_gender:\n",
    "            return key\n",
    "        raise ValueError(f\"Unexpected gender value: {value!r}\")\n",
    "    all_df['gender'] = all_df['gender'].apply(normalize_gender)\n",
    "    unexpected_gender = set(all_df['gender'].dropna().unique()) - allowed_gender\n",
    "    if unexpected_gender:\n",
    "        raise ValueError(f\"Unexpected gender values after normalization: {sorted(unexpected_gender)}\")\n"
   ]
  },
  {
   "cell_type": "code",
   "execution_count": 17,
   "metadata": {},
   "outputs": [],
   "source": [
    "# Normalize plurality values\n",
    "allowed_plurality = {'s', 'p', 'n/a'}\n",
    "plurality_mapping = {'plural': 'p', 'singular': 's', '': 'n/a', 'none': 'n/a'}\n",
    "if \"plurality\" in all_df.columns:\n",
    "    def normalize_plurality(value):\n",
    "        if pd.isna(value):\n",
    "            return 'n/a'\n",
    "        text = str(value).strip()\n",
    "        key = text.lower()\n",
    "        if key in plurality_mapping:\n",
    "            return plurality_mapping[key]\n",
    "        if key in allowed_plurality:\n",
    "            return key\n",
    "        raise ValueError(f\"Unexpected plurality value: {value!r}\")\n",
    "    all_df['plurality'] = all_df['plurality'].apply(normalize_plurality)\n",
    "    unexpected_plurality = set(all_df['plurality'].dropna().unique()) - allowed_plurality\n",
    "    if unexpected_plurality:\n",
    "        raise ValueError(f\"Unexpected plurality values after normalization: {sorted(unexpected_plurality)}\")\n"
   ]
  },
  {
   "cell_type": "code",
   "execution_count": 18,
   "metadata": {},
   "outputs": [],
   "source": [
    "for column in ['italian_audio_hash', 'english_audio_hash']:\n",
    "    if column not in all_df.columns:\n",
    "        all_df[column] = ''\n",
    "    else:\n",
    "        all_df[column] = all_df[column].fillna('')\n"
   ]
  },
  {
   "cell_type": "code",
   "execution_count": 19,
   "metadata": {},
   "outputs": [],
   "source": [
    "all_df.to_csv('combined_and_reorganized.csv', index=False)"
   ]
  }
 ],
 "metadata": {
  "kernelspec": {
   "display_name": "venv",
   "language": "python",
   "name": "python3"
  },
  "language_info": {
   "codemirror_mode": {
    "name": "ipython",
    "version": 3
   },
   "file_extension": ".py",
   "mimetype": "text/x-python",
   "name": "python",
   "nbconvert_exporter": "python",
   "pygments_lexer": "ipython3",
   "version": "3.12.8"
  }
 },
 "nbformat": 4,
 "nbformat_minor": 2
}
