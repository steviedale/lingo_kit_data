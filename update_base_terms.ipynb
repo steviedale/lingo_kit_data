{
 "cells": [
  {
   "cell_type": "code",
   "execution_count": null,
   "metadata": {},
   "outputs": [],
   "source": [
    "import pandas as pd\n",
    "import requests"
   ]
  },
  {
   "cell_type": "code",
   "execution_count": null,
   "metadata": {},
   "outputs": [],
   "source": [
    "category_data_df = pd.read_csv('/Users/stevie/repos/lingo_kit_data/dataframes/category_data.csv')\n",
    "foundational_words_df = pd.read_csv('/Users/stevie/repos/lingo_kit_data/dataframes/foundational_words.csv')\n",
    "spotify_lessons_df = pd.read_csv('/Users/stevie/repos/lingo_kit_data/dataframes/spotify_lessons.csv')"
   ]
  },
  {
   "cell_type": "code",
   "execution_count": null,
   "metadata": {},
   "outputs": [],
   "source": [
    "foundational_words_df[foundational_words_df['part_of_speech'] == 'verb']"
   ]
  },
  {
   "cell_type": "code",
   "execution_count": null,
   "metadata": {},
   "outputs": [],
   "source": [
    "df = pd.concat([category_data_df, foundational_words_df, spotify_lessons_df], ignore_index=True)"
   ]
  },
  {
   "cell_type": "code",
   "execution_count": null,
   "metadata": {},
   "outputs": [],
   "source": [
    "len(df), df.columns"
   ]
  },
  {
   "cell_type": "code",
   "execution_count": null,
   "metadata": {},
   "outputs": [],
   "source": [
    "import uuid\n",
    "def get_term_hash(english_text, italian_text):\n",
    "    hash = str(uuid.uuid5(uuid.NAMESPACE_DNS, f\"{english_text}-{italian_text}\"))\n",
    "    return hash\n",
    "print(get_term_hash('person', 'persone'))"
   ]
  },
  {
   "cell_type": "code",
   "execution_count": null,
   "metadata": {},
   "outputs": [],
   "source": [
    "df.drop_duplicates(subset=['english_term', 'italian_term'], inplace=True)\n",
    "len(df)"
   ]
  },
  {
   "cell_type": "code",
   "execution_count": null,
   "metadata": {},
   "outputs": [],
   "source": [
    "temp = df.copy()\n",
    "# temp = temp[temp['part_of_speech']=='phrase']\n",
    "print(len(temp))"
   ]
  },
  {
   "cell_type": "code",
   "execution_count": null,
   "metadata": {},
   "outputs": [],
   "source": [
    "from tqdm import tqdm\n",
    "pos = set()\n",
    "count = 0\n",
    "for i, row in tqdm(temp.iterrows(), total=len(temp)):\n",
    "    term_hash = get_term_hash(row['english_term'], row['italian_term'])\n",
    "    response = requests.get(f'http://127.0.0.1:8000/term/{term_hash}')\n",
    "    assert(response.status_code == 200)\n",
    "    term_dict = response.json()\n",
    "    if term_dict['english_base_term'] != row['english_base_term'] or term_dict['italian_base_term'] != row['italian_base_term']:\n",
    "        pos.add(row['part_of_speech'])\n",
    "        count += 1\n",
    "        if row['part_of_speech'] != 'phrase':\n",
    "            print(f\"TERM_DICT: {term_dict}\")\n",
    "            print(f\"ROW: {row.to_dict()}\")\n",
    "        # term_dict['english_base_term'] = row['english_base_term']\n",
    "        # term_dict['italian_base_term'] = row['italian_base_term']\n",
    "        # call put service to update\n",
    "        # response = requests.put(f\"http://127.0.0.1:8000/update-term/{term_hash}\", json=term_dict)\n",
    "        assert(response.status_code == 200)\n",
    "print(pos, count)"
   ]
  },
  {
   "cell_type": "code",
   "execution_count": null,
   "metadata": {},
   "outputs": [],
   "source": [
    "len(requests.get(f'http://127.0.0.1:8000/terms').json())"
   ]
  },
  {
   "cell_type": "code",
   "execution_count": null,
   "metadata": {},
   "outputs": [],
   "source": []
  },
  {
   "cell_type": "code",
   "execution_count": null,
   "metadata": {},
   "outputs": [],
   "source": []
  }
 ],
 "metadata": {
  "kernelspec": {
   "display_name": "venv",
   "language": "python",
   "name": "python3"
  },
  "language_info": {
   "codemirror_mode": {
    "name": "ipython",
    "version": 3
   },
   "file_extension": ".py",
   "mimetype": "text/x-python",
   "name": "python",
   "nbconvert_exporter": "python",
   "pygments_lexer": "ipython3",
   "version": "3.12.8"
  }
 },
 "nbformat": 4,
 "nbformat_minor": 2
}
