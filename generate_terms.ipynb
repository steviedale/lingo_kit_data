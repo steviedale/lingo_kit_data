{
 "cells": [
  {
   "cell_type": "code",
   "execution_count": null,
   "metadata": {},
   "outputs": [],
   "source": [
    "import os\n",
    "import pandas as pd\n",
    "from tqdm import tqdm\n",
    "import yaml\n",
    "import requests\n",
    "\n",
    "import sys\n",
    "sys.path.append(\"/Users/stevie/repos/lingo_kit_data\")\n",
    "from utils.text_to_speech import TextToSpeech, VOICES\n",
    "from utils.upload_to_s3 import upload_file"
   ]
  },
  {
   "cell_type": "code",
   "execution_count": null,
   "metadata": {},
   "outputs": [],
   "source": [
    "category_data_df = pd.read_csv('/Users/stevie/repos/lingo_kit_data/dataframes/category_data.csv')\n",
    "foundational_words_df = pd.read_csv('/Users/stevie/repos/lingo_kit_data/dataframes/foundational_words.csv')\n",
    "spotify_lessons_df = pd.read_csv('/Users/stevie/repos/lingo_kit_data/dataframes/spotify_lessons.csv')"
   ]
  },
  {
   "cell_type": "code",
   "execution_count": null,
   "metadata": {},
   "outputs": [],
   "source": [
    "columns = [\n",
    "    'english_term',\n",
    "    'italian_term',\n",
    "    'part_of_speech',\n",
    "    'topics',\n",
    "    'english_base_term',\n",
    "    'italian_base_term',\n",
    "]"
   ]
  },
  {
   "cell_type": "code",
   "execution_count": null,
   "metadata": {},
   "outputs": [],
   "source": [
    "df = pd.concat([category_data_df, foundational_words_df, spotify_lessons_df], ignore_index=True)\n",
    "print(len(df))\n",
    "df.drop_duplicates(subset=['english_term', 'italian_term'], inplace=True)\n",
    "print(len(df))\n",
    "df.reset_index(drop=True, inplace=True)\n",
    "df = df[columns]\n",
    "len(df), df.columns"
   ]
  },
  {
   "cell_type": "code",
   "execution_count": null,
   "metadata": {},
   "outputs": [],
   "source": [
    "tts = TextToSpeech()"
   ]
  },
  {
   "cell_type": "code",
   "execution_count": null,
   "metadata": {},
   "outputs": [],
   "source": [
    "# term_obj = {\n",
    "#     'english_term': 'person',\n",
    "#     'italian_term': 'persone',\n",
    "#     'base_term': 'person',\n",
    "#     'is_base': True\n",
    "# }\n",
    "# term_obj = requests.post(\n",
    "#     'http://127.0.0.1:8000/create-term',\n",
    "#     json=term_obj,\n",
    "# ).json()"
   ]
  },
  {
   "cell_type": "code",
   "execution_count": null,
   "metadata": {},
   "outputs": [],
   "source": [
    "import uuid\n",
    "def get_term_hash(english_text, italian_text):\n",
    "    hash = str(uuid.uuid5(uuid.NAMESPACE_DNS, f\"{english_text}-{italian_text}\"))\n",
    "    return hash\n",
    "print(get_term_hash('person', 'persone'))"
   ]
  },
  {
   "cell_type": "code",
   "execution_count": null,
   "metadata": {},
   "outputs": [],
   "source": [
    "def parse_topics(topics_str):\n",
    "    assert(topics_str[0] == '[' and topics_str[-1] == ']')\n",
    "    topics_str = topics_str[1:-1]  # remove brackets\n",
    "    topics = topics_str.split(',')\n",
    "    return topics\n",
    "\n",
    "def get_language_key(lang):\n",
    "    if lang == 'english':\n",
    "        return 'en'\n",
    "    elif lang == 'italian':\n",
    "        return 'it'\n",
    "    else:\n",
    "        raise ValueError(f\"Unknown language: {lang}\")"
   ]
  },
  {
   "cell_type": "code",
   "execution_count": null,
   "metadata": {},
   "outputs": [],
   "source": [
    "import time\n",
    "# df = df[:5]\n",
    "for i, row in tqdm(df.iterrows(), total=len(df)):\n",
    "    # hash\n",
    "    # english_term\n",
    "    # italian_term\n",
    "    # english_base_term\n",
    "    # italian_base_term\n",
    "    # part_of_speech\n",
    "    # topics\n",
    "    term_hash = get_term_hash(row['english_term'], row['italian_term'])\n",
    "\n",
    "    term_obj = {\n",
    "        'hash': term_hash,\n",
    "        'english_term': row['english_term'],\n",
    "        'italian_term': row['italian_term'],\n",
    "        'english_base_term': row['english_base_term'],\n",
    "        'italian_base_term': row['italian_base_term'],\n",
    "        'part_of_speech': row['part_of_speech'],\n",
    "        'topics': parse_topics(row['topics']),\n",
    "    }\n",
    "\n",
    "    # check if term already exists\n",
    "    response = requests.get(f'http://127.0.0.1:8000/term/{term_hash}')\n",
    "    if response.status_code != 200:\n",
    "        assert(response.status_code == 404)\n",
    "        response = requests.post(\n",
    "            'http://127.0.0.1:8000/create-term',\n",
    "            json=term_obj,\n",
    "        )\n",
    "        assert(response.status_code == 201)\n",
    "    term_obj = response.json()\n",
    "\n",
    "    for lang in 'english', 'italian':\n",
    "        text = row[f\"{lang}_term\"]\n",
    "        # this is a fix to make short words like \"a\" or \"the\" followed by parenthesis to sound too short\n",
    "        text = text.replace(' (', '. (')\n",
    "        synth_obj = tts.synthesize(\n",
    "            text=text,\n",
    "            voice_name=VOICES[lang]['male'],\n",
    "            # speaking_rate=0.75 if lang == 'italian' else 1.0,\n",
    "            speaking_rate=0.75,\n",
    "            pitch=0,\n",
    "            verbose=False,\n",
    "        )\n",
    "\n",
    "        # language\n",
    "        # hash\n",
    "        # speaking_rate\n",
    "        # voice_name\n",
    "        # duration_ms\n",
    "        audio_file_obj = {\n",
    "            'text': text,\n",
    "            'language': get_language_key(lang),\n",
    "            'hash': synth_obj['hash'],\n",
    "            'speaking_rate': synth_obj['speaking_rate'],\n",
    "            'voice_name': synth_obj['voice_name'],\n",
    "            'pitch': synth_obj['pitch'],\n",
    "            'duration_ms': synth_obj['duration_ms'],\n",
    "        }\n",
    "\n",
    "        # upload audio file to s3\n",
    "        file_path = os.path.join('/Users/stevie/repos/lingo_kit_data', synth_obj['audio_file'])\n",
    "        assert(os.path.exists(file_path)), f\"File does not exist: {file_path}\"\n",
    "        upload_file(file_path=file_path, verbose=False)\n",
    "\n",
    "        # check if audio file already exists\n",
    "        response = requests.get(f\"http://127.0.0.1:8000/audio-file/{synth_obj['hash']}\")\n",
    "\n",
    "        if response.status_code != 200:\n",
    "            assert(response.status_code == 404)\n",
    "            resp = requests.post(\n",
    "                'http://127.0.0.1:8000/create-audio-file',\n",
    "                json=audio_file_obj,\n",
    "            )\n",
    "            audio_file_obj = resp.json()\n",
    "            assert(resp.status_code == 201), resp.text\n",
    "    if i % 100 == 0:\n",
    "        tts.save()"
   ]
  },
  {
   "cell_type": "code",
   "execution_count": null,
   "metadata": {},
   "outputs": [],
   "source": [
    "tts.save()"
   ]
  },
  {
   "cell_type": "code",
   "execution_count": null,
   "metadata": {},
   "outputs": [],
   "source": [
    "len(tts.df)"
   ]
  },
  {
   "cell_type": "code",
   "execution_count": null,
   "metadata": {},
   "outputs": [],
   "source": [
    "tts.df.iloc[0]['audio_file']"
   ]
  },
  {
   "cell_type": "code",
   "execution_count": null,
   "metadata": {},
   "outputs": [],
   "source": [
    "tts.df.iloc[-1]['audio_file']"
   ]
  },
  {
   "cell_type": "code",
   "execution_count": null,
   "metadata": {},
   "outputs": [],
   "source": [
    "# # get the audio file from s3\n",
    "# hash = '9cb7f04b82b5485738f6606c67a1cd43dceadc2c42e006eec2f6dc254ec95d71'\n",
    "# url = f\"https://steviedale-language-app.s3.us-east-1.amazonaws.com/{hash}.mp3\"\n",
    "# file = requests.get(url)\n",
    "# with open('test.mp3', 'wb') as f:\n",
    "#     f.write(file.content)"
   ]
  },
  {
   "cell_type": "code",
   "execution_count": null,
   "metadata": {},
   "outputs": [],
   "source": [
    "\n",
    "# url = f\"https://steviedale-language-app.s3.us-east-1.amazonaws.com/1ed73913-49ff-52ef-898e-eface7fd9f89.mp3\""
   ]
  },
  {
   "cell_type": "code",
   "execution_count": null,
   "metadata": {},
   "outputs": [],
   "source": [
    "terms = requests.get(\n",
    "    'http://127.0.0.1:8000/terms',\n",
    ").json()\n",
    "len(terms)"
   ]
  },
  {
   "cell_type": "code",
   "execution_count": null,
   "metadata": {},
   "outputs": [],
   "source": []
  }
 ],
 "metadata": {
  "kernelspec": {
   "display_name": "venv",
   "language": "python",
   "name": "python3"
  },
  "language_info": {
   "codemirror_mode": {
    "name": "ipython",
    "version": 3
   },
   "file_extension": ".py",
   "mimetype": "text/x-python",
   "name": "python",
   "nbconvert_exporter": "python",
   "pygments_lexer": "ipython3",
   "version": "3.12.8"
  }
 },
 "nbformat": 4,
 "nbformat_minor": 2
}
