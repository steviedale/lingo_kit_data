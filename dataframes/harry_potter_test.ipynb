{
 "cells": [
  {
   "cell_type": "code",
   "execution_count": null,
   "metadata": {},
   "outputs": [],
   "source": [
    "import os\n",
    "import pandas as pd"
   ]
  },
  {
   "cell_type": "code",
   "execution_count": null,
   "metadata": {},
   "outputs": [],
   "source": [
    "text = \"\"\"\n",
    "Gli abitanti di Little Hangleton la chiamavano ancora Casa Riddle, anche se erano passati tanti anni da quando i Riddle ci abitavano. \n",
    "Si trovava sulla collina che dominava il villaggio: alcune delle finestre erano inchiodate, al tetto mancavano delle tegole e \n",
    "l'edera cresceva incolta sulla facciata. Un tempo Casa Riddle era stata una dimora elegante, certo l'edificio più vasto e grandioso \n",
    "nel raggio di chilometri, ma ora era umida, desolata e disabitata. Gli hangletoniani convenivano tutti che la vecchia casa era \n",
    "sinistra. Mezzo secolo prima, qualcosa di strano e terribile era successo là dentro, qualcosa di cui gli abitanti più anziani del \n",
    "villaggio amavano ancora discutere quando erano a corto di pettegolezzi. La storia era stata ripetuta così tante volte, e vi erano \n",
    "stati aggiunti così tanti fronzoli che nessuno era più certo di quale fosse la verità. Ogni versione del racconto, comunque, \n",
    "cominciava allo stesso modo: cinquant'anni prima, all'alba di una bella giornata d'estate, quando Casa Riddle era ancora ben tenuta e \n",
    "imponente, una cameriera era entrata in salotto e aveva trovato morti tutti e tre i Riddle. La cameriera era corsa urlando giù per la \n",
    "collina fino al villaggio e aveva radunato tutte le persone che poteva. Sono là stesi con gli occhi spalancati! Freddi come il \n",
    "ghiaccio! Ancora vestiti per la cena! Fu chiamata la polizia e tutta quanta Little Hangleton si crogiolò in una curiosità atterrita e \n",
    "in una malcelata eccitazione. Nessuno si sforzò di fingersi addolorato per i Riddle, che erano stati assolutamente impopolari. Gli \n",
    "anziani signori Riddle, marito e moglie, erano ricchi, snob e sgarbati, e loro figlio Tom, ormai adulto, era anche peggio. Tutto \n",
    "quello che importava agli abitanti era l'identità dell'assassino: chiaramente, tre persone in apparenza sane non morivano di colpo per \n",
    "cause naturali nella stessa notte. L'Impiccato, il pub locale, fece affari d'oro quella sera: il villaggio al completo accorse per \n",
    "discutere gli omicidi. E la ricompensa per quell'uscita serale arrivò quando la cuoca dei Riddle fece un ingresso teatrale e annunciò \n",
    "al pub improvvisamente silenzioso che un uomo chiamato Frank Bryce era stato appena arrestato.\n",
    "\"\"\""
   ]
  },
  {
   "cell_type": "code",
   "execution_count": null,
   "metadata": {},
   "outputs": [],
   "source": [
    "def get_all_csv_files_rec(dir):\n",
    "    \"\"\"Ritorna una lista di tutti i file .csv nella directory e nelle sottodirectory.\"\"\"\n",
    "    csv_files = []\n",
    "    for root, dirs, files in os.walk(dir):\n",
    "        for file in files:\n",
    "            if file.endswith('.csv'):\n",
    "                csv_files.append(os.path.join(root, file))\n",
    "    return csv_files\n",
    "all_csv_files = get_all_csv_files_rec('dataframes')"
   ]
  },
  {
   "cell_type": "code",
   "execution_count": null,
   "metadata": {},
   "outputs": [],
   "source": [
    "all_df = pd.DataFrame()\n",
    "for path in all_csv_files:\n",
    "    assert(os.path.exists(path))\n",
    "    # print(path)\n",
    "    df = pd.read_csv(path)\n",
    "    all_df = pd.concat([all_df, df], ignore_index=True)\n",
    "len(all_df), all_df.columns"
   ]
  },
  {
   "cell_type": "code",
   "execution_count": null,
   "metadata": {},
   "outputs": [],
   "source": [
    "all_df.drop_duplicates(['term_italian', 'base_lemma_italian', 'base_lemma_english', 'part_of_speech'], inplace=True)\n",
    "len(all_df)"
   ]
  },
  {
   "cell_type": "code",
   "execution_count": null,
   "metadata": {},
   "outputs": [],
   "source": [
    "all_df['base'] = all_df.apply(lambda row: f\"{row['base_lemma_italian']} - {row['base_lemma_english']}\", axis=1)\n",
    "all_df['base'].value_counts()"
   ]
  },
  {
   "cell_type": "code",
   "execution_count": null,
   "metadata": {},
   "outputs": [],
   "source": [
    "all_df['base'].value_counts()[-10:]\n",
    "for base in all_df['base'].value_counts()[-10:].index:\n",
    "    # print base and part_of_speech\n",
    "    base_df = all_df[all_df['base'] == base]\n",
    "    print(f\"Base: {base}, Part of speech: {base_df['part_of_speech'].iloc[0]}\")"
   ]
  },
  {
   "cell_type": "code",
   "execution_count": null,
   "metadata": {},
   "outputs": [],
   "source": [
    "all_df[all_df['base'] == 'ognuno - everyone (feminine)']"
   ]
  },
  {
   "cell_type": "code",
   "execution_count": null,
   "metadata": {},
   "outputs": [],
   "source": [
    "ignore_words = [\n",
    "    'bryce',\n",
    "    \"cinquant'anni\",\n",
    "    'frank',\n",
    "    'hangleton',\n",
    "    'little',\n",
    "    'riddle',\n",
    "    'tom',\n",
    "]\n",
    "harry_potter_words = set(text.lower().replace('\\n', ' ').replace(':', ' ').replace('.', ' ').replace(',', ' ').replace('!', ' ').replace('?', ' ').split(' '))\n",
    "# ignore empty strings\n",
    "harry_potter_words.discard('')\n",
    "# ignore numbers\n",
    "harry_potter_words = {w for w in harry_potter_words if not w.isdigit()}\n",
    "harry_potter_words = harry_potter_words - set(ignore_words)\n",
    "len(harry_potter_words)"
   ]
  },
  {
   "cell_type": "code",
   "execution_count": null,
   "metadata": {},
   "outputs": [],
   "source": [
    "IMPORTANT_COLS = ['term_italian', 'part_of_speech', 'translation_english', 'base_lemma_italian', 'base_lemma_english']"
   ]
  },
  {
   "cell_type": "code",
   "execution_count": null,
   "metadata": {},
   "outputs": [],
   "source": [
    "all_df[all_df['term_italian'].isin(harry_potter_words)][IMPORTANT_COLS]"
   ]
  },
  {
   "cell_type": "code",
   "execution_count": null,
   "metadata": {},
   "outputs": [],
   "source": [
    "missing_words = harry_potter_words - set(all_df['term_italian'])\n",
    "print(len(missing_words))\n",
    "missing_words"
   ]
  },
  {
   "cell_type": "code",
   "execution_count": null,
   "metadata": {},
   "outputs": [],
   "source": [
    "# The residents of Little Hangleton still called it Riddle House, even though it had been many years since the Riddles had lived there.\n",
    "sentence_1 = \"Gli abitanti di Little Hangleton la chiamavano ancora Casa Riddle, anche se erano passati tanti anni da quando i Riddle ci abitavano.\"\n",
    "\n",
    "# It stood on the hill overlooking the village: some of the windows were nailed shut, tiles were missing from the roof, and ivy was growing wild on the facade.\n",
    "sentence_2 = \"Si trovava sulla collina che dominava il villaggio: alcune delle finestre erano inchiodate, al tetto mancavano delle tegole e l'edera cresceva incolta sulla facciata.\"\n",
    "\n",
    "# Riddle House had once been an elegant mansion, certainly the largest and grandest building for miles around, but now it was damp, desolate, and uninhabited.\n",
    "sentence_3 = \"Un tempo Casa Riddle era stata una dimora elegante, certo l'edificio più vasto e grandioso nel raggio di chilometri, ma ora era umida, desolata e disabitata.\"\n",
    "\n",
    "# Hangletonians all agreed that the old house was sinister.\n",
    "sentence_4 = \"Gli hangletoniani convenivano tutti che la vecchia casa era sinistra.\"\n",
    "\n",
    "sentence = sentence_1"
   ]
  },
  {
   "cell_type": "code",
   "execution_count": null,
   "metadata": {},
   "outputs": [],
   "source": [
    "sentence_italian_words = list(sentence.lower().replace('\\n', ' ').replace(':', ' ').replace('.', ' ').replace(',', ' ').replace('!', ' ').replace('?', ' ').split(' '))\n",
    "sentence_italian_words = [w for w in sentence_italian_words if w != '']\n",
    "sentence_italian_words"
   ]
  },
  {
   "cell_type": "code",
   "execution_count": null,
   "metadata": {},
   "outputs": [],
   "source": [
    "all_df.columns"
   ]
  },
  {
   "cell_type": "code",
   "execution_count": null,
   "metadata": {},
   "outputs": [],
   "source": [
    "from fuzzy_match import find_translation"
   ]
  },
  {
   "cell_type": "code",
   "execution_count": null,
   "metadata": {},
   "outputs": [],
   "source": [
    "all_df[all_df['term_italian'] == 'gli']"
   ]
  },
  {
   "cell_type": "code",
   "execution_count": null,
   "metadata": {},
   "outputs": [],
   "source": [
    "# find_translation(all_df, 'crogiolò', min_similarity=0.8)\n",
    "# find_translation(all_df, 'little', min_similarity=0.9)"
   ]
  },
  {
   "cell_type": "code",
   "execution_count": null,
   "metadata": {},
   "outputs": [],
   "source": [
    "def get_trans(word_italian):\n",
    "    ret = find_translation(all_df, word_italian, min_similarity=0.8)\n",
    "    if ret is None:\n",
    "        return word_italian, None, None\n",
    "    it, en = ret\n",
    "    return word_italian, it, en\n",
    "sentence_english_trans = [\n",
    "    get_trans(word) for word in sentence_italian_words\n",
    "]\n",
    "new_sentence = ''\n",
    "for original_word, match_it, match_en in sentence_english_trans:\n",
    "    print(f\"{original_word} -> {match_it} -> {match_en}\")\n",
    "    new_sentence += f\"{original_word} [{match_en}] \"\n",
    "new_sentence"
   ]
  },
  {
   "cell_type": "code",
   "execution_count": null,
   "metadata": {},
   "outputs": [],
   "source": [
    "sentence_italian_words"
   ]
  },
  {
   "cell_type": "code",
   "execution_count": null,
   "metadata": {},
   "outputs": [],
   "source": [
    "i = 7\n",
    "it_word = sentence_italian_words[i]\n",
    "print(f\"{it_word} - {find_translation(all_df, it_word, min_similarity=0.8)}\")"
   ]
  },
  {
   "cell_type": "code",
   "execution_count": null,
   "metadata": {},
   "outputs": [],
   "source": []
  }
 ],
 "metadata": {
  "kernelspec": {
   "display_name": "venv",
   "language": "python",
   "name": "python3"
  },
  "language_info": {
   "codemirror_mode": {
    "name": "ipython",
    "version": 3
   },
   "file_extension": ".py",
   "mimetype": "text/x-python",
   "name": "python",
   "nbconvert_exporter": "python",
   "pygments_lexer": "ipython3",
   "version": "3.12.8"
  }
 },
 "nbformat": 4,
 "nbformat_minor": 2
}
