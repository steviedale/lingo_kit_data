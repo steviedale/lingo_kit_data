{
 "cells": [
  {
   "cell_type": "code",
   "execution_count": null,
   "metadata": {},
   "outputs": [],
   "source": [
    "import os\n",
    "from tqdm import tqdm\n",
    "import pandas as pd\n",
    "import sys\n",
    "sys.path.append('/Users/stevie/repos/lingo_kit_data/dataframes/v1.1.0/generator')\n",
    "from generator.generate_with_chatgpt import generate_csv_multi_term"
   ]
  },
  {
   "cell_type": "code",
   "execution_count": null,
   "metadata": {},
   "outputs": [],
   "source": [
    "# PART_OF_SPEECH = 'noun'\n",
    "# TERMS = [\n",
    "#     (\"caffè\", \"coffee\"),\n",
    "#     (\"acqua\", \"water\"),\n",
    "#     (\"vino\", \"wine\"),\n",
    "#     (\"pane\", \"bread\"),\n",
    "#     (\"pizza\", \"pizza\"), \n",
    "#     (\"pasta\", \"pasta\"),\n",
    "#     (\"ristorante\", \"restaurant\"),\n",
    "#     (\"bar\", \"café, bar\"),\n",
    "#     (\"tavolo\", \"table\"),\n",
    "#     (\"sedia\", \"chair\"),\n",
    "#     (\"bagno\", \"bathroom\"),\n",
    "#     (\"camera\", \"room (often hotel room)\"),\n",
    "#     (\"biglietto\", \"ticket\"),\n",
    "#     (\"macchina\", \"car\"),\n",
    "#     (\"autobus\", \"bus\"),\n",
    "#     (\"treno\", \"train\"),\n",
    "#     (\"aeroporto\", \"airport\"),\n",
    "#     (\"albergo\", \"hotel\"),\n",
    "#     (\"strada\", \"street, road\"),\n",
    "#     (\"negozio\", \"shop, store\")\n",
    "# ]\n",
    "\n",
    "# PART_OF_SPEECH = 'adjective'\n",
    "# TERMS = [\n",
    "#     ('bello', 'beautiful'),\n",
    "#     ('buono', 'good'),\n",
    "#     ('grande', 'big'),\n",
    "#     ('piccolo', 'small'),\n",
    "#     ('nuovo', 'new'),\n",
    "#     ('vecchio', 'old'),\n",
    "#     ('primo', 'first'),\n",
    "#     ('ultimo', 'last'),\n",
    "#     ('lungo', 'long'),\n",
    "#     ('corto', 'short'),\n",
    "#     ('alto', 'tall (height)'),\n",
    "#     ('basso', 'short (height)')\n",
    "# ]\n",
    "\n",
    "# PART_OF_SPEECH = 'adverb'\n",
    "# TERMS = [\n",
    "#     ('bene', 'well'),\n",
    "#     ('male', 'badly'),\n",
    "#     ('molto', 'very'),\n",
    "#     ('poco', 'little, not much'),\n",
    "#     ('sempre', 'always'),\n",
    "#     ('mai', 'never'),\n",
    "#     ('spesso', 'often'),\n",
    "#     ('subito', 'immediately'),\n",
    "#     ('ancora', 'still, yet, again'),\n",
    "#     ('già', 'already')\n",
    "# ]\n",
    "\n",
    "PART_OF_SPEECH = 'verb'\n",
    "TERMS = [\n",
    "    # ('essere', 'to be'),\n",
    "    # ('avere', 'to have'),\n",
    "    # ('fare', 'to do, to make'),\n",
    "    # ('dire', 'to say / to tell'),\n",
    "    # ('potere', 'can / to be able to'),\n",
    "    ('volere', 'to want'),\n",
    "    ('dovere', 'must / to have to'),\n",
    "    ('andare', 'to go'),\n",
    "    ('venire', 'to come'),\n",
    "    ('dare', 'to give'),\n",
    "    ('vedere', 'to see'),\n",
    "    ('sapere', 'to know (a fact, how to)'),\n",
    "    ('conoscere', 'to know (be acquainted with)'),\n",
    "    ('parlare', 'to speak / to talk'),\n",
    "    ('trovare', 'to find'),\n",
    "    ('pensare', 'to think'),\n",
    "    ('prendere', 'to take'),\n",
    "    ('mettere', 'to put / to place'),\n",
    "    ('uscire', 'to go out / to leave'),\n",
    "    ('mangiare', 'to eat')\n",
    "]"
   ]
  },
  {
   "cell_type": "code",
   "execution_count": null,
   "metadata": {},
   "outputs": [],
   "source": [
    "terms_it = [term[0] for term in TERMS]\n",
    "output_path = f\"/Users/stevie/repos/lingo_kit_data/dataframes/v1.1.0/dataframes/{PART_OF_SPEECH}/TEMP.csv\"\n",
    "assert(os.path.exists(os.path.dirname(output_path)))\n",
    "assert(not os.path.exists(output_path)), f\"File {output_path} already exists, please remove it before running this script.\"\n",
    "generate_csv_multi_term(\n",
    "    part_of_speech=PART_OF_SPEECH,\n",
    "    base_terms=terms_it,\n",
    "    output_path=output_path,\n",
    "    model='gpt-5')"
   ]
  },
  {
   "cell_type": "code",
   "execution_count": null,
   "metadata": {},
   "outputs": [],
   "source": [
    "text = open(output_path, 'r').read()\n",
    "text = text.replace(\"’\", \"'\")\n",
    "with open(output_path, 'w') as f:\n",
    "    f.write(text)"
   ]
  },
  {
   "cell_type": "code",
   "execution_count": null,
   "metadata": {},
   "outputs": [],
   "source": [
    "df = pd.read_csv(output_path)\n",
    "len(df), df.columns"
   ]
  },
  {
   "cell_type": "code",
   "execution_count": null,
   "metadata": {},
   "outputs": [],
   "source": [
    "for base_term in df['base_term_italian'].unique():\n",
    "    base_term_df = df[df['base_term_italian'] == base_term]\n",
    "    base_term_df.to_csv(f\"/Users/stevie/repos/lingo_kit_data/dataframes/v1.1.0/dataframes/{PART_OF_SPEECH}/{base_term}.csv\", index=False)"
   ]
  },
  {
   "cell_type": "code",
   "execution_count": null,
   "metadata": {},
   "outputs": [],
   "source": [
    "os.remove(output_path)"
   ]
  },
  {
   "cell_type": "code",
   "execution_count": null,
   "metadata": {},
   "outputs": [],
   "source": []
  }
 ],
 "metadata": {
  "kernelspec": {
   "display_name": "venv",
   "language": "python",
   "name": "python3"
  },
  "language_info": {
   "codemirror_mode": {
    "name": "ipython",
    "version": 3
   },
   "file_extension": ".py",
   "mimetype": "text/x-python",
   "name": "python",
   "nbconvert_exporter": "python",
   "pygments_lexer": "ipython3",
   "version": "3.12.8"
  }
 },
 "nbformat": 4,
 "nbformat_minor": 2
}
