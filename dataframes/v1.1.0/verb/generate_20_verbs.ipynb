{
 "cells": [
  {
   "cell_type": "code",
   "execution_count": null,
   "metadata": {},
   "outputs": [],
   "source": [
    "import os\n",
    "from tqdm import tqdm\n",
    "import sys\n",
    "sys.path.append('/Users/stevie/repos/lingo_kit_data/dataframes/v1.1.0/generator')\n",
    "from generate_with_chatgpt import generate_csv"
   ]
  },
  {
   "cell_type": "code",
   "execution_count": null,
   "metadata": {},
   "outputs": [],
   "source": [
    "terms = [\n",
    "    ('essere', 'to be'),\n",
    "    ('avere', 'to have'),\n",
    "    ('fare', 'to do, to make'),\n",
    "    ('dire', 'to say / to tell'),\n",
    "    ('potere', 'can / to be able to'),\n",
    "    ('volere', 'to want'),\n",
    "    ('dovere', 'must / to have to'),\n",
    "    ('andare', 'to go'),\n",
    "    ('venire', 'to come'),\n",
    "    ('dare', 'to give'),\n",
    "    ('vedere', 'to see'),\n",
    "    ('sapere', 'to know (a fact, how to)'),\n",
    "    ('conoscere', 'to know (be acquainted with)'),\n",
    "    ('parlare', 'to speak / to talk'),\n",
    "    ('trovare', 'to find'),\n",
    "    ('pensare', 'to think'),\n",
    "    ('prendere', 'to take'),\n",
    "    ('mettere', 'to put / to place'),\n",
    "    ('uscire', 'to go out / to leave'),\n",
    "    ('mangiare', 'to eat')\n",
    "]"
   ]
  },
  {
   "cell_type": "code",
   "execution_count": null,
   "metadata": {},
   "outputs": [],
   "source": [
    "for verb_it, verb_en in tqdm(terms):\n",
    "    output_path = f\"{verb_it}.csv\"\n",
    "    if os.path.exists(output_path):\n",
    "        print(f\"File {output_path} already exists, skipping...\")\n",
    "        continue\n",
    "    generate_csv(\n",
    "        part_of_speech='verb',\n",
    "        base_term=verb_it, english_translation=verb_en, \n",
    "        output_path=output_path,\n",
    "        model='gpt-5-mini')"
   ]
  },
  {
   "cell_type": "code",
   "execution_count": null,
   "metadata": {},
   "outputs": [],
   "source": []
  }
 ],
 "metadata": {
  "kernelspec": {
   "display_name": "venv",
   "language": "python",
   "name": "python3"
  },
  "language_info": {
   "codemirror_mode": {
    "name": "ipython",
    "version": 3
   },
   "file_extension": ".py",
   "mimetype": "text/x-python",
   "name": "python",
   "nbconvert_exporter": "python",
   "pygments_lexer": "ipython3",
   "version": "3.12.8"
  }
 },
 "nbformat": 4,
 "nbformat_minor": 2
}
