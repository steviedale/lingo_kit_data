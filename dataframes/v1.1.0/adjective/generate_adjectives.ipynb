{
 "cells": [
  {
   "cell_type": "code",
   "execution_count": null,
   "metadata": {},
   "outputs": [],
   "source": [
    "import os\n",
    "from tqdm import tqdm\n",
    "import sys\n",
    "sys.path.append('/Users/stevie/repos/lingo_kit_data/dataframes/v1.1.0/generator')\n",
    "from generate_with_chatgpt import generate_csv"
   ]
  },
  {
   "cell_type": "code",
   "execution_count": null,
   "metadata": {},
   "outputs": [],
   "source": [
    "terms = [\n",
    "    ('bello', 'beautiful'),\n",
    "    ('buono', 'good'),\n",
    "    ('grande', 'big'),\n",
    "    ('piccolo', 'small'),\n",
    "    ('nuovo', 'new'),\n",
    "    ('vecchio', 'old'),\n",
    "    ('primo', 'first'),\n",
    "    ('ultimo', 'last'),\n",
    "    ('lungo', 'long'),\n",
    "    ('corto', 'short'),\n",
    "    ('alto', 'tall (height)'),\n",
    "    ('basso', 'short (height)')\n",
    "]"
   ]
  },
  {
   "cell_type": "code",
   "execution_count": null,
   "metadata": {},
   "outputs": [],
   "source": [
    "for term_it, term_en in tqdm(terms):\n",
    "    output_path = f\"term_dataframes/{term_it}.csv\"\n",
    "    # if os.path.exists(output_path):\n",
    "    #     print(f\"File {output_path} already exists, skipping...\")\n",
    "    #     continue\n",
    "    generate_csv(\n",
    "        part_of_speech='adjective',\n",
    "        base_term=term_it, english_translation=term_en, \n",
    "        output_path=output_path,\n",
    "        model='gpt-5-mini')"
   ]
  }
 ],
 "metadata": {
  "kernelspec": {
   "display_name": "venv",
   "language": "python",
   "name": "python3"
  },
  "language_info": {
   "codemirror_mode": {
    "name": "ipython",
    "version": 3
   },
   "file_extension": ".py",
   "mimetype": "text/x-python",
   "name": "python",
   "nbconvert_exporter": "python",
   "pygments_lexer": "ipython3",
   "version": "3.12.8"
  }
 },
 "nbformat": 4,
 "nbformat_minor": 2
}
