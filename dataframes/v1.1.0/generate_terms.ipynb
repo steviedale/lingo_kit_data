{
 "cells": [
  {
   "cell_type": "code",
   "execution_count": 1,
   "metadata": {},
   "outputs": [],
   "source": [
    "import os\n",
    "from tqdm import tqdm\n",
    "import sys\n",
    "sys.path.append('/Users/stevie/repos/lingo_kit_data/dataframes/v1.1.0/generator')\n",
    "from generator.generate_with_chatgpt import generate_csv"
   ]
  },
  {
   "cell_type": "code",
   "execution_count": 2,
   "metadata": {},
   "outputs": [],
   "source": [
    "PART_OF_SPEECH = 'noun'\n",
    "TERMS = [\n",
    "    (\"caffè\", \"coffee\"),\n",
    "    (\"acqua\", \"water\"),\n",
    "    (\"vino\", \"wine\"),\n",
    "    (\"pane\", \"bread\"),\n",
    "    (\"pizza\", \"pizza\"), \n",
    "    (\"pasta\", \"pasta\"),\n",
    "    (\"ristorante\", \"restaurant\"),\n",
    "    (\"bar\", \"café, bar\"),\n",
    "    (\"tavolo\", \"table\"),\n",
    "    (\"sedia\", \"chair\"),\n",
    "    (\"bagno\", \"bathroom\"),\n",
    "    (\"camera\", \"room (often hotel room)\"),\n",
    "    (\"biglietto\", \"ticket\"),\n",
    "    (\"macchina\", \"car\"),\n",
    "    (\"autobus\", \"bus\"),\n",
    "    (\"treno\", \"train\"),\n",
    "    (\"aeroporto\", \"airport\"),\n",
    "    (\"albergo\", \"hotel\"),\n",
    "    (\"strada\", \"street, road\"),\n",
    "    (\"negozio\", \"shop, store\")\n",
    "]\n",
    "\n",
    "# PART_OF_SPEECH = 'adjective'\n",
    "# TERMS = [\n",
    "#     ('bello', 'beautiful'),\n",
    "#     ('buono', 'good'),\n",
    "#     ('grande', 'big'),\n",
    "#     ('piccolo', 'small'),\n",
    "#     ('nuovo', 'new'),\n",
    "#     ('vecchio', 'old'),\n",
    "#     ('primo', 'first'),\n",
    "#     ('ultimo', 'last'),\n",
    "#     ('lungo', 'long'),\n",
    "#     ('corto', 'short'),\n",
    "#     ('alto', 'tall (height)'),\n",
    "#     ('basso', 'short (height)')\n",
    "# ]\n",
    "\n",
    "# PART_OF_SPEECH = 'adverb'\n",
    "# TERMS = [\n",
    "#     ('bene', 'well'),\n",
    "#     ('male', 'badly'),\n",
    "#     ('molto', 'very'),\n",
    "#     ('poco', 'little, not much'),\n",
    "#     ('sempre', 'always'),\n",
    "#     ('mai', 'never'),\n",
    "#     ('spesso', 'often'),\n",
    "#     ('subito', 'immediately'),\n",
    "#     ('ancora', 'still, yet, again'),\n",
    "#     ('già', 'already')\n",
    "# ]\n",
    "\n",
    "# PART_OF_SPEECH = 'verb'\n",
    "# TERMS = [\n",
    "#     ('essere', 'to be'),\n",
    "#     ('avere', 'to have'),\n",
    "#     ('fare', 'to do, to make'),\n",
    "#     ('dire', 'to say / to tell'),\n",
    "#     ('potere', 'can / to be able to'),\n",
    "#     ('volere', 'to want'),\n",
    "#     ('dovere', 'must / to have to'),\n",
    "#     ('andare', 'to go'),\n",
    "#     ('venire', 'to come'),\n",
    "#     ('dare', 'to give'),\n",
    "#     ('vedere', 'to see'),\n",
    "#     ('sapere', 'to know (a fact, how to)'),\n",
    "#     ('conoscere', 'to know (be acquainted with)'),\n",
    "#     ('parlare', 'to speak / to talk'),\n",
    "#     ('trovare', 'to find'),\n",
    "#     ('pensare', 'to think'),\n",
    "#     ('prendere', 'to take'),\n",
    "#     ('mettere', 'to put / to place'),\n",
    "#     ('uscire', 'to go out / to leave'),\n",
    "#     ('mangiare', 'to eat')\n",
    "# ]"
   ]
  },
  {
   "cell_type": "code",
   "execution_count": null,
   "metadata": {},
   "outputs": [
    {
     "name": "stderr",
     "output_type": "stream",
     "text": [
      "  0%|          | 0/20 [00:00<?, ?it/s]"
     ]
    },
    {
     "name": "stdout",
     "output_type": "stream",
     "text": [
      "caffè\n"
     ]
    },
    {
     "name": "stderr",
     "output_type": "stream",
     "text": [
      "  5%|▌         | 1/20 [01:18<24:44, 78.15s/it]"
     ]
    },
    {
     "name": "stdout",
     "output_type": "stream",
     "text": [
      "acqua\n"
     ]
    },
    {
     "name": "stderr",
     "output_type": "stream",
     "text": [
      " 10%|█         | 2/20 [02:09<18:43, 62.39s/it]"
     ]
    },
    {
     "name": "stdout",
     "output_type": "stream",
     "text": [
      "vino\n"
     ]
    },
    {
     "name": "stderr",
     "output_type": "stream",
     "text": [
      " 15%|█▌        | 3/20 [03:15<18:07, 63.98s/it]"
     ]
    },
    {
     "name": "stdout",
     "output_type": "stream",
     "text": [
      "pane\n"
     ]
    },
    {
     "name": "stderr",
     "output_type": "stream",
     "text": [
      " 20%|██        | 4/20 [04:26<17:51, 66.97s/it]"
     ]
    },
    {
     "name": "stdout",
     "output_type": "stream",
     "text": [
      "pizza\n"
     ]
    },
    {
     "name": "stderr",
     "output_type": "stream",
     "text": [
      " 25%|██▌       | 5/20 [05:45<17:46, 71.12s/it]"
     ]
    },
    {
     "name": "stdout",
     "output_type": "stream",
     "text": [
      "pasta\n"
     ]
    },
    {
     "name": "stderr",
     "output_type": "stream",
     "text": [
      " 30%|███       | 6/20 [06:58<16:43, 71.65s/it]"
     ]
    },
    {
     "name": "stdout",
     "output_type": "stream",
     "text": [
      "ristorante\n"
     ]
    },
    {
     "name": "stderr",
     "output_type": "stream",
     "text": [
      " 35%|███▌      | 7/20 [08:08<15:26, 71.29s/it]"
     ]
    },
    {
     "name": "stdout",
     "output_type": "stream",
     "text": [
      "bar\n"
     ]
    },
    {
     "name": "stderr",
     "output_type": "stream",
     "text": [
      " 40%|████      | 8/20 [09:26<14:40, 73.36s/it]"
     ]
    },
    {
     "name": "stdout",
     "output_type": "stream",
     "text": [
      "tavolo\n"
     ]
    },
    {
     "name": "stderr",
     "output_type": "stream",
     "text": [
      " 45%|████▌     | 9/20 [10:57<14:28, 78.93s/it]"
     ]
    },
    {
     "name": "stdout",
     "output_type": "stream",
     "text": [
      "sedia\n"
     ]
    },
    {
     "name": "stderr",
     "output_type": "stream",
     "text": [
      " 50%|█████     | 10/20 [12:09<12:46, 76.60s/it]"
     ]
    },
    {
     "name": "stdout",
     "output_type": "stream",
     "text": [
      "bagno\n"
     ]
    },
    {
     "name": "stderr",
     "output_type": "stream",
     "text": [
      " 55%|█████▌    | 11/20 [14:23<14:07, 94.18s/it]"
     ]
    },
    {
     "name": "stdout",
     "output_type": "stream",
     "text": [
      "camera\n"
     ]
    },
    {
     "name": "stderr",
     "output_type": "stream",
     "text": [
      " 60%|██████    | 12/20 [16:04<12:51, 96.47s/it]"
     ]
    },
    {
     "name": "stdout",
     "output_type": "stream",
     "text": [
      "biglietto\n"
     ]
    },
    {
     "name": "stderr",
     "output_type": "stream",
     "text": [
      " 65%|██████▌   | 13/20 [16:55<09:38, 82.62s/it]"
     ]
    },
    {
     "name": "stdout",
     "output_type": "stream",
     "text": [
      "macchina\n"
     ]
    },
    {
     "name": "stderr",
     "output_type": "stream",
     "text": [
      " 70%|███████   | 14/20 [17:43<07:13, 72.22s/it]"
     ]
    },
    {
     "name": "stdout",
     "output_type": "stream",
     "text": [
      "autobus\n"
     ]
    }
   ],
   "source": [
    "for term_it, term_en in tqdm(TERMS):\n",
    "    print(term_it)\n",
    "    output_path = f\"/Users/stevie/repos/lingo_kit_data/dataframes/v1.1.0/dataframes/{PART_OF_SPEECH}/{term_it}.csv\"\n",
    "    # if os.path.exists(output_path):\n",
    "    #     print(f\"File {output_path} already exists, skipping...\")\n",
    "    #     continue\n",
    "    generate_csv(\n",
    "        part_of_speech=PART_OF_SPEECH,\n",
    "        base_term=term_it, english_translation=term_en, \n",
    "        output_path=output_path,\n",
    "        model='gpt-5-mini')"
   ]
  },
  {
   "cell_type": "code",
   "execution_count": null,
   "metadata": {},
   "outputs": [],
   "source": [
    "import pandas as pd\n",
    "for term_it, term_en in tqdm(TERMS):\n",
    "    print(term_it)\n",
    "    output_path = f\"/Users/stevie/repos/lingo_kit_data/dataframes/v1.1.0/dataframes/{PART_OF_SPEECH}/{term_it}.csv\"\n",
    "    temp = pd.read_csv(output_path)"
   ]
  }
 ],
 "metadata": {
  "kernelspec": {
   "display_name": "venv",
   "language": "python",
   "name": "python3"
  },
  "language_info": {
   "codemirror_mode": {
    "name": "ipython",
    "version": 3
   },
   "file_extension": ".py",
   "mimetype": "text/x-python",
   "name": "python",
   "nbconvert_exporter": "python",
   "pygments_lexer": "ipython3",
   "version": "3.12.8"
  }
 },
 "nbformat": 4,
 "nbformat_minor": 2
}
