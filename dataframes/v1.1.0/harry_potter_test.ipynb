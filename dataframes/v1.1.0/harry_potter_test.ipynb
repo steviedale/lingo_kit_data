{
 "cells": [
  {
   "cell_type": "code",
   "execution_count": 159,
   "metadata": {},
   "outputs": [],
   "source": [
    "import os\n",
    "import pandas as pd"
   ]
  },
  {
   "cell_type": "code",
   "execution_count": 160,
   "metadata": {},
   "outputs": [],
   "source": [
    "text = \"\"\"CAPITOLO 1 CASA RIDDLE Gli abitanti di Little Hangleton la chiamavano ancora Casa Riddle, anche se erano passati tanti anni da quando i Riddle ci abitavano. Si trovava sulla collina che dominava il villaggio: alcune delle finestre erano inchiodate, al tetto mancavano delle tegole e l'edera cresceva incolta sulla facciata. Un tempo Casa Riddle era stata una dimora elegante, certo l'edificio più vasto e grandioso nel raggio di chilometri, ma ora era umida, desolata e disabitata. Gli hangletoniani convenivano tutti che la vecchia casa era sinistra. Mezzo secolo prima, qualcosa di strano e terribile era successo là dentro, qualcosa di cui gli abitanti più anziani del villaggio amavano ancora discutere quando erano a corto di pettegolezzi. La storia era stata ripetuta così tante volte, e vi erano stati aggiunti così tanti fronzoli che nessuno era più certo di quale fosse la verità. Ogni versione del racconto, comunque, cominciava allo stesso modo: cinquant'anni prima, all'alba di una bella giornata d'estate, quando Casa Riddle era ancora ben tenuta e imponente, una cameriera era entrata in salotto e aveva trovato morti tutti e tre i Riddle. La cameriera era corsa urlando giù per la collina fino al villaggio e aveva radunato tutte le persone che poteva. Sono là stesi con gli occhi spalancati! Freddi come il ghiaccio! Ancora vestiti per la cena! Fu chiamata la polizia e tutta quanta Little Hangleton si crogiolò in una curiosità atterrita e in una malcelata eccitazione. Nessuno si sforzò di fingersi addolorato per i Riddle, che erano stati assolutamente impopolari. Gli anziani signori Riddle, marito e moglie, erano ricchi, snob e sgarbati, e loro figlio Tom, ormai adulto, era anche peggio. Tutto quello che importava agli abitanti era l'identità dell'assassino: chiaramente, tre persone in apparenza sane non morivano di colpo per cause naturali nella stessa notte. L'Impiccato, il pub locale, fece affari d'oro quella sera: il villaggio al completo accorse per discutere gli omicidi. E la ricompensa per quell'uscita serale arrivò quando la cuoca dei Riddle fece un ingresso teatrale e annunciò al pub improvvisamente silenzioso che un uomo chiamato Frank Bryce era stato appena arrestato.\"\"\""
   ]
  },
  {
   "cell_type": "code",
   "execution_count": 161,
   "metadata": {},
   "outputs": [
    {
     "data": {
      "text/plain": [
       "['dataframes/conjunction/all.csv',\n",
       " 'dataframes/noun/pizza.csv',\n",
       " 'dataframes/noun/bagno.csv',\n",
       " 'dataframes/noun/albergo.csv',\n",
       " 'dataframes/noun/pasta.csv',\n",
       " 'dataframes/noun/camera.csv',\n",
       " 'dataframes/noun/bar.csv',\n",
       " 'dataframes/noun/tavolo.csv',\n",
       " 'dataframes/noun/autobus.csv',\n",
       " 'dataframes/noun/ristorante.csv',\n",
       " 'dataframes/noun/biglietto.csv',\n",
       " 'dataframes/noun/sedia.csv',\n",
       " 'dataframes/noun/aeroporto.csv',\n",
       " 'dataframes/noun/treno.csv',\n",
       " 'dataframes/noun/negozio.csv',\n",
       " 'dataframes/noun/pane.csv',\n",
       " 'dataframes/noun/caffè.csv',\n",
       " 'dataframes/noun/strada.csv',\n",
       " 'dataframes/noun/macchina.csv',\n",
       " 'dataframes/noun/acqua.csv',\n",
       " 'dataframes/noun/vino.csv',\n",
       " 'dataframes/verb/sapere.csv',\n",
       " 'dataframes/verb/vedere.csv',\n",
       " 'dataframes/verb/dare.csv',\n",
       " 'dataframes/verb/trovare.csv',\n",
       " 'dataframes/verb/fare.csv',\n",
       " 'dataframes/verb/volere.csv',\n",
       " 'dataframes/verb/dovere.csv',\n",
       " 'dataframes/verb/potere.csv',\n",
       " 'dataframes/verb/mettere.csv',\n",
       " 'dataframes/verb/avere.csv',\n",
       " 'dataframes/verb/essere.csv',\n",
       " 'dataframes/verb/conoscere.csv',\n",
       " 'dataframes/verb/mangiare.csv',\n",
       " 'dataframes/verb/venire.csv',\n",
       " 'dataframes/verb/andare.csv',\n",
       " 'dataframes/verb/prendere.csv',\n",
       " 'dataframes/verb/uscire.csv',\n",
       " 'dataframes/verb/dire.csv',\n",
       " 'dataframes/verb/pensare.csv',\n",
       " 'dataframes/verb/parlare.csv',\n",
       " 'dataframes/adjective/grande.csv',\n",
       " 'dataframes/adjective/corto.csv',\n",
       " 'dataframes/adjective/nuovo.csv',\n",
       " 'dataframes/adjective/basso.csv',\n",
       " 'dataframes/adjective/bello.csv',\n",
       " 'dataframes/adjective/primo.csv',\n",
       " 'dataframes/adjective/piccolo.csv',\n",
       " 'dataframes/adjective/altro.csv',\n",
       " 'dataframes/adjective/ultimo.csv',\n",
       " 'dataframes/adjective/lungo.csv',\n",
       " 'dataframes/adjective/alto.csv',\n",
       " 'dataframes/adjective/buono.csv',\n",
       " 'dataframes/adjective/vecchio.csv',\n",
       " 'dataframes/pronoun/chi.csv',\n",
       " 'dataframes/pronoun/qualcuno.csv',\n",
       " 'dataframes/pronoun/cui.csv',\n",
       " 'dataframes/pronoun/all_sorted.csv',\n",
       " 'dataframes/adverb/dentro.csv',\n",
       " 'dataframes/adverb/subito.csv',\n",
       " 'dataframes/adverb/spesso.csv',\n",
       " 'dataframes/adverb/quasi.csv',\n",
       " 'dataframes/adverb/dove.csv',\n",
       " 'dataframes/adverb/mai.csv',\n",
       " 'dataframes/adverb/come.csv',\n",
       " 'dataframes/adverb/poi.csv',\n",
       " 'dataframes/adverb/sì.csv',\n",
       " 'dataframes/adverb/male.csv',\n",
       " 'dataframes/adverb/poco.csv',\n",
       " 'dataframes/adverb/peggio.csv',\n",
       " 'dataframes/adverb/già.csv',\n",
       " 'dataframes/adverb/bene.csv',\n",
       " 'dataframes/adverb/sempre.csv',\n",
       " 'dataframes/adverb/ecco.csv',\n",
       " 'dataframes/adverb/ancora.csv',\n",
       " 'dataframes/adverb/molto.csv',\n",
       " 'dataframes/adverb/no.csv',\n",
       " 'dataframes/determiner/interogatives_exclamatives.csv',\n",
       " 'dataframes/determiner/possessives.csv',\n",
       " 'dataframes/determiner/articles.csv',\n",
       " 'dataframes/determiner/demonstratives.csv',\n",
       " 'dataframes/determiner/quantifiers_indefinites.csv',\n",
       " 'dataframes/preposition/all.csv']"
      ]
     },
     "execution_count": 161,
     "metadata": {},
     "output_type": "execute_result"
    }
   ],
   "source": [
    "def get_all_csv_files_rec(dir):\n",
    "    \"\"\"Ritorna una lista di tutti i file .csv nella directory e nelle sottodirectory.\"\"\"\n",
    "    csv_files = []\n",
    "    for root, dirs, files in os.walk(dir):\n",
    "        for file in files:\n",
    "            if file.endswith('.csv'):\n",
    "                csv_files.append(os.path.join(root, file))\n",
    "    return csv_files\n",
    "all_csv_files = get_all_csv_files_rec('dataframes')\n",
    "all_csv_files"
   ]
  },
  {
   "cell_type": "code",
   "execution_count": 162,
   "metadata": {},
   "outputs": [
    {
     "data": {
      "text/plain": [
       "(1210,\n",
       " Index(['term_italian', 'is_base', 'base_word_italian', 'translation_english',\n",
       "        'topics', 'conjunction_type', 'notes', 'example_sentence_italian',\n",
       "        'example_sentence_english', 'base_term_italian', 'gender', 'plurality',\n",
       "        'article_type', 'article_italian', 'added_particle_italian',\n",
       "        'preposition', 'mood', 'tense', 'person_number', 'is_compound',\n",
       "        'pronoun_kind', 'is_comparative', 'is_superlative', 'determiner_type',\n",
       "        'preposition_type'],\n",
       "       dtype='object'))"
      ]
     },
     "execution_count": 162,
     "metadata": {},
     "output_type": "execute_result"
    }
   ],
   "source": [
    "all_df = pd.DataFrame()\n",
    "for path in all_csv_files:\n",
    "    assert(os.path.exists(path))\n",
    "    # print(path)\n",
    "    df = pd.read_csv(path)\n",
    "    all_df = pd.concat([all_df, df], ignore_index=True)\n",
    "len(all_df), all_df.columns"
   ]
  },
  {
   "cell_type": "code",
   "execution_count": 163,
   "metadata": {},
   "outputs": [
    {
     "data": {
      "text/plain": [
       "{'a',\n",
       " 'abitanti',\n",
       " 'abitavano',\n",
       " 'accorse',\n",
       " 'addolorato',\n",
       " 'adulto',\n",
       " 'affari',\n",
       " 'aggiunti',\n",
       " 'agli',\n",
       " 'al',\n",
       " 'alcune',\n",
       " \"all'alba\",\n",
       " 'allo',\n",
       " 'amavano',\n",
       " 'anche',\n",
       " 'ancora',\n",
       " 'anni',\n",
       " 'annunciò',\n",
       " 'anziani',\n",
       " 'apparenza',\n",
       " 'appena',\n",
       " 'arrestato',\n",
       " 'arrivò',\n",
       " 'assolutamente',\n",
       " 'atterrita',\n",
       " 'aveva',\n",
       " 'bella',\n",
       " 'ben',\n",
       " 'bryce',\n",
       " 'cameriera',\n",
       " 'capitolo',\n",
       " 'casa',\n",
       " 'cause',\n",
       " 'cena',\n",
       " 'certo',\n",
       " 'che',\n",
       " 'chiamata',\n",
       " 'chiamato',\n",
       " 'chiamavano',\n",
       " 'chiaramente',\n",
       " 'chilometri',\n",
       " 'ci',\n",
       " \"cinquant'anni\",\n",
       " 'collina',\n",
       " 'colpo',\n",
       " 'come',\n",
       " 'cominciava',\n",
       " 'completo',\n",
       " 'comunque',\n",
       " 'con',\n",
       " 'convenivano',\n",
       " 'corsa',\n",
       " 'corto',\n",
       " 'così',\n",
       " 'cresceva',\n",
       " 'crogiolò',\n",
       " 'cui',\n",
       " 'cuoca',\n",
       " 'curiosità',\n",
       " \"d'estate\",\n",
       " \"d'oro\",\n",
       " 'da',\n",
       " 'dei',\n",
       " 'del',\n",
       " \"dell'assassino:\",\n",
       " 'delle',\n",
       " 'dentro',\n",
       " 'desolata',\n",
       " 'di',\n",
       " 'dimora',\n",
       " 'disabitata',\n",
       " 'discutere',\n",
       " 'dominava',\n",
       " 'e',\n",
       " 'eccitazione',\n",
       " 'elegante',\n",
       " 'entrata',\n",
       " 'era',\n",
       " 'erano',\n",
       " 'facciata',\n",
       " 'fece',\n",
       " 'figlio',\n",
       " 'finestre',\n",
       " 'fingersi',\n",
       " 'fino',\n",
       " 'fosse',\n",
       " 'frank',\n",
       " 'freddi',\n",
       " 'fronzoli',\n",
       " 'fu',\n",
       " 'ghiaccio',\n",
       " 'giornata',\n",
       " 'giù',\n",
       " 'gli',\n",
       " 'grandioso',\n",
       " 'hangleton',\n",
       " 'hangletoniani',\n",
       " 'i',\n",
       " 'il',\n",
       " 'imponente',\n",
       " 'impopolari',\n",
       " 'importava',\n",
       " 'improvvisamente',\n",
       " 'in',\n",
       " 'inchiodate',\n",
       " 'incolta',\n",
       " 'ingresso',\n",
       " \"l'edera\",\n",
       " \"l'edificio\",\n",
       " \"l'identità\",\n",
       " \"l'impiccato\",\n",
       " 'la',\n",
       " 'le',\n",
       " 'little',\n",
       " 'locale',\n",
       " 'loro',\n",
       " 'là',\n",
       " 'ma',\n",
       " 'malcelata',\n",
       " 'mancavano',\n",
       " 'marito',\n",
       " 'mezzo',\n",
       " 'modo:',\n",
       " 'moglie',\n",
       " 'morivano',\n",
       " 'morti',\n",
       " 'naturali',\n",
       " 'nel',\n",
       " 'nella',\n",
       " 'nessuno',\n",
       " 'non',\n",
       " 'notte',\n",
       " 'occhi',\n",
       " 'ogni',\n",
       " 'omicidi',\n",
       " 'ora',\n",
       " 'ormai',\n",
       " 'passati',\n",
       " 'peggio',\n",
       " 'per',\n",
       " 'persone',\n",
       " 'pettegolezzi',\n",
       " 'più',\n",
       " 'polizia',\n",
       " 'poteva',\n",
       " 'prima',\n",
       " 'pub',\n",
       " 'qualcosa',\n",
       " 'quale',\n",
       " 'quando',\n",
       " 'quanta',\n",
       " \"quell'uscita\",\n",
       " 'quella',\n",
       " 'quello',\n",
       " 'racconto',\n",
       " 'radunato',\n",
       " 'raggio',\n",
       " 'ricchi',\n",
       " 'ricompensa',\n",
       " 'riddle',\n",
       " 'ripetuta',\n",
       " 'salotto',\n",
       " 'sane',\n",
       " 'se',\n",
       " 'secolo',\n",
       " 'sera:',\n",
       " 'serale',\n",
       " 'sforzò',\n",
       " 'sgarbati',\n",
       " 'si',\n",
       " 'signori',\n",
       " 'silenzioso',\n",
       " 'sinistra',\n",
       " 'snob',\n",
       " 'sono',\n",
       " 'spalancati',\n",
       " 'stata',\n",
       " 'stati',\n",
       " 'stato',\n",
       " 'stesi',\n",
       " 'stessa',\n",
       " 'stesso',\n",
       " 'storia',\n",
       " 'strano',\n",
       " 'successo',\n",
       " 'sulla',\n",
       " 'tante',\n",
       " 'tanti',\n",
       " 'teatrale',\n",
       " 'tegole',\n",
       " 'tempo',\n",
       " 'tenuta',\n",
       " 'terribile',\n",
       " 'tetto',\n",
       " 'tom',\n",
       " 'tre',\n",
       " 'trovato',\n",
       " 'trovava',\n",
       " 'tutta',\n",
       " 'tutte',\n",
       " 'tutti',\n",
       " 'tutto',\n",
       " 'umida',\n",
       " 'un',\n",
       " 'una',\n",
       " 'uomo',\n",
       " 'urlando',\n",
       " 'vasto',\n",
       " 'vecchia',\n",
       " 'verità',\n",
       " 'versione',\n",
       " 'vestiti',\n",
       " 'vi',\n",
       " 'villaggio',\n",
       " 'villaggio:',\n",
       " 'volte'}"
      ]
     },
     "execution_count": 163,
     "metadata": {},
     "output_type": "execute_result"
    }
   ],
   "source": [
    "harry_potter_words = set(text.lower().replace('\\n', ' ').replace('.', ' ').replace(',', ' ').replace('!', ' ').replace('?', ' ').split(' '))\n",
    "# ignore empty strings\n",
    "harry_potter_words.discard('')\n",
    "# ignore numbers\n",
    "harry_potter_words = {w for w in harry_potter_words if not w.isdigit()}\n",
    "harry_potter_words"
   ]
  },
  {
   "cell_type": "code",
   "execution_count": 164,
   "metadata": {},
   "outputs": [
    {
     "data": {
      "text/plain": [
       "Index(['term_italian', 'is_base', 'base_word_italian', 'translation_english',\n",
       "       'topics', 'conjunction_type', 'notes', 'example_sentence_italian',\n",
       "       'example_sentence_english', 'base_term_italian', 'gender', 'plurality',\n",
       "       'article_type', 'article_italian', 'added_particle_italian',\n",
       "       'preposition', 'mood', 'tense', 'person_number', 'is_compound',\n",
       "       'pronoun_kind', 'is_comparative', 'is_superlative', 'determiner_type',\n",
       "       'preposition_type'],\n",
       "      dtype='object')"
      ]
     },
     "execution_count": 164,
     "metadata": {},
     "output_type": "execute_result"
    }
   ],
   "source": [
    "all_df.columns"
   ]
  },
  {
   "cell_type": "code",
   "execution_count": 165,
   "metadata": {},
   "outputs": [
    {
     "data": {
      "text/plain": [
       "1060"
      ]
     },
     "execution_count": 165,
     "metadata": {},
     "output_type": "execute_result"
    }
   ],
   "source": [
    "our_words = set(all_df['term_italian'].tolist())\n",
    "len(our_words)"
   ]
  },
  {
   "cell_type": "code",
   "execution_count": 166,
   "metadata": {},
   "outputs": [
    {
     "name": "stdout",
     "output_type": "stream",
     "text": [
      "INTERSECTION: 64: ['a', 'agli', 'al', 'alcune', 'allo', 'ancora', 'aveva', 'bella', 'che', 'ci', 'come', 'con', 'corto', 'così', 'cui', 'da', 'dei', 'del', 'delle', 'dentro', 'di', 'e', 'era', 'erano', 'gli', 'i', 'il', 'in', 'la', 'le', 'loro', 'ma', 'nel', 'nella', 'nessuno', 'ogni', 'peggio', 'per', 'poteva', 'prima', 'quale', 'quando', 'quanta', 'quella', 'quello', 'se', 'si', 'sono', 'stata', 'stati', 'stato', 'sulla', 'tante', 'tanti', 'trovato', 'trovava', 'tutta', 'tutte', 'tutti', 'tutto', 'un', 'una', 'vecchia', 'vi']\n",
      "MISSING: 152: ['abitanti', 'abitavano', 'accorse', 'addolorato', 'adulto', 'affari', 'aggiunti', \"all'alba\", 'amavano', 'anche', 'anni', 'annunciò', 'anziani', 'apparenza', 'appena', 'arrestato', 'arrivò', 'assolutamente', 'atterrita', 'ben', 'bryce', 'cameriera', 'capitolo', 'casa', 'cause', 'cena', 'certo', 'chiamata', 'chiamato', 'chiamavano', 'chiaramente', 'chilometri', \"cinquant'anni\", 'collina', 'colpo', 'cominciava', 'completo', 'comunque', 'convenivano', 'corsa', 'cresceva', 'crogiolò', 'cuoca', 'curiosità', \"d'estate\", \"d'oro\", \"dell'assassino:\", 'desolata', 'dimora', 'disabitata', 'discutere', 'dominava', 'eccitazione', 'elegante', 'entrata', 'facciata', 'fece', 'figlio', 'finestre', 'fingersi', 'fino', 'fosse', 'frank', 'freddi', 'fronzoli', 'fu', 'ghiaccio', 'giornata', 'giù', 'grandioso', 'hangleton', 'hangletoniani', 'imponente', 'impopolari', 'importava', 'improvvisamente', 'inchiodate', 'incolta', 'ingresso', \"l'edera\", \"l'edificio\", \"l'identità\", \"l'impiccato\", 'little', 'locale', 'là', 'malcelata', 'mancavano', 'marito', 'mezzo', 'modo:', 'moglie', 'morivano', 'morti', 'naturali', 'non', 'notte', 'occhi', 'omicidi', 'ora', 'ormai', 'passati', 'persone', 'pettegolezzi', 'più', 'polizia', 'pub', 'qualcosa', \"quell'uscita\", 'racconto', 'radunato', 'raggio', 'ricchi', 'ricompensa', 'riddle', 'ripetuta', 'salotto', 'sane', 'secolo', 'sera:', 'serale', 'sforzò', 'sgarbati', 'signori', 'silenzioso', 'sinistra', 'snob', 'spalancati', 'stesi', 'stessa', 'stesso', 'storia', 'strano', 'successo', 'teatrale', 'tegole', 'tempo', 'tenuta', 'terribile', 'tetto', 'tom', 'tre', 'umida', 'uomo', 'urlando', 'vasto', 'verità', 'versione', 'vestiti', 'villaggio', 'villaggio:', 'volte']\n"
     ]
    }
   ],
   "source": [
    "intersection = harry_potter_words.intersection(our_words)\n",
    "missing = harry_potter_words.difference(our_words)\n",
    "print(f\"INTERSECTION: {len(intersection)}: {sorted(intersection)}\")\n",
    "print(f\"MISSING: {len(missing)}: {sorted(missing)}\")"
   ]
  },
  {
   "cell_type": "code",
   "execution_count": 167,
   "metadata": {},
   "outputs": [],
   "source": [
    "important_missing = ['come', 'cui', \"d'estate\", 'dentro', 'di', 'quando']"
   ]
  },
  {
   "cell_type": "code",
   "execution_count": 168,
   "metadata": {},
   "outputs": [
    {
     "name": "stdout",
     "output_type": "stream",
     "text": [
      "Missing important word: d'estate\n"
     ]
    }
   ],
   "source": [
    "for word in important_missing:\n",
    "    n = (all_df['term_italian'] == word).sum()\n",
    "    if n == 0:\n",
    "        print(f\"Missing important word: {word}\")"
   ]
  },
  {
   "cell_type": "code",
   "execution_count": 169,
   "metadata": {},
   "outputs": [],
   "source": [
    "second_page_words = [\n",
    "    'il', 'lo', 'la', 'i', 'gli', 'le',\n",
    "    'un', 'una', 'uno',\n",
    "    'dei', 'degli', 'delle',\n",
    "    'al', 'alla', 'allo',\n",
    "    'del', 'della', 'dello', 'dei',\n",
    "    'coi',\n",
    "    'per', 'di', 'a', 'da', 'in', 'su', 'sui', 'con', 'tra',\n",
    "    'e', 'o', 'ma', 'che', 'se', 'mentre', 'quando', 'poi', 'proprio', 'né',\n",
    "    'eh', 'ecco', 'sì', 'no',\n",
    "    'mi', 'ti', 'si', 'ci', 'vi',\n",
    "    'lo', 'la', 'li', 'le',\n",
    "    'gli', 'le', 'loro',\n",
    "    'me', 'te', 'sé', 'noi', 'voi',\n",
    "    'questo', 'questa', 'questi', 'queste',\n",
    "    'quello', 'quella', 'quelli', 'quelle',\n",
    "    'quasi',\n",
    "    'nessuno', 'qualcuno', 'altro',\n",
    "    'tutto',\n",
    "    'chi', 'cui', 'dove', 'come', 'perché', 'quanto'\n",
    "]"
   ]
  },
  {
   "cell_type": "code",
   "execution_count": 170,
   "metadata": {},
   "outputs": [
    {
     "name": "stdout",
     "output_type": "stream",
     "text": [
      "Missing important word: proprio\n",
      "Missing important word: eh\n"
     ]
    }
   ],
   "source": [
    "for word in second_page_words:\n",
    "    n = (all_df['term_italian'] == word).sum()\n",
    "    if n == 0:\n",
    "        print(f\"Missing important word: {word}\")"
   ]
  },
  {
   "cell_type": "code",
   "execution_count": null,
   "metadata": {},
   "outputs": [],
   "source": []
  }
 ],
 "metadata": {
  "kernelspec": {
   "display_name": "venv",
   "language": "python",
   "name": "python3"
  },
  "language_info": {
   "codemirror_mode": {
    "name": "ipython",
    "version": 3
   },
   "file_extension": ".py",
   "mimetype": "text/x-python",
   "name": "python",
   "nbconvert_exporter": "python",
   "pygments_lexer": "ipython3",
   "version": "3.12.8"
  }
 },
 "nbformat": 4,
 "nbformat_minor": 2
}
