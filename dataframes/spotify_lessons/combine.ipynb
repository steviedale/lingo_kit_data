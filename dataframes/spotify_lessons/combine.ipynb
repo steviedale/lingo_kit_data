{
 "cells": [
  {
   "cell_type": "code",
   "execution_count": null,
   "metadata": {},
   "outputs": [],
   "source": [
    "import os\n",
    "import pandas as pd\n",
    "import shutil"
   ]
  },
  {
   "cell_type": "code",
   "execution_count": null,
   "metadata": {},
   "outputs": [],
   "source": [
    "lesson_dir = '/Users/stevie/repos/lingo_kit_data/dataframes/spotify_lessons'\n",
    "lesson_folders = [\n",
    "    x for x in os.listdir(lesson_dir)\n",
    "    if 'lesson_' in x\n",
    "]\n",
    "lesson_folders.sort(key=lambda x: int(x.split('_')[1]))"
   ]
  },
  {
   "cell_type": "code",
   "execution_count": null,
   "metadata": {},
   "outputs": [],
   "source": [
    "main_df = pd.DataFrame()"
   ]
  },
  {
   "cell_type": "code",
   "execution_count": null,
   "metadata": {},
   "outputs": [],
   "source": [
    "for lesson_folder in lesson_folders:\n",
    "    folder_path = os.path.join(lesson_dir, lesson_folder)\n",
    "    df_path = os.path.join(folder_path, 'transcript.csv')\n",
    "    df = pd.read_csv(df_path)\n",
    "    df['topics'] = f\"[spotify_lessons, {lesson_folder}]\"\n",
    "    df['part_of_speech'] = ''\n",
    "    df['english_base_term'] = ''\n",
    "    df['italian_base_term'] = ''\n",
    "    df.rename(columns={\n",
    "        'english': 'english_term',\n",
    "        'italian': 'italian_term',\n",
    "    }, inplace=True)\n",
    "    main_df = pd.concat([main_df, df], ignore_index=True)\n",
    "main_df.reset_index(drop=True, inplace=True)"
   ]
  },
  {
   "cell_type": "code",
   "execution_count": null,
   "metadata": {},
   "outputs": [],
   "source": [
    "len(main_df), main_df.columns"
   ]
  },
  {
   "cell_type": "code",
   "execution_count": null,
   "metadata": {},
   "outputs": [],
   "source": [
    "sorted_columns = [\n",
    "    'english_term',\n",
    "    'italian_term',\n",
    "    'part_of_speech',\n",
    "    'topics',\n",
    "    'english_base_term',\n",
    "    'italian_base_term',\n",
    "]\n",
    "main_df = main_df[sorted_columns]"
   ]
  },
  {
   "cell_type": "code",
   "execution_count": null,
   "metadata": {},
   "outputs": [],
   "source": [
    "main_df.columns"
   ]
  },
  {
   "cell_type": "code",
   "execution_count": null,
   "metadata": {},
   "outputs": [],
   "source": [
    "main_df.to_csv('/Users/stevie/repos/lingo_kit_data/dataframes/spotify_lessons.csv', index=False)"
   ]
  },
  {
   "cell_type": "code",
   "execution_count": null,
   "metadata": {},
   "outputs": [],
   "source": []
  }
 ],
 "metadata": {
  "kernelspec": {
   "display_name": "venv",
   "language": "python",
   "name": "python3"
  },
  "language_info": {
   "codemirror_mode": {
    "name": "ipython",
    "version": 3
   },
   "file_extension": ".py",
   "mimetype": "text/x-python",
   "name": "python",
   "nbconvert_exporter": "python",
   "pygments_lexer": "ipython3",
   "version": "3.12.8"
  }
 },
 "nbformat": 4,
 "nbformat_minor": 2
}
