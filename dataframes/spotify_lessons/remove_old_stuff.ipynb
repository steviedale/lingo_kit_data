{
 "cells": [
  {
   "cell_type": "code",
   "execution_count": null,
   "metadata": {},
   "outputs": [],
   "source": [
    "import os\n",
    "import pandas as pd\n",
    "import shutil"
   ]
  },
  {
   "cell_type": "code",
   "execution_count": null,
   "metadata": {},
   "outputs": [],
   "source": [
    "lesson_dir = '/Users/stevie/repos/lingo_kit_data/dataframes/spotify_lessons'\n",
    "lesson_folders = [\n",
    "    x for x in os.listdir(lesson_dir)\n",
    "    if 'lesson_' in x\n",
    "]\n",
    "lesson_folders.sort(key=lambda x: int(x.split('_')[1]))"
   ]
  },
  {
   "cell_type": "code",
   "execution_count": null,
   "metadata": {},
   "outputs": [],
   "source": [
    "to_delete = [\n",
    "    'audio',\n",
    "    'data.js',\n",
    "    'data.json',\n",
    "] \n",
    "for lesson_folder in lesson_folders:\n",
    "    folder_path = os.path.join(lesson_dir, lesson_folder)\n",
    "    for item in to_delete:\n",
    "        item_path = os.path.join(folder_path, item)\n",
    "        # print(item_path)\n",
    "        if os.path.exists(item_path):\n",
    "            if os.path.isdir(item_path):\n",
    "                print(f'Deleting directory: {item_path}')\n",
    "                shutil.rmtree(item_path)\n",
    "            else:\n",
    "                print(f'Deleting file: {item_path}')\n",
    "                os.remove(item_path)"
   ]
  },
  {
   "cell_type": "code",
   "execution_count": null,
   "metadata": {},
   "outputs": [],
   "source": []
  }
 ],
 "metadata": {
  "kernelspec": {
   "display_name": "venv",
   "language": "python",
   "name": "python3"
  },
  "language_info": {
   "codemirror_mode": {
    "name": "ipython",
    "version": 3
   },
   "file_extension": ".py",
   "mimetype": "text/x-python",
   "name": "python",
   "nbconvert_exporter": "python",
   "pygments_lexer": "ipython3",
   "version": "3.12.8"
  }
 },
 "nbformat": 4,
 "nbformat_minor": 2
}
