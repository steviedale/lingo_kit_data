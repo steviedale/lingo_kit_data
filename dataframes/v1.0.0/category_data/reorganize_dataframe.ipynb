{
  "cells": [
    {
      "cell_type": "code",
      "execution_count": null,
      "metadata": {},
      "outputs": [],
      "source": [
        "import os\n",
        "import pandas as pd"
      ]
    },
    {
      "cell_type": "code",
      "execution_count": null,
      "metadata": {},
      "outputs": [],
      "source": [
        "ref_df = pd.read_csv('/Users/stevie/repos/lingo_kit_data/dataframes/foundational_terms/combined.csv')\n",
        "df = pd.read_csv('/Users/stevie/repos/lingo_kit_data/dataframes/category_data/original.csv')"
      ]
    },
    {
      "cell_type": "code",
      "execution_count": null,
      "metadata": {},
      "outputs": [],
      "source": [
        "ref_df.columns"
      ]
    },
    {
      "cell_type": "code",
      "execution_count": null,
      "metadata": {},
      "outputs": [],
      "source": [
        "df.columns"
      ]
    },
    {
      "cell_type": "code",
      "execution_count": null,
      "metadata": {},
      "outputs": [],
      "source": [
        "ref_df.iloc[0]"
      ]
    },
    {
      "cell_type": "code",
      "execution_count": null,
      "metadata": {},
      "outputs": [],
      "source": [
        "df.iloc[0]"
      ]
    },
    {
      "cell_type": "code",
      "execution_count": null,
      "metadata": {},
      "outputs": [],
      "source": [
        "df['topics'] = df['sub_category'].apply(lambda x: f\"[{x}]\")"
      ]
    },
    {
      "cell_type": "code",
      "execution_count": null,
      "metadata": {},
      "outputs": [],
      "source": [
        "target_columns = [\n",
        "    'english', 'italian', 'base_term', 'is_base', 'topics',\n",
        "    'part_of_speech',\n",
        "    'base_term_italian', 'base_term_english',\n",
        "]\n",
        "\n",
        "# current_columns = [\n",
        "#     'category', 'sub_category', 'definition_en', 'pronunciation',\n",
        "#     'singular_plural', 'tense', 'gender', 'commonness', 'part_of_speech',\n",
        "#     'formal_informal', 'example_sentence_en', 'example_sentence_it',\n",
        "#     'related_words_it', 'article_type', 'base_term', 'combined_hash',\n",
        "#     'combined_audio_file', 'english_text', 'english_hash',\n",
        "#     'english_audio_file', 'english_voice_name', 'english_speaking_rate',\n",
        "#     'english_pitch', 'english_duration_ms', 'italian_text', 'italian_hash',\n",
        "#     'italian_audio_file', 'italian_voice_name', 'italian_speaking_rate',\n",
        "#     'italian_pitch', 'italian_duration_ms'\n",
        "# ]\n",
        "\n",
        "df.rename(columns={\n",
        "    'english_text': 'english',\n",
        "    'italian_text': 'italian',\n",
        "    'base_term': 'base_term_italian',\n",
        "}, inplace=True)\n",
        "\n",
        "df['base_term_english'] = df['english']\n",
        "\n",
        "current_columns = df.columns.tolist()"
      ]
    },
    {
      "cell_type": "code",
      "execution_count": null,
      "metadata": {},
      "outputs": [],
      "source": [
        "df.duplicated(subset=['italian', 'english']).sum()\n",
        "df.drop_duplicates(subset=['italian', 'english'], inplace=True)"
      ]
    },
    {
      "cell_type": "code",
      "execution_count": null,
      "metadata": {},
      "outputs": [],
      "source": [
        "df.drop(columns=[x for x in current_columns if x not in target_columns], inplace=True)\n",
        "df.columns"
      ]
    },
    {
      "cell_type": "code",
      "execution_count": null,
      "metadata": {},
      "outputs": [],
      "source": [
        "df.to_csv('new.csv', index=False)"
      ]
    },
    {
      "cell_type": "code",
      "execution_count": null,
      "metadata": {},
      "outputs": [],
      "source": [
        "display_columns = ['english', 'italian', 'base_term']\n",
        "match_dict = {}\n",
        "ignore_list = ['caldo', 'freddo']\n",
        "for base_term in df['base_term'].unique():\n",
        "    if base_term in ignore_list:\n",
        "        continue\n",
        "    sel_df = df[df['base_term'] == base_term]\n",
        "    assert(len(sel_df) >= 1)\n",
        "    if sel_df['english'].nunique() != 1:\n",
        "        print(sel_df[display_columns])\n",
        "    assert(sel_df['english'].nunique() == 1)\n",
        "#     base_df = df[df['italian'] == base_term]\n",
        "#     if len(base_df) < 1:\n",
        "#         print(sel_df[display_columns])\n",
        "#         print(base_df)\n",
        "#         print(base_term)\n",
        "#     assert(len(base_df) >= 1)\n",
        "#     # base_term = sel_df.iloc[0]['']\n",
        "#     if len(base_df) in match_dict:\n",
        "#         match_dict[len(base_df)].append(base_term)\n",
        "#     else:\n",
        "#         match_dict[len(base_df)] = [base_term]\n",
        "# for k, v in match_dict.items():\n",
        "#     print(f\"{k}: {len(v)}\")"
      ]
    },
    {
      "cell_type": "code",
      "execution_count": null,
      "metadata": {},
      "outputs": [],
      "source": [
        "for english_term in df['english'].unique():\n",
        "    sel_df = df[df['english'] == english_term]\n",
        "    base_italian_term = sel_df.iloc[0]['base_term']\n",
        "    base_df = df[df['italian'] == base_italian_term]\n",
        "    not_base_df = df[df['italian'] != base_italian_term]\n",
        "    df.loc[sel_df.index, 'base_term'] = english_term\n",
        "    df.loc[base_df.index, 'is_base'] = True\n",
        "    df.loc[not_base_df.index, 'is_base'] = False"
      ]
    },
    {
      "cell_type": "code",
      "execution_count": null,
      "metadata": {},
      "outputs": [],
      "source": [
        "df.drop(columns=[x for x in current_columns if x not in target_columns], inplace=True)\n",
        "df.columns"
      ]
    },
    {
      "cell_type": "code",
      "execution_count": null,
      "metadata": {},
      "outputs": [],
      "source": [
        "df.to_csv('new.csv', index=False)"
      ]
    },
    {
      "cell_type": "code",
      "execution_count": null,
      "metadata": {},
      "outputs": [],
      "source": []
    }
  ],
  "metadata": {
    "kernelspec": {
      "display_name": "venv",
      "language": "python",
      "name": "python3"
    },
    "language_info": {
      "codemirror_mode": {
        "name": "ipython",
        "version": 3
      },
      "file_extension": ".py",
      "mimetype": "text/x-python",
      "name": "python",
      "nbconvert_exporter": "python",
      "pygments_lexer": "ipython3",
      "version": "3.12.8"
    }
  },
  "nbformat": 4,
  "nbformat_minor": 2
}
