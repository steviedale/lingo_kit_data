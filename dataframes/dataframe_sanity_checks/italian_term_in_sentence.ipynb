{
 "cells": [
  {
   "cell_type": "code",
   "execution_count": null,
   "metadata": {},
   "outputs": [],
   "source": [
    "# load in environment variable\n",
    "import os\n",
    "PATH_TO_REPO = os.getenv('PATH_TO_REPO')\n",
    "assert PATH_TO_REPO is not None, \"Please set PATH_TO_REPO environment variable\""
   ]
  },
  {
   "cell_type": "code",
   "execution_count": null,
   "metadata": {},
   "outputs": [],
   "source": [
    "import os\n",
    "import pandas as pd\n",
    "import sys"
   ]
  },
  {
   "cell_type": "code",
   "execution_count": null,
   "metadata": {},
   "outputs": [],
   "source": [
    "sys.path.append(PATH_TO_REPO)\n",
    "from utils.csv_helper import get_all_terms_df"
   ]
  },
  {
   "cell_type": "code",
   "execution_count": null,
   "metadata": {},
   "outputs": [],
   "source": [
    "all_df = get_all_terms_df()"
   ]
  },
  {
   "cell_type": "code",
   "execution_count": null,
   "metadata": {},
   "outputs": [],
   "source": [
    "len(all_df), all_df.columns"
   ]
  },
  {
   "cell_type": "code",
   "execution_count": null,
   "metadata": {},
   "outputs": [],
   "source": [
    "all_df['base'] = all_df.apply(\n",
    "    lambda row: f\"{row['term_italian']}_{row['base_lemma_english']}_{row['translation_english']}_{row['part_of_speech']}\", axis=1\n",
    ")\n",
    "all_df['base'].value_counts()"
   ]
  },
  {
   "cell_type": "code",
   "execution_count": null,
   "metadata": {},
   "outputs": [],
   "source": [
    "all_df['base'] = all_df.apply(\n",
    "    lambda row: f\"{row['term_italian']}_{row['base_lemma_english']}_{row['translation_english']}\", axis=1\n",
    ")\n",
    "all_df['base'].value_counts()"
   ]
  },
  {
   "cell_type": "code",
   "execution_count": null,
   "metadata": {},
   "outputs": [],
   "source": [
    "# base = 'più_more/plus_more'\n",
    "base = 'quanto_how much/how many/as much as_how much'\n",
    "all_df[all_df['base'] == base][['term_italian', 'base_lemma_english', 'translation_english', 'part_of_speech']]"
   ]
  },
  {
   "cell_type": "code",
   "execution_count": null,
   "metadata": {},
   "outputs": [],
   "source": [
    "english_text = all_df['translation_english'].unique()\n",
    "english_text_counts = [len(x) for x in english_text]\n",
    "english_text_total = sum(english_text_counts)\n",
    "english_text_total"
   ]
  },
  {
   "cell_type": "code",
   "execution_count": null,
   "metadata": {},
   "outputs": [],
   "source": [
    "italian_text = all_df['term_italian'].unique()\n",
    "italian_text_counts = [len(x) for x in italian_text]\n",
    "italian_text_total = sum(italian_text_counts)\n",
    "italian_text_total"
   ]
  },
  {
   "cell_type": "code",
   "execution_count": null,
   "metadata": {},
   "outputs": [],
   "source": [
    "total = english_text_total + italian_text_total\n",
    "total"
   ]
  },
  {
   "cell_type": "code",
   "execution_count": null,
   "metadata": {},
   "outputs": [],
   "source": [
    "from tqdm import tqdm\n",
    "for i, row in tqdm(all_df.iterrows()):\n",
    "    italian_term = row['term_italian'].lower()\n",
    "    italian_sentence = row['example_sentence_italian'].lower()\n",
    "    if italian_term not in italian_sentence:\n",
    "        print(f\"{italian_term} --- {italian_sentence}\")\n",
    "        print(row['part_of_speech'])\n",
    "        print(row['base_lemma_italian'])"
   ]
  },
  {
   "cell_type": "code",
   "execution_count": null,
   "metadata": {},
   "outputs": [],
   "source": []
  }
 ],
 "metadata": {
  "kernelspec": {
   "display_name": "venv",
   "language": "python",
   "name": "python3"
  },
  "language_info": {
   "codemirror_mode": {
    "name": "ipython",
    "version": 3
   },
   "file_extension": ".py",
   "mimetype": "text/x-python",
   "name": "python",
   "nbconvert_exporter": "python",
   "pygments_lexer": "ipython3",
   "version": "3.12.8"
  }
 },
 "nbformat": 4,
 "nbformat_minor": 2
}
