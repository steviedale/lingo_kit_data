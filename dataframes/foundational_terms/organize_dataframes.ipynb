{
 "cells": [
  {
   "cell_type": "code",
   "execution_count": 1,
   "metadata": {},
   "outputs": [],
   "source": [
    "import os\n",
    "import pandas as pd"
   ]
  },
  {
   "cell_type": "code",
   "execution_count": 2,
   "metadata": {},
   "outputs": [],
   "source": [
    "ind_dir = '/Users/stevie/repos/language_app/foundational_words/dataframes/individual_dataframes'\n",
    "main_df = pd.DataFrame()\n",
    "for file in os.listdir(ind_dir):\n",
    "    if file.endswith('.csv'):\n",
    "        topic = 'foundational_words'\n",
    "        pos = file.replace('_foundational.csv', '')\n",
    "        file_path = os.path.join(ind_dir, file)\n",
    "        df = pd.read_csv(file_path)\n",
    "        df['topic'] = topic\n",
    "        df['part_of_speech'] = pos\n",
    "        df.to_csv(file_path, index=False)\n",
    "        main_df = pd.concat([main_df, df], ignore_index=True)\n",
    "main_df.to_csv('/Users/stevie/repos/language_app/foundational_words/dataframes/combined.csv', index=False)"
   ]
  },
  {
   "cell_type": "code",
   "execution_count": null,
   "metadata": {},
   "outputs": [],
   "source": []
  }
 ],
 "metadata": {
  "kernelspec": {
   "display_name": "venv",
   "language": "python",
   "name": "python3"
  },
  "language_info": {
   "codemirror_mode": {
    "name": "ipython",
    "version": 3
   },
   "file_extension": ".py",
   "mimetype": "text/x-python",
   "name": "python",
   "nbconvert_exporter": "python",
   "pygments_lexer": "ipython3",
   "version": "3.9.6"
  }
 },
 "nbformat": 4,
 "nbformat_minor": 2
}
