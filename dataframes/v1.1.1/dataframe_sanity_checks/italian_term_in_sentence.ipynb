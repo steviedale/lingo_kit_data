{
 "cells": [
  {
   "cell_type": "code",
   "execution_count": 3,
   "metadata": {},
   "outputs": [],
   "source": [
    "import os\n",
    "import pandas as pd\n",
    "import sys"
   ]
  },
  {
   "cell_type": "code",
   "execution_count": 4,
   "metadata": {},
   "outputs": [],
   "source": [
    "sys.path.append('/Users/stevie/repos/lingo_kit_data/dataframes/v1.1.1')\n",
    "from csv_helper import get_all_terms_df"
   ]
  },
  {
   "cell_type": "code",
   "execution_count": 5,
   "metadata": {},
   "outputs": [],
   "source": [
    "all_df = get_all_terms_df()"
   ]
  },
  {
   "cell_type": "code",
   "execution_count": 6,
   "metadata": {},
   "outputs": [
    {
     "data": {
      "text/plain": [
       "(4414,\n",
       " Index(['term_italian', 'is_base', 'base_lemma_italian', 'base_lemma_english',\n",
       "        'part_of_speech', 'translation_english', 'topics', 'subtype',\n",
       "        'person_number', 'gender', 'plurality', 'mood', 'tense',\n",
       "        'is_comparative', 'is_superlative', 'is_compound', 'article_type',\n",
       "        'article_italian', 'added_particle_italian', 'preposition', 'notes',\n",
       "        'example_sentence_italian', 'example_sentence_english'],\n",
       "       dtype='object'))"
      ]
     },
     "execution_count": 6,
     "metadata": {},
     "output_type": "execute_result"
    }
   ],
   "source": [
    "len(all_df), all_df.columns"
   ]
  },
  {
   "cell_type": "code",
   "execution_count": null,
   "metadata": {},
   "outputs": [],
   "source": [
    "all_df['base'] = all_df.apply(\n",
    "    lambda row: f\"{row['term_italian']}_{row['base_lemma_english']}_{row['part_of_speech']}\", axis=1\n",
    ")"
   ]
  }
 ],
 "metadata": {
  "kernelspec": {
   "display_name": "venv",
   "language": "python",
   "name": "python3"
  },
  "language_info": {
   "codemirror_mode": {
    "name": "ipython",
    "version": 3
   },
   "file_extension": ".py",
   "mimetype": "text/x-python",
   "name": "python",
   "nbconvert_exporter": "python",
   "pygments_lexer": "ipython3",
   "version": "3.12.8"
  }
 },
 "nbformat": 4,
 "nbformat_minor": 2
}
