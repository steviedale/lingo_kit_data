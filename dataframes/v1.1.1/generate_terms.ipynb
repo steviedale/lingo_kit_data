{
 "cells": [
  {
   "cell_type": "code",
   "execution_count": 1,
   "metadata": {},
   "outputs": [],
   "source": [
    "import os\n",
    "from tqdm import tqdm\n",
    "import sys\n",
    "sys.path.append('/Users/stevie/repos/lingo_kit_data/dataframes/v1.1.1/generator')\n",
    "from generator.generate_with_chatgpt import generate_csv"
   ]
  },
  {
   "cell_type": "code",
   "execution_count": 2,
   "metadata": {},
   "outputs": [],
   "source": [
    "# PART_OF_SPEECH = 'noun'\n",
    "# TERMS = [\n",
    "#     (\"caffè\", \"coffee\"),\n",
    "#     (\"acqua\", \"water\"),\n",
    "#     (\"vino\", \"wine\"),\n",
    "#     (\"pane\", \"bread\"),\n",
    "#     (\"pizza\", \"pizza\"), \n",
    "#     (\"pasta\", \"pasta\"),\n",
    "#     (\"ristorante\", \"restaurant\"),\n",
    "#     (\"bar\", \"café, bar\"),\n",
    "#     (\"tavolo\", \"table\"),\n",
    "#     (\"sedia\", \"chair\"),\n",
    "#     (\"bagno\", \"bathroom\"),\n",
    "#     (\"camera\", \"room (often hotel room)\"),\n",
    "#     (\"biglietto\", \"ticket\"),\n",
    "#     (\"macchina\", \"car\"),\n",
    "#     (\"autobus\", \"bus\"),\n",
    "#     (\"treno\", \"train\"),\n",
    "#     (\"aeroporto\", \"airport\"),\n",
    "#     (\"albergo\", \"hotel\"),\n",
    "#     (\"strada\", \"street, road\"),\n",
    "#     (\"negozio\", \"shop, store\")\n",
    "# ]\n",
    "\n",
    "# PART_OF_SPEECH = 'adjective'\n",
    "# TERMS = [\n",
    "#     ('bello', 'beautiful'),\n",
    "#     ('buono', 'good'),\n",
    "#     ('grande', 'big'),\n",
    "#     ('piccolo', 'small'),\n",
    "#     ('nuovo', 'new'),\n",
    "#     ('vecchio', 'old'),\n",
    "#     ('primo', 'first'),\n",
    "#     ('ultimo', 'last'),\n",
    "#     ('lungo', 'long'),\n",
    "#     ('corto', 'short'),\n",
    "#     ('alto', 'tall (height)'),\n",
    "#     ('basso', 'short (height)')\n",
    "# ]\n",
    "\n",
    "# PART_OF_SPEECH = 'adverb'\n",
    "# TERMS = [\n",
    "#     ('bene', 'well'),\n",
    "#     ('male', 'badly'),\n",
    "#     ('molto', 'very'),\n",
    "#     ('poco', 'little, not much'),\n",
    "#     ('sempre', 'always'),\n",
    "#     ('mai', 'never'),\n",
    "#     ('spesso', 'often'),\n",
    "#     ('subito', 'immediately'),\n",
    "#     ('ancora', 'still, yet, again'),\n",
    "#     ('già', 'already')\n",
    "# ]\n",
    "\n",
    "# PART_OF_SPEECH = 'verb'\n",
    "# TERMS = [\n",
    "    # ('essere', 'to be'),\n",
    "    # ('avere', 'to have'),\n",
    "    # ('fare', 'to do, to make'),\n",
    "    # ('dire', 'to say / to tell'),\n",
    "    # ('potere', 'can / to be able to'),\n",
    "    # ('volere', 'to want'),\n",
    "    # ('dovere', 'must / to have to'),\n",
    "    # ('andare', 'to go'),\n",
    "    # ('venire', 'to come'),\n",
    "    # ('dare', 'to give'),\n",
    "    # ('vedere', 'to see'),\n",
    "    # ('sapere', 'to know (a fact, how to)'),\n",
    "    # ('conoscere', 'to know (be acquainted with)'),\n",
    "    # ('parlare', 'to speak / to talk'),\n",
    "    # ('trovare', 'to find'),\n",
    "    # ('pensare', 'to think'),\n",
    "    # ('prendere', 'to take'),\n",
    "    # ('mettere', 'to put / to place'),\n",
    "    # ('mangiare', 'to eat')\n",
    "# ]\n",
    "\n",
    "italian_words = [\n",
    "    # 'prendere',\n",
    "    # 'subito',\n",
    "    # 'sedia',\n",
    "    'piccolo',    \n",
    "    \"uscita\",\n",
    "    \"uno\",\n",
    "    \"bella\",\n",
    "    # 'Lei'\n",
    "    # 'lui',\n",
    "    # 'tu',\n",
    "    # 'io',\n",
    "    # 'noi',\n",
    "    # 'voi',\n",
    "    # 'loro'\n",
    "]"
   ]
  },
  {
   "cell_type": "code",
   "execution_count": null,
   "metadata": {},
   "outputs": [
    {
     "name": "stderr",
     "output_type": "stream",
     "text": [
      "  0%|          | 0/4 [00:00<?, ?it/s]"
     ]
    },
    {
     "name": "stdout",
     "output_type": "stream",
     "text": [
      "Attempt 1 for term: piccolo\n"
     ]
    }
   ],
   "source": [
    "import pandas as pd\n",
    "response_list = []\n",
    "generated_files_list = []\n",
    "cost_info_list = []\n",
    "for term_it in tqdm(italian_words):\n",
    "    attempt_count = 0\n",
    "    for attempt_count in range(3):\n",
    "        try:\n",
    "            print(f\"Attempt {attempt_count + 1} for term: {term_it}\")\n",
    "            response, generated_files, cost_info = generate_csv(\n",
    "                italian_term=term_it,\n",
    "                model='gpt-5-mini',\n",
    "                reasoning_effort='medium',\n",
    "            )\n",
    "            response_list.append(response)\n",
    "            generated_files_list.extend(generated_files)\n",
    "            cost_info_list.append(cost_info)\n",
    "            print(f\"cost of this call: {cost_info['total_cost']}\")\n",
    "            break  # Exit the retry loop if successful\n",
    "        except pd.errors.ParserError as e:\n",
    "            print(f\"ParserError on attempt {attempt_count + 1} for term '{term_it}': {e}\")\n",
    "            if attempt_count == 2:\n",
    "                print(f\"Failed to process term '{term_it}' after 3 attempts.\")\n",
    "        except Exception as e:\n",
    "            print(f\"Error on attempt {attempt_count + 1} for term '{term_it}': {e}\")\n",
    "            if attempt_count == 2:\n",
    "                print(f\"Failed to process term '{term_it}' after 3 attempts.\")"
   ]
  },
  {
   "cell_type": "code",
   "execution_count": null,
   "metadata": {},
   "outputs": [],
   "source": [
    "response_list"
   ]
  },
  {
   "cell_type": "code",
   "execution_count": null,
   "metadata": {},
   "outputs": [],
   "source": [
    "generated_files_list"
   ]
  },
  {
   "cell_type": "code",
   "execution_count": null,
   "metadata": {},
   "outputs": [],
   "source": [
    "cost_info_list"
   ]
  },
  {
   "cell_type": "code",
   "execution_count": null,
   "metadata": {},
   "outputs": [],
   "source": []
  }
 ],
 "metadata": {
  "kernelspec": {
   "display_name": "venv",
   "language": "python",
   "name": "python3"
  },
  "language_info": {
   "codemirror_mode": {
    "name": "ipython",
    "version": 3
   },
   "file_extension": ".py",
   "mimetype": "text/x-python",
   "name": "python",
   "nbconvert_exporter": "python",
   "pygments_lexer": "ipython3",
   "version": "3.12.8"
  }
 },
 "nbformat": 4,
 "nbformat_minor": 2
}
