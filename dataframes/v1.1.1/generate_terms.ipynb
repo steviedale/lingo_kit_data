{
 "cells": [
  {
   "cell_type": "code",
   "execution_count": 7,
   "metadata": {},
   "outputs": [],
   "source": [
    "import os\n",
    "from tqdm import tqdm\n",
    "import sys\n",
    "sys.path.append('/Users/stevie/repos/lingo_kit_data/dataframes/v1.1.0/generator')\n",
    "from generator.generate_with_chatgpt import generate_csv"
   ]
  },
  {
   "cell_type": "code",
   "execution_count": null,
   "metadata": {},
   "outputs": [],
   "source": [
    "# PART_OF_SPEECH = 'noun'\n",
    "# TERMS = [\n",
    "#     (\"caffè\", \"coffee\"),\n",
    "#     (\"acqua\", \"water\"),\n",
    "#     (\"vino\", \"wine\"),\n",
    "#     (\"pane\", \"bread\"),\n",
    "#     (\"pizza\", \"pizza\"), \n",
    "#     (\"pasta\", \"pasta\"),\n",
    "#     (\"ristorante\", \"restaurant\"),\n",
    "#     (\"bar\", \"café, bar\"),\n",
    "#     (\"tavolo\", \"table\"),\n",
    "#     (\"sedia\", \"chair\"),\n",
    "#     (\"bagno\", \"bathroom\"),\n",
    "#     (\"camera\", \"room (often hotel room)\"),\n",
    "#     (\"biglietto\", \"ticket\"),\n",
    "#     (\"macchina\", \"car\"),\n",
    "#     (\"autobus\", \"bus\"),\n",
    "#     (\"treno\", \"train\"),\n",
    "#     (\"aeroporto\", \"airport\"),\n",
    "#     (\"albergo\", \"hotel\"),\n",
    "#     (\"strada\", \"street, road\"),\n",
    "#     (\"negozio\", \"shop, store\")\n",
    "# ]\n",
    "\n",
    "# PART_OF_SPEECH = 'adjective'\n",
    "# TERMS = [\n",
    "#     ('bello', 'beautiful'),\n",
    "#     ('buono', 'good'),\n",
    "#     ('grande', 'big'),\n",
    "#     ('piccolo', 'small'),\n",
    "#     ('nuovo', 'new'),\n",
    "#     ('vecchio', 'old'),\n",
    "#     ('primo', 'first'),\n",
    "#     ('ultimo', 'last'),\n",
    "#     ('lungo', 'long'),\n",
    "#     ('corto', 'short'),\n",
    "#     ('alto', 'tall (height)'),\n",
    "#     ('basso', 'short (height)')\n",
    "# ]\n",
    "\n",
    "# PART_OF_SPEECH = 'adverb'\n",
    "# TERMS = [\n",
    "#     ('bene', 'well'),\n",
    "#     ('male', 'badly'),\n",
    "#     ('molto', 'very'),\n",
    "#     ('poco', 'little, not much'),\n",
    "#     ('sempre', 'always'),\n",
    "#     ('mai', 'never'),\n",
    "#     ('spesso', 'often'),\n",
    "#     ('subito', 'immediately'),\n",
    "#     ('ancora', 'still, yet, again'),\n",
    "#     ('già', 'already')\n",
    "# ]\n",
    "\n",
    "# PART_OF_SPEECH = 'verb'\n",
    "# TERMS = [\n",
    "    # ('essere', 'to be'),\n",
    "    # ('avere', 'to have'),\n",
    "    # ('fare', 'to do, to make'),\n",
    "    # ('dire', 'to say / to tell'),\n",
    "    # ('potere', 'can / to be able to'),\n",
    "    # ('volere', 'to want'),\n",
    "    # ('dovere', 'must / to have to'),\n",
    "    # ('andare', 'to go'),\n",
    "    # ('venire', 'to come'),\n",
    "    # ('dare', 'to give'),\n",
    "    # ('vedere', 'to see'),\n",
    "    # ('sapere', 'to know (a fact, how to)'),\n",
    "    # ('conoscere', 'to know (be acquainted with)'),\n",
    "    # ('parlare', 'to speak / to talk'),\n",
    "    # ('trovare', 'to find'),\n",
    "    # ('pensare', 'to think'),\n",
    "    # ('prendere', 'to take'),\n",
    "    # ('mettere', 'to put / to place'),\n",
    "    # ('mangiare', 'to eat')\n",
    "# ]\n",
    "\n",
    "italian_words = [\n",
    "    # 'prendere',\n",
    "    # 'subito',\n",
    "    # 'sedia',\n",
    "    # 'piccolo',    \n",
    "    # \"uscita\",\n",
    "    # \"uno\",\n",
    "    \"bella\",\n",
    "]"
   ]
  },
  {
   "cell_type": "code",
   "execution_count": 9,
   "metadata": {},
   "outputs": [
    {
     "name": "stderr",
     "output_type": "stream",
     "text": [
      "  0%|          | 0/1 [00:00<?, ?it/s]"
     ]
    },
    {
     "name": "stdout",
     "output_type": "stream",
     "text": [
      "uno\n"
     ]
    },
    {
     "name": "stderr",
     "output_type": "stream",
     "text": [
      "100%|██████████| 1/1 [01:14<00:00, 74.88s/it]"
     ]
    },
    {
     "name": "stdout",
     "output_type": "stream",
     "text": [
      "Saved 4 rows to /Users/stevie/repos/lingo_kit_data/dataframes/v1.1.1/dataframes/article/uno.csv\n",
      "Saved 4 rows to /Users/stevie/repos/lingo_kit_data/dataframes/v1.1.1/dataframes/determiner/uno.csv\n",
      "Saved 2 rows to /Users/stevie/repos/lingo_kit_data/dataframes/v1.1.1/dataframes/pronoun/uno.csv\n"
     ]
    },
    {
     "name": "stderr",
     "output_type": "stream",
     "text": [
      "\n"
     ]
    }
   ],
   "source": [
    "response_list = []\n",
    "generated_files_list = []\n",
    "for term_it in tqdm(italian_words):\n",
    "    print(term_it)\n",
    "    response, generated_files = generate_csv(\n",
    "        italian_term=term_it,\n",
    "        model='gpt-5-mini',\n",
    "        reasoning_effort='medium',\n",
    "    )\n",
    "    response_list.append(response)\n",
    "    generated_files_list.extend(generated_files)"
   ]
  },
  {
   "cell_type": "code",
   "execution_count": 10,
   "metadata": {},
   "outputs": [
    {
     "name": "stderr",
     "output_type": "stream",
     "text": [
      "/var/folders/qs/n3mb_ckd47n6s9c65b_06xrw0000gn/T/ipykernel_31163/3645613513.py:2: PydanticDeprecatedSince20: The `json` method is deprecated; use `model_dump_json` instead. Deprecated in Pydantic V2.0 to be removed in V3.0. See Pydantic V2 Migration Guide at https://errors.pydantic.dev/2.11/migration/\n",
      "  response1.json()\n"
     ]
    },
    {
     "data": {
      "text/plain": [
       "'{\"id\":\"resp_68d64efef9548196ba514e20a259f79b0a18ccb582346dbe\",\"created_at\":1758875391.0,\"error\":null,\"incomplete_details\":null,\"instructions\":null,\"metadata\":{},\"model\":\"gpt-5-mini-2025-08-07\",\"object\":\"response\",\"output\":[{\"id\":\"rs_68d64effbbc8819692122bc4fb497d740a18ccb582346dbe\",\"summary\":[],\"type\":\"reasoning\",\"content\":null,\"encrypted_content\":null,\"status\":null},{\"id\":\"msg_68d64f3d56608196b832d9e38c1387d00a18ccb582346dbe\",\"content\":[{\"annotations\":[],\"text\":\"term_italian,is_base,base_lemma_italian,part_of_speech,translation_english,topics,subtype,person_number,gender,plurality,mood,tense,is_comparative,is_superlative,is_compound,article_type,article_italian,added_particle_italian,preposition,notes,example_sentence_italian,example_sentence_english\\\\nuno,true,uno,article,a,\\\\\"core,quantifier\\\\\",indefinite,n/a,masculine,singular,n/a,n/a,false,false,false,n/a,n/a,n/a,n/a,used before s+consonant z gn ps pn x y; indefinite article,Ho comprato uno zaino.,I bought a backpack.\\\\nun,false,uno,article,a,\\\\\"core,quantifier\\\\\",indefinite,n/a,masculine,singular,n/a,n/a,false,false,false,n/a,n/a,n/a,n/a,used before vowels and most consonants; not used before s+consonant or z,Ho visto un amico.,I saw a friend.\\\\nuna,false,uno,article,a,\\\\\"core,quantifier\\\\\",indefinite,n/a,feminine,singular,n/a,n/a,false,false,false,n/a,n/a,n/a,n/a,feminine singular indefinite article,Ho comprato una casa.,I bought a house.\\\\nun\\',false,uno,article,a,\\\\\"core,quantifier\\\\\",indefinite,n/a,feminine,singular,n/a,n/a,false,false,false,n/a,n/a,n/a,n/a,elision of una before a vowel,Ho un\\'idea.,I have an idea.\\\\nuno,true,uno,determiner,one,\\\\\"core,quantifier\\\\\",quantifier,n/a,masculine,singular,n/a,n/a,false,false,false,n/a,n/a,n/a,n/a,used as numeral determiner; same forms as the indefinite article,Uno studente è arrivato.,One student arrived.\\\\nun,false,uno,determiner,one,\\\\\"core,quantifier\\\\\",quantifier,n/a,masculine,singular,n/a,n/a,false,false,false,n/a,n/a,n/a,n/a,used before vowels and most consonants,Ho letto un articolo.,I read one article.\\\\nuna,false,uno,determiner,one,\\\\\"core,quantifier\\\\\",quantifier,n/a,feminine,singular,n/a,n/a,false,false,false,n/a,n/a,n/a,n/a,feminine singular form used as numeral determiner,Una persona ha chiamato.,One person called.\\\\nun\\',false,uno,determiner,one,\\\\\"core,quantifier\\\\\",quantifier,n/a,feminine,singular,n/a,n/a,false,false,false,n/a,n/a,n/a,n/a,elision of una before a vowel,Un\\'ora fa è successo.,It happened one hour ago.\\\\nuno,true,uno,pronoun,one,\\\\\"core,quantifier\\\\\",indefinite,3s,masculine,singular,n/a,n/a,false,false,false,n/a,n/a,n/a,n/a,used as pronoun often with \\'ne\\' to mean \\'one of them\\',Ne voglio uno.,I want one (of them).\\\\nuna,false,uno,pronoun,one (feminine),\\\\\"core,quantifier\\\\\",indefinite,3s,feminine,singular,n/a,n/a,false,false,false,n/a,n/a,n/a,n/a,used as feminine pronoun counterpart; often used with \\'ne\\',Ne prendo una.,I\\'ll take one.\",\"type\":\"output_text\",\"logprobs\":[]}],\"role\":\"assistant\",\"status\":\"completed\",\"type\":\"message\"}],\"parallel_tool_calls\":true,\"temperature\":1.0,\"tool_choice\":\"auto\",\"tools\":[],\"top_p\":1.0,\"background\":false,\"conversation\":null,\"max_output_tokens\":null,\"max_tool_calls\":null,\"previous_response_id\":null,\"prompt\":null,\"prompt_cache_key\":null,\"reasoning\":{\"effort\":\"medium\",\"generate_summary\":null,\"summary\":null},\"safety_identifier\":null,\"service_tier\":\"default\",\"status\":\"completed\",\"text\":{\"format\":{\"type\":\"text\"},\"verbosity\":\"medium\"},\"top_logprobs\":0,\"truncation\":\"disabled\",\"usage\":{\"input_tokens\":4172,\"input_tokens_details\":{\"cached_tokens\":0},\"output_tokens\":5270,\"output_tokens_details\":{\"reasoning_tokens\":4544},\"total_tokens\":9442},\"user\":null,\"billing\":{\"payer\":\"developer\"},\"store\":true}'"
      ]
     },
     "execution_count": 10,
     "metadata": {},
     "output_type": "execute_result"
    }
   ],
   "source": [
    "response1 = response_list[0]\n",
    "response1.json()"
   ]
  },
  {
   "cell_type": "code",
   "execution_count": 11,
   "metadata": {},
   "outputs": [
    {
     "data": {
      "text/plain": [
       "False"
      ]
     },
     "execution_count": 11,
     "metadata": {},
     "output_type": "execute_result"
    }
   ],
   "source": [
    "'cache' in response1.output_text"
   ]
  },
  {
   "cell_type": "code",
   "execution_count": 12,
   "metadata": {},
   "outputs": [
    {
     "data": {
      "text/plain": [
       "ResponseUsage(input_tokens=4172, input_tokens_details=InputTokensDetails(cached_tokens=0), output_tokens=5270, output_tokens_details=OutputTokensDetails(reasoning_tokens=4544), total_tokens=9442)"
      ]
     },
     "execution_count": 12,
     "metadata": {},
     "output_type": "execute_result"
    }
   ],
   "source": [
    "response1.usage"
   ]
  },
  {
   "cell_type": "code",
   "execution_count": null,
   "metadata": {},
   "outputs": [],
   "source": []
  }
 ],
 "metadata": {
  "kernelspec": {
   "display_name": "venv",
   "language": "python",
   "name": "python3"
  },
  "language_info": {
   "codemirror_mode": {
    "name": "ipython",
    "version": 3
   },
   "file_extension": ".py",
   "mimetype": "text/x-python",
   "name": "python",
   "nbconvert_exporter": "python",
   "pygments_lexer": "ipython3",
   "version": "3.12.8"
  }
 },
 "nbformat": 4,
 "nbformat_minor": 2
}
