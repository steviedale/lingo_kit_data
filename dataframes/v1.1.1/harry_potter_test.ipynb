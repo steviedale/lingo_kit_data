{
 "cells": [
  {
   "cell_type": "code",
   "execution_count": 37,
   "metadata": {},
   "outputs": [],
   "source": [
    "import os\n",
    "import pandas as pd"
   ]
  },
  {
   "cell_type": "code",
   "execution_count": 38,
   "metadata": {},
   "outputs": [],
   "source": [
    "text = \"\"\"\n",
    "Gli abitanti di Little Hangleton la chiamavano ancora Casa Riddle, anche se erano passati tanti anni da quando i Riddle ci abitavano. \n",
    "Si trovava sulla collina che dominava il villaggio: alcune delle finestre erano inchiodate, al tetto mancavano delle tegole e \n",
    "l'edera cresceva incolta sulla facciata. Un tempo Casa Riddle era stata una dimora elegante, certo l'edificio più vasto e grandioso \n",
    "nel raggio di chilometri, ma ora era umida, desolata e disabitata. Gli hangletoniani convenivano tutti che la vecchia casa era \n",
    "sinistra. Mezzo secolo prima, qualcosa di strano e terribile era successo là dentro, qualcosa di cui gli abitanti più anziani del \n",
    "villaggio amavano ancora discutere quando erano a corto di pettegolezzi. La storia era stata ripetuta così tante volte, e vi erano \n",
    "stati aggiunti così tanti fronzoli che nessuno era più certo di quale fosse la verità. Ogni versione del racconto, comunque, \n",
    "cominciava allo stesso modo: cinquant'anni prima, all'alba di una bella giornata d'estate, quando Casa Riddle era ancora ben tenuta e \n",
    "imponente, una cameriera era entrata in salotto e aveva trovato morti tutti e tre i Riddle. La cameriera era corsa urlando giù per la \n",
    "collina fino al villaggio e aveva radunato tutte le persone che poteva. Sono là stesi con gli occhi spalancati! Freddi come il \n",
    "ghiaccio! Ancora vestiti per la cena! Fu chiamata la polizia e tutta quanta Little Hangleton si crogiolò in una curiosità atterrita e \n",
    "in una malcelata eccitazione. Nessuno si sforzò di fingersi addolorato per i Riddle, che erano stati assolutamente impopolari. Gli \n",
    "anziani signori Riddle, marito e moglie, erano ricchi, snob e sgarbati, e loro figlio Tom, ormai adulto, era anche peggio. Tutto \n",
    "quello che importava agli abitanti era l'identità dell'assassino: chiaramente, tre persone in apparenza sane non morivano di colpo per \n",
    "cause naturali nella stessa notte. L'Impiccato, il pub locale, fece affari d'oro quella sera: il villaggio al completo accorse per \n",
    "discutere gli omicidi. E la ricompensa per quell'uscita serale arrivò quando la cuoca dei Riddle fece un ingresso teatrale e annunciò \n",
    "al pub improvvisamente silenzioso che un uomo chiamato Frank Bryce era stato appena arrestato.\n",
    "\"\"\""
   ]
  },
  {
   "cell_type": "code",
   "execution_count": 39,
   "metadata": {},
   "outputs": [],
   "source": [
    "def get_all_csv_files_rec(dir):\n",
    "    \"\"\"Ritorna una lista di tutti i file .csv nella directory e nelle sottodirectory.\"\"\"\n",
    "    csv_files = []\n",
    "    for root, dirs, files in os.walk(dir):\n",
    "        for file in files:\n",
    "            if file.endswith('.csv'):\n",
    "                csv_files.append(os.path.join(root, file))\n",
    "    return csv_files\n",
    "all_csv_files = get_all_csv_files_rec('dataframes')"
   ]
  },
  {
   "cell_type": "code",
   "execution_count": 40,
   "metadata": {},
   "outputs": [
    {
     "data": {
      "text/plain": [
       "(4414,\n",
       " Index(['term_italian', 'is_base', 'base_lemma_italian', 'base_lemma_english',\n",
       "        'part_of_speech', 'translation_english', 'topics', 'subtype',\n",
       "        'person_number', 'gender', 'plurality', 'mood', 'tense',\n",
       "        'is_comparative', 'is_superlative', 'is_compound', 'article_type',\n",
       "        'article_italian', 'added_particle_italian', 'preposition', 'notes',\n",
       "        'example_sentence_italian', 'example_sentence_english'],\n",
       "       dtype='object'))"
      ]
     },
     "execution_count": 40,
     "metadata": {},
     "output_type": "execute_result"
    }
   ],
   "source": [
    "all_df = pd.DataFrame()\n",
    "for path in all_csv_files:\n",
    "    assert(os.path.exists(path))\n",
    "    # print(path)\n",
    "    df = pd.read_csv(path)\n",
    "    all_df = pd.concat([all_df, df], ignore_index=True)\n",
    "len(all_df), all_df.columns"
   ]
  },
  {
   "cell_type": "code",
   "execution_count": 41,
   "metadata": {},
   "outputs": [
    {
     "data": {
      "text/plain": [
       "4272"
      ]
     },
     "execution_count": 41,
     "metadata": {},
     "output_type": "execute_result"
    }
   ],
   "source": [
    "all_df.drop_duplicates(['term_italian', 'base_lemma_italian', 'base_lemma_english', 'part_of_speech'], inplace=True)\n",
    "len(all_df)"
   ]
  },
  {
   "cell_type": "code",
   "execution_count": 42,
   "metadata": {},
   "outputs": [
    {
     "data": {
      "text/plain": [
       "base\n",
       "dovere - obligation; must/have to    41\n",
       "ricco - rich                         38\n",
       "impiccato - hanged                   38\n",
       "cuoco - cook                         34\n",
       "essere - to be                       34\n",
       "                                     ..\n",
       "là - there                            1\n",
       "o - or                                1\n",
       "anche - also                          1\n",
       "ma - but                              1\n",
       "tra - between/among                   1\n",
       "Name: count, Length: 327, dtype: int64"
      ]
     },
     "execution_count": 42,
     "metadata": {},
     "output_type": "execute_result"
    }
   ],
   "source": [
    "all_df['base'] = all_df.apply(lambda row: f\"{row['base_lemma_italian']} - {row['base_lemma_english']}\", axis=1)\n",
    "all_df['base'].value_counts()"
   ]
  },
  {
   "cell_type": "code",
   "execution_count": 43,
   "metadata": {},
   "outputs": [
    {
     "name": "stdout",
     "output_type": "stream",
     "text": [
      "Base: noi - we, Part of speech: pronoun\n",
      "Base: ci - us/there, Part of speech: pronoun\n",
      "Base: vi - you (plural)/there, Part of speech: pronoun\n",
      "Base: ormai - by now, Part of speech: adverb\n",
      "Base: sé - oneself, Part of speech: pronoun\n",
      "Base: là - there, Part of speech: adverb\n",
      "Base: o - or, Part of speech: conjunction\n",
      "Base: anche - also, Part of speech: adverb\n",
      "Base: ma - but, Part of speech: conjunction\n",
      "Base: tra - between/among, Part of speech: preposition\n"
     ]
    }
   ],
   "source": [
    "all_df['base'].value_counts()[-10:]\n",
    "for base in all_df['base'].value_counts()[-10:].index:\n",
    "    # print base and part_of_speech\n",
    "    base_df = all_df[all_df['base'] == base]\n",
    "    print(f\"Base: {base}, Part of speech: {base_df['part_of_speech'].iloc[0]}\")"
   ]
  },
  {
   "cell_type": "code",
   "execution_count": 44,
   "metadata": {},
   "outputs": [
    {
     "data": {
      "text/html": [
       "<div>\n",
       "<style scoped>\n",
       "    .dataframe tbody tr th:only-of-type {\n",
       "        vertical-align: middle;\n",
       "    }\n",
       "\n",
       "    .dataframe tbody tr th {\n",
       "        vertical-align: top;\n",
       "    }\n",
       "\n",
       "    .dataframe thead th {\n",
       "        text-align: right;\n",
       "    }\n",
       "</style>\n",
       "<table border=\"1\" class=\"dataframe\">\n",
       "  <thead>\n",
       "    <tr style=\"text-align: right;\">\n",
       "      <th></th>\n",
       "      <th>term_italian</th>\n",
       "      <th>is_base</th>\n",
       "      <th>base_lemma_italian</th>\n",
       "      <th>base_lemma_english</th>\n",
       "      <th>part_of_speech</th>\n",
       "      <th>translation_english</th>\n",
       "      <th>topics</th>\n",
       "      <th>subtype</th>\n",
       "      <th>person_number</th>\n",
       "      <th>gender</th>\n",
       "      <th>...</th>\n",
       "      <th>is_superlative</th>\n",
       "      <th>is_compound</th>\n",
       "      <th>article_type</th>\n",
       "      <th>article_italian</th>\n",
       "      <th>added_particle_italian</th>\n",
       "      <th>preposition</th>\n",
       "      <th>notes</th>\n",
       "      <th>example_sentence_italian</th>\n",
       "      <th>example_sentence_english</th>\n",
       "      <th>base</th>\n",
       "    </tr>\n",
       "  </thead>\n",
       "  <tbody>\n",
       "  </tbody>\n",
       "</table>\n",
       "<p>0 rows × 24 columns</p>\n",
       "</div>"
      ],
      "text/plain": [
       "Empty DataFrame\n",
       "Columns: [term_italian, is_base, base_lemma_italian, base_lemma_english, part_of_speech, translation_english, topics, subtype, person_number, gender, plurality, mood, tense, is_comparative, is_superlative, is_compound, article_type, article_italian, added_particle_italian, preposition, notes, example_sentence_italian, example_sentence_english, base]\n",
       "Index: []\n",
       "\n",
       "[0 rows x 24 columns]"
      ]
     },
     "execution_count": 44,
     "metadata": {},
     "output_type": "execute_result"
    }
   ],
   "source": [
    "all_df[all_df['base'] == 'ognuno - everyone (feminine)']"
   ]
  },
  {
   "cell_type": "code",
   "execution_count": 45,
   "metadata": {},
   "outputs": [
    {
     "data": {
      "text/plain": [
       "207"
      ]
     },
     "execution_count": 45,
     "metadata": {},
     "output_type": "execute_result"
    }
   ],
   "source": [
    "ignore_words = [\n",
    "    'bryce',\n",
    "    \"cinquant'anni\",\n",
    "    'frank',\n",
    "    'hangleton',\n",
    "    'little',\n",
    "    'riddle',\n",
    "    'tom',\n",
    "]\n",
    "harry_potter_words = set(text.lower().replace('\\n', ' ').replace(':', ' ').replace('.', ' ').replace(',', ' ').replace('!', ' ').replace('?', ' ').split(' '))\n",
    "# ignore empty strings\n",
    "harry_potter_words.discard('')\n",
    "# ignore numbers\n",
    "harry_potter_words = {w for w in harry_potter_words if not w.isdigit()}\n",
    "harry_potter_words = harry_potter_words - set(ignore_words)\n",
    "len(harry_potter_words)"
   ]
  },
  {
   "cell_type": "code",
   "execution_count": 46,
   "metadata": {},
   "outputs": [],
   "source": [
    "IMPORTANT_COLS = ['term_italian', 'part_of_speech', 'translation_english', 'base_lemma_italian', 'base_lemma_english']"
   ]
  },
  {
   "cell_type": "code",
   "execution_count": 47,
   "metadata": {},
   "outputs": [
    {
     "data": {
      "text/html": [
       "<div>\n",
       "<style scoped>\n",
       "    .dataframe tbody tr th:only-of-type {\n",
       "        vertical-align: middle;\n",
       "    }\n",
       "\n",
       "    .dataframe tbody tr th {\n",
       "        vertical-align: top;\n",
       "    }\n",
       "\n",
       "    .dataframe thead th {\n",
       "        text-align: right;\n",
       "    }\n",
       "</style>\n",
       "<table border=\"1\" class=\"dataframe\">\n",
       "  <thead>\n",
       "    <tr style=\"text-align: right;\">\n",
       "      <th></th>\n",
       "      <th>term_italian</th>\n",
       "      <th>part_of_speech</th>\n",
       "      <th>translation_english</th>\n",
       "      <th>base_lemma_italian</th>\n",
       "      <th>base_lemma_english</th>\n",
       "    </tr>\n",
       "  </thead>\n",
       "  <tbody>\n",
       "    <tr>\n",
       "      <th>1</th>\n",
       "      <td>appena</td>\n",
       "      <td>conjunction</td>\n",
       "      <td>as soon as</td>\n",
       "      <td>appena</td>\n",
       "      <td>just/barely; as soon as</td>\n",
       "    </tr>\n",
       "    <tr>\n",
       "      <th>3</th>\n",
       "      <td>e</td>\n",
       "      <td>conjunction</td>\n",
       "      <td>and</td>\n",
       "      <td>e</td>\n",
       "      <td>and</td>\n",
       "    </tr>\n",
       "    <tr>\n",
       "      <th>7</th>\n",
       "      <td>più</td>\n",
       "      <td>conjunction</td>\n",
       "      <td>plus</td>\n",
       "      <td>più</td>\n",
       "      <td>more/plus</td>\n",
       "    </tr>\n",
       "    <tr>\n",
       "      <th>10</th>\n",
       "      <td>come</td>\n",
       "      <td>conjunction</td>\n",
       "      <td>as/like</td>\n",
       "      <td>come</td>\n",
       "      <td>as/like/how</td>\n",
       "    </tr>\n",
       "    <tr>\n",
       "      <th>13</th>\n",
       "      <td>comunque</td>\n",
       "      <td>conjunction</td>\n",
       "      <td>however/no matter how</td>\n",
       "      <td>comunque</td>\n",
       "      <td>however</td>\n",
       "    </tr>\n",
       "    <tr>\n",
       "      <th>...</th>\n",
       "      <td>...</td>\n",
       "      <td>...</td>\n",
       "      <td>...</td>\n",
       "      <td>...</td>\n",
       "      <td>...</td>\n",
       "    </tr>\n",
       "    <tr>\n",
       "      <th>4401</th>\n",
       "      <td>dei</td>\n",
       "      <td>preposition</td>\n",
       "      <td>of the</td>\n",
       "      <td>di</td>\n",
       "      <td>of</td>\n",
       "    </tr>\n",
       "    <tr>\n",
       "      <th>4403</th>\n",
       "      <td>delle</td>\n",
       "      <td>preposition</td>\n",
       "      <td>of the</td>\n",
       "      <td>di</td>\n",
       "      <td>of</td>\n",
       "    </tr>\n",
       "    <tr>\n",
       "      <th>4404</th>\n",
       "      <td>in</td>\n",
       "      <td>preposition</td>\n",
       "      <td>in/into</td>\n",
       "      <td>in</td>\n",
       "      <td>in/into</td>\n",
       "    </tr>\n",
       "    <tr>\n",
       "      <th>4405</th>\n",
       "      <td>nel</td>\n",
       "      <td>preposition</td>\n",
       "      <td>in the</td>\n",
       "      <td>in</td>\n",
       "      <td>in/into</td>\n",
       "    </tr>\n",
       "    <tr>\n",
       "      <th>4408</th>\n",
       "      <td>nella</td>\n",
       "      <td>preposition</td>\n",
       "      <td>in the</td>\n",
       "      <td>in</td>\n",
       "      <td>in/into</td>\n",
       "    </tr>\n",
       "  </tbody>\n",
       "</table>\n",
       "<p>285 rows × 5 columns</p>\n",
       "</div>"
      ],
      "text/plain": [
       "     term_italian part_of_speech    translation_english base_lemma_italian  \\\n",
       "1          appena    conjunction             as soon as             appena   \n",
       "3               e    conjunction                    and                  e   \n",
       "7             più    conjunction                   plus                più   \n",
       "10           come    conjunction                as/like               come   \n",
       "13       comunque    conjunction  however/no matter how           comunque   \n",
       "...           ...            ...                    ...                ...   \n",
       "4401          dei    preposition                 of the                 di   \n",
       "4403        delle    preposition                 of the                 di   \n",
       "4404           in    preposition                in/into                 in   \n",
       "4405          nel    preposition                 in the                 in   \n",
       "4408        nella    preposition                 in the                 in   \n",
       "\n",
       "           base_lemma_english  \n",
       "1     just/barely; as soon as  \n",
       "3                         and  \n",
       "7                   more/plus  \n",
       "10                as/like/how  \n",
       "13                    however  \n",
       "...                       ...  \n",
       "4401                       of  \n",
       "4403                       of  \n",
       "4404                  in/into  \n",
       "4405                  in/into  \n",
       "4408                  in/into  \n",
       "\n",
       "[285 rows x 5 columns]"
      ]
     },
     "execution_count": 47,
     "metadata": {},
     "output_type": "execute_result"
    }
   ],
   "source": [
    "all_df[all_df['term_italian'].isin(harry_potter_words)][IMPORTANT_COLS]"
   ]
  },
  {
   "cell_type": "code",
   "execution_count": null,
   "metadata": {},
   "outputs": [
    {
     "name": "stdout",
     "output_type": "stream",
     "text": [
      "2\n"
     ]
    },
    {
     "data": {
      "text/plain": [
       "{'crogiolò', 'hangletoniani'}"
      ]
     },
     "execution_count": 48,
     "metadata": {},
     "output_type": "execute_result"
    }
   ],
   "source": [
    "missing_words = harry_potter_words - set(all_df['term_italian'])\n",
    "print(len(missing_words))\n",
    "missing_words"
   ]
  },
  {
   "cell_type": "code",
   "execution_count": null,
   "metadata": {},
   "outputs": [],
   "source": [
    "# The residents of Little Hangleton still called it Riddle House, even though it had been many years since the Riddles had lived there.\n",
    "sentence_1 = \"Gli abitanti di Little Hangleton la chiamavano ancora Casa Riddle, anche se erano passati tanti anni da quando i Riddle ci abitavano.\"\n",
    "\n",
    "# It stood on the hill overlooking the village: some of the windows were nailed shut, tiles were missing from the roof, and ivy was growing wild on the facade.\n",
    "sentence_2 = \"Si trovava sulla collina che dominava il villaggio: alcune delle finestre erano inchiodate, al tetto mancavano delle tegole e l'edera cresceva incolta sulla facciata.\"\n",
    "\n",
    "# Riddle House had once been an elegant mansion, certainly the largest and grandest building for miles around, but now it was damp, desolate, and uninhabited.\n",
    "sentence_3 = \"Un tempo Casa Riddle era stata una dimora elegante, certo l'edificio più vasto e grandioso nel raggio di chilometri, ma ora era umida, desolata e disabitata.\"\n",
    "\n",
    "# Hangletonians all agreed that the old house was sinister.\n",
    "sentence_4 = \"Gli hangletoniani convenivano tutti che la vecchia casa era sinistra.\"\n",
    "\n",
    "sentence = sentence_2"
   ]
  },
  {
   "cell_type": "code",
   "execution_count": 63,
   "metadata": {},
   "outputs": [
    {
     "data": {
      "text/plain": [
       "['si',\n",
       " 'trovava',\n",
       " 'sulla',\n",
       " 'collina',\n",
       " 'che',\n",
       " 'dominava',\n",
       " 'il',\n",
       " 'villaggio',\n",
       " 'alcune',\n",
       " 'delle',\n",
       " 'finestre',\n",
       " 'erano',\n",
       " 'inchiodate',\n",
       " 'al',\n",
       " 'tetto',\n",
       " 'mancavano',\n",
       " 'delle',\n",
       " 'tegole',\n",
       " 'e',\n",
       " \"l'edera\",\n",
       " 'cresceva',\n",
       " 'incolta',\n",
       " 'sulla',\n",
       " 'facciata']"
      ]
     },
     "execution_count": 63,
     "metadata": {},
     "output_type": "execute_result"
    }
   ],
   "source": [
    "sentence_italian_words = list(sentence.lower().replace('\\n', ' ').replace(':', ' ').replace('.', ' ').replace(',', ' ').replace('!', ' ').replace('?', ' ').split(' '))\n",
    "sentence_italian_words = [w for w in sentence_italian_words if w != '']\n",
    "sentence_italian_words"
   ]
  },
  {
   "cell_type": "code",
   "execution_count": 64,
   "metadata": {},
   "outputs": [
    {
     "data": {
      "text/plain": [
       "Index(['term_italian', 'is_base', 'base_lemma_italian', 'base_lemma_english',\n",
       "       'part_of_speech', 'translation_english', 'topics', 'subtype',\n",
       "       'person_number', 'gender', 'plurality', 'mood', 'tense',\n",
       "       'is_comparative', 'is_superlative', 'is_compound', 'article_type',\n",
       "       'article_italian', 'added_particle_italian', 'preposition', 'notes',\n",
       "       'example_sentence_italian', 'example_sentence_english', 'base'],\n",
       "      dtype='object')"
      ]
     },
     "execution_count": 64,
     "metadata": {},
     "output_type": "execute_result"
    }
   ],
   "source": [
    "all_df.columns"
   ]
  },
  {
   "cell_type": "code",
   "execution_count": 65,
   "metadata": {},
   "outputs": [],
   "source": [
    "from fuzzy_match import find_translation"
   ]
  },
  {
   "cell_type": "code",
   "execution_count": 66,
   "metadata": {},
   "outputs": [
    {
     "data": {
      "text/html": [
       "<div>\n",
       "<style scoped>\n",
       "    .dataframe tbody tr th:only-of-type {\n",
       "        vertical-align: middle;\n",
       "    }\n",
       "\n",
       "    .dataframe tbody tr th {\n",
       "        vertical-align: top;\n",
       "    }\n",
       "\n",
       "    .dataframe thead th {\n",
       "        text-align: right;\n",
       "    }\n",
       "</style>\n",
       "<table border=\"1\" class=\"dataframe\">\n",
       "  <thead>\n",
       "    <tr style=\"text-align: right;\">\n",
       "      <th></th>\n",
       "      <th>term_italian</th>\n",
       "      <th>is_base</th>\n",
       "      <th>base_lemma_italian</th>\n",
       "      <th>base_lemma_english</th>\n",
       "      <th>part_of_speech</th>\n",
       "      <th>translation_english</th>\n",
       "      <th>topics</th>\n",
       "      <th>subtype</th>\n",
       "      <th>person_number</th>\n",
       "      <th>gender</th>\n",
       "      <th>...</th>\n",
       "      <th>is_superlative</th>\n",
       "      <th>is_compound</th>\n",
       "      <th>article_type</th>\n",
       "      <th>article_italian</th>\n",
       "      <th>added_particle_italian</th>\n",
       "      <th>preposition</th>\n",
       "      <th>notes</th>\n",
       "      <th>example_sentence_italian</th>\n",
       "      <th>example_sentence_english</th>\n",
       "      <th>base</th>\n",
       "    </tr>\n",
       "  </thead>\n",
       "  <tbody>\n",
       "    <tr>\n",
       "      <th>4053</th>\n",
       "      <td>gli</td>\n",
       "      <td>True</td>\n",
       "      <td>gli</td>\n",
       "      <td>to him/to them</td>\n",
       "      <td>pronoun</td>\n",
       "      <td>to him</td>\n",
       "      <td>core,pronoun</td>\n",
       "      <td>indirect_object</td>\n",
       "      <td>3s</td>\n",
       "      <td>masculine</td>\n",
       "      <td>...</td>\n",
       "      <td>False</td>\n",
       "      <td>False</td>\n",
       "      <td>NaN</td>\n",
       "      <td>NaN</td>\n",
       "      <td>NaN</td>\n",
       "      <td>NaN</td>\n",
       "      <td>clitic indirect object pronoun; placed before ...</td>\n",
       "      <td>Io gli parlo adesso.</td>\n",
       "      <td>I am speaking to him now.</td>\n",
       "      <td>gli - to him/to them</td>\n",
       "    </tr>\n",
       "    <tr>\n",
       "      <th>4186</th>\n",
       "      <td>gli</td>\n",
       "      <td>False</td>\n",
       "      <td>il</td>\n",
       "      <td>the</td>\n",
       "      <td>article</td>\n",
       "      <td>the (masculine plural, before vowels, s+conson...</td>\n",
       "      <td>core,grammar</td>\n",
       "      <td>definite</td>\n",
       "      <td>NaN</td>\n",
       "      <td>masculine</td>\n",
       "      <td>...</td>\n",
       "      <td>False</td>\n",
       "      <td>False</td>\n",
       "      <td>NaN</td>\n",
       "      <td>NaN</td>\n",
       "      <td>NaN</td>\n",
       "      <td>NaN</td>\n",
       "      <td>before vowels, s+consonant, z, gn, ps, x, y (m...</td>\n",
       "      <td>Vedo gli studenti.</td>\n",
       "      <td>I see the students.</td>\n",
       "      <td>il - the</td>\n",
       "    </tr>\n",
       "  </tbody>\n",
       "</table>\n",
       "<p>2 rows × 24 columns</p>\n",
       "</div>"
      ],
      "text/plain": [
       "     term_italian  is_base base_lemma_italian base_lemma_english  \\\n",
       "4053          gli     True                gli     to him/to them   \n",
       "4186          gli    False                 il                the   \n",
       "\n",
       "     part_of_speech                                translation_english  \\\n",
       "4053        pronoun                                             to him   \n",
       "4186        article  the (masculine plural, before vowels, s+conson...   \n",
       "\n",
       "            topics          subtype person_number     gender  ...  \\\n",
       "4053  core,pronoun  indirect_object            3s  masculine  ...   \n",
       "4186  core,grammar         definite           NaN  masculine  ...   \n",
       "\n",
       "     is_superlative is_compound article_type  article_italian  \\\n",
       "4053          False       False          NaN              NaN   \n",
       "4186          False       False          NaN              NaN   \n",
       "\n",
       "      added_particle_italian preposition  \\\n",
       "4053                     NaN         NaN   \n",
       "4186                     NaN         NaN   \n",
       "\n",
       "                                                  notes  \\\n",
       "4053  clitic indirect object pronoun; placed before ...   \n",
       "4186  before vowels, s+consonant, z, gn, ps, x, y (m...   \n",
       "\n",
       "     example_sentence_italian   example_sentence_english                  base  \n",
       "4053     Io gli parlo adesso.  I am speaking to him now.  gli - to him/to them  \n",
       "4186       Vedo gli studenti.        I see the students.              il - the  \n",
       "\n",
       "[2 rows x 24 columns]"
      ]
     },
     "execution_count": 66,
     "metadata": {},
     "output_type": "execute_result"
    }
   ],
   "source": [
    "all_df[all_df['term_italian'] == 'gli']"
   ]
  },
  {
   "cell_type": "code",
   "execution_count": 67,
   "metadata": {},
   "outputs": [],
   "source": [
    "# find_translation(all_df, 'crogiolò', min_similarity=0.8)\n",
    "# find_translation(all_df, 'little', min_similarity=0.9)"
   ]
  },
  {
   "cell_type": "code",
   "execution_count": 68,
   "metadata": {},
   "outputs": [
    {
     "data": {
      "text/plain": [
       "\"si [['yes', 'himself/herself/itself/themselves/yourself (formal)']] trovava [he was finding/she was finding/you (formal) were finding] sulla [on the] collina [hill] che [['that', 'who/that/which']] dominava [he was dominating/she was dominating/you (formal) were dominating] il [the (masculine singular)] villaggio [village] alcune [some] delle [['some', 'of the']] finestre [windows] erano [they were] inchiodate [['nailed/slammed on the brakes', 'nailed (feminine plural)']] al [to the (masculine singular)] tetto [roof] mancavano [they were missing] delle [['some', 'of the']] tegole [roof tiles] e [['and', 'he is/she is/you (formal) are']] l'edera [the ivy] cresceva [he was growing/she was growing/you (formal) were growing] incolta [uncultivated (feminine)] sulla [on the] facciata [facade] \""
      ]
     },
     "execution_count": 68,
     "metadata": {},
     "output_type": "execute_result"
    }
   ],
   "source": [
    "def get_trans(word_italian):\n",
    "    ret = find_translation(all_df, word_italian, min_similarity=0.8)\n",
    "    if ret is None:\n",
    "        return word_italian, None, None\n",
    "    it, en = ret\n",
    "    return word_italian, it, en\n",
    "sentence_english_trans = [\n",
    "    get_trans(word) for word in sentence_italian_words\n",
    "]\n",
    "new_sentence = ''\n",
    "for original_word, match_it, match_en in sentence_english_trans:\n",
    "    new_sentence += f\"{original_word} [{match_en}] \"\n",
    "new_sentence"
   ]
  },
  {
   "cell_type": "code",
   "execution_count": null,
   "metadata": {},
   "outputs": [
    {
     "data": {
      "text/plain": [
       "['gli',\n",
       " 'abitanti',\n",
       " 'di',\n",
       " 'little',\n",
       " 'hangleton',\n",
       " 'la',\n",
       " 'chiamavano',\n",
       " 'ancora',\n",
       " 'casa',\n",
       " 'riddle',\n",
       " 'anche',\n",
       " 'se',\n",
       " 'erano',\n",
       " 'passati',\n",
       " 'tanti',\n",
       " 'anni',\n",
       " 'da',\n",
       " 'quando',\n",
       " 'i',\n",
       " 'riddle',\n",
       " 'ci',\n",
       " 'abitavano']"
      ]
     },
     "execution_count": 32,
     "metadata": {},
     "output_type": "execute_result"
    }
   ],
   "source": [
    "sentence_italian_words"
   ]
  },
  {
   "cell_type": "code",
   "execution_count": 36,
   "metadata": {},
   "outputs": [
    {
     "name": "stdout",
     "output_type": "stream",
     "text": [
      "ancora - ('ancora', ['anchor', 'he anchors/she anchors/you (formal) anchor', 'still/again/yet'])\n"
     ]
    }
   ],
   "source": [
    "i = 7\n",
    "it_word = sentence_1_italian_words[i]\n",
    "print(f\"{it_word} - {find_translation(all_df, it_word, min_similarity=0.8)}\")"
   ]
  },
  {
   "cell_type": "code",
   "execution_count": null,
   "metadata": {},
   "outputs": [],
   "source": []
  }
 ],
 "metadata": {
  "kernelspec": {
   "display_name": "venv",
   "language": "python",
   "name": "python3"
  },
  "language_info": {
   "codemirror_mode": {
    "name": "ipython",
    "version": 3
   },
   "file_extension": ".py",
   "mimetype": "text/x-python",
   "name": "python",
   "nbconvert_exporter": "python",
   "pygments_lexer": "ipython3",
   "version": "3.12.8"
  }
 },
 "nbformat": 4,
 "nbformat_minor": 2
}
