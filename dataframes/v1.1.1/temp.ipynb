{
 "cells": [
  {
   "cell_type": "code",
   "execution_count": 14,
   "metadata": {},
   "outputs": [],
   "source": [
    "import os\n",
    "import pandas as pd"
   ]
  },
  {
   "cell_type": "code",
   "execution_count": 15,
   "metadata": {},
   "outputs": [],
   "source": [
    "# df0 = pd.read_csv('/Users/stevie/repos/lingo_kit_data/dataframes/v1.1.1/dataframes/verb/essere.csv')\n",
    "# df1 = pd.read_csv('/Users/stevie/repos/lingo_kit_data/dataframes/v1.1.1/dataframes/verb/essere_1.csv')\n",
    "# df2 = pd.read_csv('/Users/stevie/repos/lingo_kit_data/dataframes/v1.1.1/dataframes/verb/essere_2.csv')\n",
    "\n",
    "df0 = pd.read_csv('/Users/stevie/repos/lingo_kit_data/dataframes/v1.1.1/dataframes/verb/subire.csv')\n",
    "df1 = pd.read_csv('/Users/stevie/repos/lingo_kit_data/dataframes/v1.1.1/dataframes/verb/subire_1.csv')"
   ]
  },
  {
   "cell_type": "code",
   "execution_count": 16,
   "metadata": {},
   "outputs": [],
   "source": [
    "s0 = set(df0['term_italian'])\n",
    "s1 = set(df1['term_italian'])\n",
    "# s2 = set(df2['term_italian'])"
   ]
  },
  {
   "cell_type": "code",
   "execution_count": 17,
   "metadata": {},
   "outputs": [
    {
     "data": {
      "text/plain": [
       "Index(['term_italian', 'is_base', 'base_lemma_italian', 'base_lemma_english',\n",
       "       'part_of_speech', 'translation_english', 'topics', 'subtype',\n",
       "       'person_number', 'gender', 'plurality', 'mood', 'tense',\n",
       "       'is_comparative', 'is_superlative', 'is_compound', 'article_type',\n",
       "       'article_italian', 'added_particle_italian', 'preposition', 'notes',\n",
       "       'example_sentence_italian', 'example_sentence_english'],\n",
       "      dtype='object')"
      ]
     },
     "execution_count": 17,
     "metadata": {},
     "output_type": "execute_result"
    }
   ],
   "source": [
    "df0.columns"
   ]
  },
  {
   "cell_type": "code",
   "execution_count": 18,
   "metadata": {},
   "outputs": [
    {
     "data": {
      "text/plain": [
       "set()"
      ]
     },
     "execution_count": 18,
     "metadata": {},
     "output_type": "execute_result"
    }
   ],
   "source": [
    "s1 - s0"
   ]
  },
  {
   "cell_type": "code",
   "execution_count": 13,
   "metadata": {},
   "outputs": [
    {
     "data": {
      "text/plain": [
       "{'era',\n",
       " 'erano',\n",
       " 'eravamo',\n",
       " 'eravate',\n",
       " 'eri',\n",
       " 'ero',\n",
       " 'essendo',\n",
       " 'essere',\n",
       " 'fu',\n",
       " 'sei',\n",
       " 'sei stata',\n",
       " 'sei stato',\n",
       " 'sia',\n",
       " 'siamo',\n",
       " 'siamo state',\n",
       " 'siamo stati',\n",
       " 'siano',\n",
       " 'siate',\n",
       " 'siete',\n",
       " 'siete state',\n",
       " 'siete stati',\n",
       " 'sono',\n",
       " 'sono stata',\n",
       " 'sono state',\n",
       " 'sono stati',\n",
       " 'sono stato',\n",
       " 'stata',\n",
       " 'state',\n",
       " 'stati',\n",
       " 'stato',\n",
       " 'è',\n",
       " 'è stata',\n",
       " 'è stato'}"
      ]
     },
     "execution_count": 13,
     "metadata": {},
     "output_type": "execute_result"
    }
   ],
   "source": [
    "s2 - s0"
   ]
  },
  {
   "cell_type": "code",
   "execution_count": null,
   "metadata": {},
   "outputs": [],
   "source": []
  }
 ],
 "metadata": {
  "kernelspec": {
   "display_name": "venv",
   "language": "python",
   "name": "python3"
  },
  "language_info": {
   "codemirror_mode": {
    "name": "ipython",
    "version": 3
   },
   "file_extension": ".py",
   "mimetype": "text/x-python",
   "name": "python",
   "nbconvert_exporter": "python",
   "pygments_lexer": "ipython3",
   "version": "3.12.8"
  }
 },
 "nbformat": 4,
 "nbformat_minor": 2
}
