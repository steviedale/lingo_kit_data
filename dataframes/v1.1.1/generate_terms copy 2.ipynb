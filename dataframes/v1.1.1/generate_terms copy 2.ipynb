{
 "cells": [
  {
   "cell_type": "code",
   "execution_count": null,
   "metadata": {},
   "outputs": [],
   "source": [
    "import os\n",
    "from tqdm import tqdm\n",
    "import pandas as pd\n",
    "import sys\n",
    "sys.path.append('/Users/stevie/repos/lingo_kit_data/dataframes/v1.1.1/generator')\n",
    "from generator.generate_with_chatgpt import generate_csv\n",
    "from csv_helper import get_all_terms_df"
   ]
  },
  {
   "cell_type": "code",
   "execution_count": null,
   "metadata": {},
   "outputs": [],
   "source": [
    "italian_words = [\n",
    "    'cuoco',\n",
    "]"
   ]
  },
  {
   "cell_type": "code",
   "execution_count": null,
   "metadata": {},
   "outputs": [],
   "source": [
    "response_list = []\n",
    "generated_files_list = []\n",
    "cost_info_list = []\n",
    "for term_it in tqdm(italian_words):\n",
    "\n",
    "    all_df = get_all_terms_df()\n",
    "    if term_it.lower() in all_df['term_italian'].str.lower().values:\n",
    "        print(f\"Skipping term '{term_it}' as it already exists in the dataset.\")\n",
    "        continue\n",
    "\n",
    "    attempt_count = 0\n",
    "    for attempt_count in range(3):\n",
    "        try:\n",
    "            print(f\"Attempt {attempt_count + 1} for term: {term_it}\")\n",
    "            response, generated_files, cost_info = generate_csv(\n",
    "                italian_term=term_it,\n",
    "                # model='gpt-5-mini',\n",
    "                model='gpt-5',\n",
    "                reasoning_effort='medium',\n",
    "            )\n",
    "            response_list.append(response)\n",
    "            generated_files_list.extend(generated_files)\n",
    "            cost_info_list.append(cost_info)\n",
    "            print(f\"cost of this call: {cost_info['total_cost']}\")\n",
    "            break  # Exit the retry loop if successful\n",
    "        except pd.errors.ParserError as e:\n",
    "            print(f\"ParserError on attempt {attempt_count + 1} for term '{term_it}': {e}\")\n",
    "            if attempt_count == 2:\n",
    "                print(f\"Failed to process term '{term_it}' after 3 attempts.\")\n",
    "        except Exception as e:\n",
    "            print(f\"Error on attempt {attempt_count + 1} for term '{term_it}': {e}\")\n",
    "            if attempt_count == 2:\n",
    "                print(f\"Failed to process term '{term_it}' after 3 attempts.\")"
   ]
  },
  {
   "cell_type": "code",
   "execution_count": null,
   "metadata": {},
   "outputs": [],
   "source": [
    "response_list"
   ]
  },
  {
   "cell_type": "code",
   "execution_count": null,
   "metadata": {},
   "outputs": [],
   "source": [
    "generated_files_list"
   ]
  },
  {
   "cell_type": "code",
   "execution_count": null,
   "metadata": {},
   "outputs": [],
   "source": [
    "cost_info_list"
   ]
  },
  {
   "cell_type": "code",
   "execution_count": null,
   "metadata": {},
   "outputs": [],
   "source": []
  }
 ],
 "metadata": {
  "kernelspec": {
   "display_name": "venv",
   "language": "python",
   "name": "python3"
  },
  "language_info": {
   "codemirror_mode": {
    "name": "ipython",
    "version": 3
   },
   "file_extension": ".py",
   "mimetype": "text/x-python",
   "name": "python",
   "nbconvert_exporter": "python",
   "pygments_lexer": "ipython3",
   "version": "3.12.8"
  }
 },
 "nbformat": 4,
 "nbformat_minor": 2
}
